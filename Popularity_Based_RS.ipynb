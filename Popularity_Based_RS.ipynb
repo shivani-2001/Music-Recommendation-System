{
 "cells": [
  {
   "cell_type": "code",
   "execution_count": 1,
   "id": "244f17de",
   "metadata": {},
   "outputs": [],
   "source": [
    "# Step 1: load the triplets and compute song counts\n",
    "with open('kaggle/kaggle_visible_evaluation_triplets.txt', 'r') as f:\n",
    "    song_to_count = dict() \n",
    "    for line in f:\n",
    "        _, song, _ = line.strip().split('\\t') \n",
    "        if song in song_to_count: \n",
    "            song_to_count[song] += 1 \n",
    "        else: \n",
    "            song_to_count[song] = 1 \n",
    "            pass\n",
    "        pass\n",
    "    pass"
   ]
  },
  {
   "cell_type": "code",
   "execution_count": 2,
   "id": "1c9dd93e",
   "metadata": {},
   "outputs": [],
   "source": [
    "# Step 2: sort by popularity\n",
    "songs_ordered = sorted(song_to_count.keys(), key=lambda s: song_to_count[s], reverse=True)"
   ]
  },
  {
   "cell_type": "code",
   "execution_count": 3,
   "id": "4ca529b7",
   "metadata": {},
   "outputs": [],
   "source": [
    "# Step 3: load the user histories\n",
    "with open('kaggle/kaggle_visible_evaluation_triplets.txt', 'r') as f:\n",
    "    user_to_songs = dict() \n",
    "    for line in f:\n",
    "        user, song, _ = line.strip().split('\\t') \n",
    "        if user in user_to_songs: \n",
    "            user_to_songs[user].add(song) \n",
    "        else: \n",
    "            user_to_songs[user] = set([song])\n",
    "            pass\n",
    "        pass\n",
    "    pass"
   ]
  },
  {
   "cell_type": "code",
   "execution_count": 4,
   "id": "c4547a2b",
   "metadata": {},
   "outputs": [],
   "source": [
    "# Step 4: load the user ordering\n",
    "with open('kaggle/kaggle_users.txt', 'r') as f:\n",
    "    canonical_users = map(lambda line: line.strip(), f.readlines()) \n",
    "    pass"
   ]
  },
  {
   "cell_type": "code",
   "execution_count": 5,
   "id": "78f3baff",
   "metadata": {},
   "outputs": [],
   "source": [
    "# Step 5: load the song ordering\n",
    "with open('kaggle/kaggle_songs.txt', 'r') as f:\n",
    "    song_to_index = dict(map(lambda line: line.strip().split(' '), f.readlines())) \n",
    "    pass"
   ]
  },
  {
   "cell_type": "code",
   "execution_count": 6,
   "id": "f6e6c72c",
   "metadata": {},
   "outputs": [],
   "source": [
    "# Step 6: generate the prediction file\n",
    "with open('kaggle/submission_getting_started.txt', 'w') as f:\n",
    "    for user in canonical_users:\n",
    "        songs_to_recommend  = [] \n",
    "\n",
    "        for song in songs_ordered: \n",
    "            if len(songs_to_recommend) >= 500: \n",
    "                break \n",
    "            if not song in user_to_songs[user]: \n",
    "                songs_to_recommend.append(song) \n",
    "                pass\n",
    "        \n",
    "        # Transform song IDs to song indexes \n",
    "        indices = map(lambda s: song_to_index[s], songs_to_recommend) \n",
    "        \n",
    "        # Write line for that user \n",
    "        f.write(' '.join(indices) + '\\n') \n",
    "        pass\n",
    "    pass"
   ]
  }
 ],
 "metadata": {
  "kernelspec": {
   "display_name": "Python 3",
   "language": "python",
   "name": "python3"
  },
  "language_info": {
   "codemirror_mode": {
    "name": "ipython",
    "version": 3
   },
   "file_extension": ".py",
   "mimetype": "text/x-python",
   "name": "python",
   "nbconvert_exporter": "python",
   "pygments_lexer": "ipython3",
   "version": "3.8.5"
  }
 },
 "nbformat": 4,
 "nbformat_minor": 5
}
