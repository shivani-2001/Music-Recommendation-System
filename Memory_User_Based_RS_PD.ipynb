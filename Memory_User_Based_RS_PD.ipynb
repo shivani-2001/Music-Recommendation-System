{
 "cells": [
  {
   "cell_type": "markdown",
   "id": "5e2eb615",
   "metadata": {
    "id": "fc39c2e6"
   },
   "source": [
    "<center><h2> Collaborative Memory Based Recommendation system </center></h2>\n",
    "\n",
    "In the memory-based approach, we try to predict a user’s preference based on the ratings given by other similar users or received by other similar items.\n",
    "\n",
    "Memory-based approaches include: \n",
    "\n",
    "* user-based collaborative filtering,\n",
    "* item-based collaborative filtering"
   ]
  },
  {
   "cell_type": "code",
   "execution_count": 4,
   "id": "f11d50b5",
   "metadata": {
    "colab": {
     "base_uri": "https://localhost:8080/"
    },
    "executionInfo": {
     "elapsed": 23639,
     "status": "ok",
     "timestamp": 1624250188892,
     "user": {
      "displayName": "Dhaval Patel",
      "photoUrl": "",
      "userId": "04407112961930931722"
     },
     "user_tz": -330
    },
    "id": "BYgl8Eo81du2",
    "outputId": "922c4256-7888-4ea1-a098-6930f5bcb53c"
   },
   "outputs": [
    {
     "name": "stdout",
     "output_type": "stream",
     "text": [
      "Mounted at /content/drive\n"
     ]
    }
   ],
   "source": [
    "from google.colab import drive\n",
    "drive.mount('/content/drive')"
   ]
  },
  {
   "cell_type": "code",
   "execution_count": 5,
   "id": "9a5068f2",
   "metadata": {
    "executionInfo": {
     "elapsed": 490,
     "status": "ok",
     "timestamp": 1624250192325,
     "user": {
      "displayName": "Dhaval Patel",
      "photoUrl": "",
      "userId": "04407112961930931722"
     },
     "user_tz": -330
    },
    "id": "8fcf2d62"
   },
   "outputs": [],
   "source": [
    "import string\n",
    "import warnings\n",
    "import numpy as np\n",
    "import pandas as pd\n",
    "from sklearn import preprocessing\n",
    "from sklearn.metrics.pairwise import pairwise_distances \n",
    "from sklearn.model_selection import train_test_split\n",
    "warnings.filterwarnings('ignore')"
   ]
  },
  {
   "cell_type": "code",
   "execution_count": 6,
   "id": "ac0ba11c",
   "metadata": {
    "colab": {
     "base_uri": "https://localhost:8080/"
    },
    "executionInfo": {
     "elapsed": 9,
     "status": "ok",
     "timestamp": 1624250192805,
     "user": {
      "displayName": "Dhaval Patel",
      "photoUrl": "",
      "userId": "04407112961930931722"
     },
     "user_tz": -330
    },
    "id": "f4xl6tma1wxO",
    "outputId": "393c3796-4a63-46db-862e-5dfe75990c83"
   },
   "outputs": [
    {
     "name": "stdout",
     "output_type": "stream",
     "text": [
      "/content/drive/MyDrive/Colab Notebooks/rs\n"
     ]
    }
   ],
   "source": [
    "cd drive/MyDrive/Colab Notebooks/rs"
   ]
  },
  {
   "cell_type": "code",
   "execution_count": 7,
   "id": "3c66306d",
   "metadata": {
    "colab": {
     "base_uri": "https://localhost:8080/",
     "height": 270
    },
    "executionInfo": {
     "elapsed": 6071,
     "status": "ok",
     "timestamp": 1624250201366,
     "user": {
      "displayName": "Dhaval Patel",
      "photoUrl": "",
      "userId": "04407112961930931722"
     },
     "user_tz": -330
    },
    "id": "da09ce8e",
    "outputId": "e7648436-d6f5-44c3-b622-c112ae6e2437"
   },
   "outputs": [
    {
     "data": {
      "text/html": [
       "<div>\n",
       "<style scoped>\n",
       "    .dataframe tbody tr th:only-of-type {\n",
       "        vertical-align: middle;\n",
       "    }\n",
       "\n",
       "    .dataframe tbody tr th {\n",
       "        vertical-align: top;\n",
       "    }\n",
       "\n",
       "    .dataframe thead th {\n",
       "        text-align: right;\n",
       "    }\n",
       "</style>\n",
       "<table border=\"1\" class=\"dataframe\">\n",
       "  <thead>\n",
       "    <tr style=\"text-align: right;\">\n",
       "      <th></th>\n",
       "      <th>user</th>\n",
       "      <th>song</th>\n",
       "      <th>play_count</th>\n",
       "      <th>track_id</th>\n",
       "      <th>artist</th>\n",
       "      <th>title</th>\n",
       "    </tr>\n",
       "  </thead>\n",
       "  <tbody>\n",
       "    <tr>\n",
       "      <th>0</th>\n",
       "      <td>fd50c4007b68a3737fe052d5a4f78ce8aa117f3d</td>\n",
       "      <td>SOBONKR12A58A7A7E0</td>\n",
       "      <td>1</td>\n",
       "      <td>TRAEHHJ12903CF492F</td>\n",
       "      <td>Dwight Yoakam</td>\n",
       "      <td>You're The One</td>\n",
       "    </tr>\n",
       "    <tr>\n",
       "      <th>1</th>\n",
       "      <td>fd50c4007b68a3737fe052d5a4f78ce8aa117f3d</td>\n",
       "      <td>SOEGIYH12A6D4FC0E3</td>\n",
       "      <td>1</td>\n",
       "      <td>TRLGMFJ128F4217DBE</td>\n",
       "      <td>Barry Tuckwell/Academy of St Martin-in-the-Fie...</td>\n",
       "      <td>Horn Concerto No. 4 in E flat K495: II. Romanc...</td>\n",
       "    </tr>\n",
       "    <tr>\n",
       "      <th>2</th>\n",
       "      <td>fd50c4007b68a3737fe052d5a4f78ce8aa117f3d</td>\n",
       "      <td>SOFLJQZ12A6D4FADA6</td>\n",
       "      <td>1</td>\n",
       "      <td>TRTNDNE128F1486812</td>\n",
       "      <td>Cartola</td>\n",
       "      <td>Tive Sim</td>\n",
       "    </tr>\n",
       "    <tr>\n",
       "      <th>3</th>\n",
       "      <td>fd50c4007b68a3737fe052d5a4f78ce8aa117f3d</td>\n",
       "      <td>SOHTKMO12AB01843B0</td>\n",
       "      <td>1</td>\n",
       "      <td>TRASTUE128F930D488</td>\n",
       "      <td>Lonnie Gordon</td>\n",
       "      <td>Catch You Baby (Steve Pitron &amp; Max Sanna Radio...</td>\n",
       "    </tr>\n",
       "    <tr>\n",
       "      <th>4</th>\n",
       "      <td>fd50c4007b68a3737fe052d5a4f78ce8aa117f3d</td>\n",
       "      <td>SODQZCY12A6D4F9D11</td>\n",
       "      <td>1</td>\n",
       "      <td>TRFPLWO128F1486B9E</td>\n",
       "      <td>Miguel Calo</td>\n",
       "      <td>El Cuatrero</td>\n",
       "    </tr>\n",
       "  </tbody>\n",
       "</table>\n",
       "</div>"
      ],
      "text/plain": [
       "                                       user  ...                                              title\n",
       "0  fd50c4007b68a3737fe052d5a4f78ce8aa117f3d  ...                                     You're The One\n",
       "1  fd50c4007b68a3737fe052d5a4f78ce8aa117f3d  ...  Horn Concerto No. 4 in E flat K495: II. Romanc...\n",
       "2  fd50c4007b68a3737fe052d5a4f78ce8aa117f3d  ...                                           Tive Sim\n",
       "3  fd50c4007b68a3737fe052d5a4f78ce8aa117f3d  ...  Catch You Baby (Steve Pitron & Max Sanna Radio...\n",
       "4  fd50c4007b68a3737fe052d5a4f78ce8aa117f3d  ...                                        El Cuatrero\n",
       "\n",
       "[5 rows x 6 columns]"
      ]
     },
     "execution_count": 7,
     "metadata": {
      "tags": []
     },
     "output_type": "execute_result"
    }
   ],
   "source": [
    "song_data = pd.read_csv(\"song_data.txt\", sep = ',')\n",
    "song_data.head()"
   ]
  },
  {
   "cell_type": "code",
   "execution_count": 8,
   "id": "a9c303b4",
   "metadata": {
    "executionInfo": {
     "elapsed": 638,
     "status": "ok",
     "timestamp": 1624250205174,
     "user": {
      "displayName": "Dhaval Patel",
      "photoUrl": "",
      "userId": "04407112961930931722"
     },
     "user_tz": -330
    },
    "id": "9ecf88b8"
   },
   "outputs": [],
   "source": [
    "song_data1 = song_data[['user', 'song', 'play_count', 'title']]"
   ]
  },
  {
   "cell_type": "code",
   "execution_count": 9,
   "id": "df6eaf0b",
   "metadata": {
    "colab": {
     "base_uri": "https://localhost:8080/",
     "height": 417
    },
    "executionInfo": {
     "elapsed": 9,
     "status": "ok",
     "timestamp": 1624250205703,
     "user": {
      "displayName": "Dhaval Patel",
      "photoUrl": "",
      "userId": "04407112961930931722"
     },
     "user_tz": -330
    },
    "id": "08566f74",
    "outputId": "3939ba59-26d7-4ac0-a357-0efa1d302d41"
   },
   "outputs": [
    {
     "data": {
      "text/html": [
       "<div>\n",
       "<style scoped>\n",
       "    .dataframe tbody tr th:only-of-type {\n",
       "        vertical-align: middle;\n",
       "    }\n",
       "\n",
       "    .dataframe tbody tr th {\n",
       "        vertical-align: top;\n",
       "    }\n",
       "\n",
       "    .dataframe thead th {\n",
       "        text-align: right;\n",
       "    }\n",
       "</style>\n",
       "<table border=\"1\" class=\"dataframe\">\n",
       "  <thead>\n",
       "    <tr style=\"text-align: right;\">\n",
       "      <th></th>\n",
       "      <th>user</th>\n",
       "      <th>song</th>\n",
       "      <th>play_count</th>\n",
       "      <th>title</th>\n",
       "    </tr>\n",
       "  </thead>\n",
       "  <tbody>\n",
       "    <tr>\n",
       "      <th>0</th>\n",
       "      <td>fd50c4007b68a3737fe052d5a4f78ce8aa117f3d</td>\n",
       "      <td>SOBONKR12A58A7A7E0</td>\n",
       "      <td>1</td>\n",
       "      <td>You're The One</td>\n",
       "    </tr>\n",
       "    <tr>\n",
       "      <th>1</th>\n",
       "      <td>fd50c4007b68a3737fe052d5a4f78ce8aa117f3d</td>\n",
       "      <td>SOEGIYH12A6D4FC0E3</td>\n",
       "      <td>1</td>\n",
       "      <td>Horn Concerto No. 4 in E flat K495: II. Romanc...</td>\n",
       "    </tr>\n",
       "    <tr>\n",
       "      <th>2</th>\n",
       "      <td>fd50c4007b68a3737fe052d5a4f78ce8aa117f3d</td>\n",
       "      <td>SOFLJQZ12A6D4FADA6</td>\n",
       "      <td>1</td>\n",
       "      <td>Tive Sim</td>\n",
       "    </tr>\n",
       "    <tr>\n",
       "      <th>3</th>\n",
       "      <td>fd50c4007b68a3737fe052d5a4f78ce8aa117f3d</td>\n",
       "      <td>SOHTKMO12AB01843B0</td>\n",
       "      <td>1</td>\n",
       "      <td>Catch You Baby (Steve Pitron &amp; Max Sanna Radio...</td>\n",
       "    </tr>\n",
       "    <tr>\n",
       "      <th>4</th>\n",
       "      <td>fd50c4007b68a3737fe052d5a4f78ce8aa117f3d</td>\n",
       "      <td>SODQZCY12A6D4F9D11</td>\n",
       "      <td>1</td>\n",
       "      <td>El Cuatrero</td>\n",
       "    </tr>\n",
       "    <tr>\n",
       "      <th>...</th>\n",
       "      <td>...</td>\n",
       "      <td>...</td>\n",
       "      <td>...</td>\n",
       "      <td>...</td>\n",
       "    </tr>\n",
       "    <tr>\n",
       "      <th>1450928</th>\n",
       "      <td>5e650759ebf89012044c6d52121eeada8b0ec814</td>\n",
       "      <td>SOVLNXV12A6D4F706E</td>\n",
       "      <td>1</td>\n",
       "      <td>Ms. Fat Booty</td>\n",
       "    </tr>\n",
       "    <tr>\n",
       "      <th>1450929</th>\n",
       "      <td>5e650759ebf89012044c6d52121eeada8b0ec814</td>\n",
       "      <td>SOVDSJC12A58A7A271</td>\n",
       "      <td>2</td>\n",
       "      <td>Ain't Misbehavin</td>\n",
       "    </tr>\n",
       "    <tr>\n",
       "      <th>1450930</th>\n",
       "      <td>5e650759ebf89012044c6d52121eeada8b0ec814</td>\n",
       "      <td>SOBRHVR12A8C133F35</td>\n",
       "      <td>2</td>\n",
       "      <td>Luvstruck</td>\n",
       "    </tr>\n",
       "    <tr>\n",
       "      <th>1450931</th>\n",
       "      <td>5e650759ebf89012044c6d52121eeada8b0ec814</td>\n",
       "      <td>SOMGVYU12A8C1314FF</td>\n",
       "      <td>2</td>\n",
       "      <td>Sinisten tähtien alla</td>\n",
       "    </tr>\n",
       "    <tr>\n",
       "      <th>1450932</th>\n",
       "      <td>5e650759ebf89012044c6d52121eeada8b0ec814</td>\n",
       "      <td>SOTCMDJ12A6D4F8528</td>\n",
       "      <td>3</td>\n",
       "      <td>The Gift</td>\n",
       "    </tr>\n",
       "  </tbody>\n",
       "</table>\n",
       "<p>1450933 rows × 4 columns</p>\n",
       "</div>"
      ],
      "text/plain": [
       "                                             user  ...                                              title\n",
       "0        fd50c4007b68a3737fe052d5a4f78ce8aa117f3d  ...                                     You're The One\n",
       "1        fd50c4007b68a3737fe052d5a4f78ce8aa117f3d  ...  Horn Concerto No. 4 in E flat K495: II. Romanc...\n",
       "2        fd50c4007b68a3737fe052d5a4f78ce8aa117f3d  ...                                           Tive Sim\n",
       "3        fd50c4007b68a3737fe052d5a4f78ce8aa117f3d  ...  Catch You Baby (Steve Pitron & Max Sanna Radio...\n",
       "4        fd50c4007b68a3737fe052d5a4f78ce8aa117f3d  ...                                        El Cuatrero\n",
       "...                                           ...  ...                                                ...\n",
       "1450928  5e650759ebf89012044c6d52121eeada8b0ec814  ...                                      Ms. Fat Booty\n",
       "1450929  5e650759ebf89012044c6d52121eeada8b0ec814  ...                                   Ain't Misbehavin\n",
       "1450930  5e650759ebf89012044c6d52121eeada8b0ec814  ...                                          Luvstruck\n",
       "1450931  5e650759ebf89012044c6d52121eeada8b0ec814  ...                              Sinisten tähtien alla\n",
       "1450932  5e650759ebf89012044c6d52121eeada8b0ec814  ...                                           The Gift\n",
       "\n",
       "[1450933 rows x 4 columns]"
      ]
     },
     "execution_count": 9,
     "metadata": {
      "tags": []
     },
     "output_type": "execute_result"
    }
   ],
   "source": [
    "song_data1"
   ]
  },
  {
   "cell_type": "code",
   "execution_count": 10,
   "id": "8c9b45ca",
   "metadata": {
    "executionInfo": {
     "elapsed": 3,
     "status": "ok",
     "timestamp": 1624250206879,
     "user": {
      "displayName": "Dhaval Patel",
      "photoUrl": "",
      "userId": "04407112961930931722"
     },
     "user_tz": -330
    },
    "id": "e26930af"
   },
   "outputs": [],
   "source": [
    "song_data1 = song_data1[:200000]"
   ]
  },
  {
   "cell_type": "code",
   "execution_count": 11,
   "id": "f3b7b381",
   "metadata": {
    "executionInfo": {
     "elapsed": 804,
     "status": "ok",
     "timestamp": 1624250208417,
     "user": {
      "displayName": "Dhaval Patel",
      "photoUrl": "",
      "userId": "04407112961930931722"
     },
     "user_tz": -330
    },
    "id": "04fa9c08"
   },
   "outputs": [],
   "source": [
    "encoding_user_song = preprocessing.OrdinalEncoder()\n",
    "song_data1['user_id'] = encoding_user_song.fit_transform(song_data1[['user']])\n",
    "song_data1['song_id'] = encoding_user_song.fit_transform(song_data1[['song']])"
   ]
  },
  {
   "cell_type": "code",
   "execution_count": 12,
   "id": "c4dc859a",
   "metadata": {
    "executionInfo": {
     "elapsed": 20,
     "status": "ok",
     "timestamp": 1624250208418,
     "user": {
      "displayName": "Dhaval Patel",
      "photoUrl": "",
      "userId": "04407112961930931722"
     },
     "user_tz": -330
    },
    "id": "f5504edf"
   },
   "outputs": [],
   "source": [
    "song_data1['user_id'] = song_data1['user_id'].astype('int')\n",
    "song_data1['song_id'] = song_data1['song_id'].astype('int')"
   ]
  },
  {
   "cell_type": "code",
   "execution_count": 13,
   "id": "a78496c3",
   "metadata": {
    "executionInfo": {
     "elapsed": 2,
     "status": "ok",
     "timestamp": 1624250209158,
     "user": {
      "displayName": "Dhaval Patel",
      "photoUrl": "",
      "userId": "04407112961930931722"
     },
     "user_tz": -330
    },
    "id": "5098ff1b"
   },
   "outputs": [],
   "source": [
    "train, test = train_test_split(song_data1, test_size=0.30, random_state=31)"
   ]
  },
  {
   "cell_type": "code",
   "execution_count": 14,
   "id": "0fe4fac8",
   "metadata": {
    "colab": {
     "base_uri": "https://localhost:8080/",
     "height": 203
    },
    "executionInfo": {
     "elapsed": 6,
     "status": "ok",
     "timestamp": 1624250209882,
     "user": {
      "displayName": "Dhaval Patel",
      "photoUrl": "",
      "userId": "04407112961930931722"
     },
     "user_tz": -330
    },
    "id": "c7985da4",
    "outputId": "5f7a0969-145d-4266-9789-53aadb0d9364"
   },
   "outputs": [
    {
     "data": {
      "text/html": [
       "<div>\n",
       "<style scoped>\n",
       "    .dataframe tbody tr th:only-of-type {\n",
       "        vertical-align: middle;\n",
       "    }\n",
       "\n",
       "    .dataframe tbody tr th {\n",
       "        vertical-align: top;\n",
       "    }\n",
       "\n",
       "    .dataframe thead th {\n",
       "        text-align: right;\n",
       "    }\n",
       "</style>\n",
       "<table border=\"1\" class=\"dataframe\">\n",
       "  <thead>\n",
       "    <tr style=\"text-align: right;\">\n",
       "      <th></th>\n",
       "      <th>user</th>\n",
       "      <th>song</th>\n",
       "      <th>play_count</th>\n",
       "      <th>title</th>\n",
       "      <th>user_id</th>\n",
       "      <th>song_id</th>\n",
       "    </tr>\n",
       "  </thead>\n",
       "  <tbody>\n",
       "    <tr>\n",
       "      <th>134777</th>\n",
       "      <td>75832aeeaad3c9292b670b736548b02c3c5ce7ba</td>\n",
       "      <td>SOMESIV12A6D4FC6F2</td>\n",
       "      <td>5</td>\n",
       "      <td>The Kindness Of Strangers</td>\n",
       "      <td>6894</td>\n",
       "      <td>30892</td>\n",
       "    </tr>\n",
       "    <tr>\n",
       "      <th>38143</th>\n",
       "      <td>7acceea3d238b5b92fb1d8ae89b7e96d4fd31435</td>\n",
       "      <td>SOVFBUL12A58A7B498</td>\n",
       "      <td>19</td>\n",
       "      <td>Naughty Girl</td>\n",
       "      <td>7222</td>\n",
       "      <td>52096</td>\n",
       "    </tr>\n",
       "    <tr>\n",
       "      <th>123781</th>\n",
       "      <td>28e746dacaa2255ddb4f1e474172970a3f515875</td>\n",
       "      <td>SOBADEB12AB018275F</td>\n",
       "      <td>1</td>\n",
       "      <td>Imma Be</td>\n",
       "      <td>2357</td>\n",
       "      <td>2694</td>\n",
       "    </tr>\n",
       "    <tr>\n",
       "      <th>95253</th>\n",
       "      <td>b904c9c1f9b27d90c84a3fbeebb0437ab09be586</td>\n",
       "      <td>SOZLWNB12AB0183C48</td>\n",
       "      <td>1</td>\n",
       "      <td>Memorial</td>\n",
       "      <td>10972</td>\n",
       "      <td>61684</td>\n",
       "    </tr>\n",
       "    <tr>\n",
       "      <th>142001</th>\n",
       "      <td>72306aabe072a8a716e375ef9d6aee1f412bc7ab</td>\n",
       "      <td>SOYKNOH12A6D4FA9C1</td>\n",
       "      <td>2</td>\n",
       "      <td>Scorpio (LP Version)</td>\n",
       "      <td>6691</td>\n",
       "      <td>59378</td>\n",
       "    </tr>\n",
       "  </tbody>\n",
       "</table>\n",
       "</div>"
      ],
      "text/plain": [
       "                                            user  ... song_id\n",
       "134777  75832aeeaad3c9292b670b736548b02c3c5ce7ba  ...   30892\n",
       "38143   7acceea3d238b5b92fb1d8ae89b7e96d4fd31435  ...   52096\n",
       "123781  28e746dacaa2255ddb4f1e474172970a3f515875  ...    2694\n",
       "95253   b904c9c1f9b27d90c84a3fbeebb0437ab09be586  ...   61684\n",
       "142001  72306aabe072a8a716e375ef9d6aee1f412bc7ab  ...   59378\n",
       "\n",
       "[5 rows x 6 columns]"
      ]
     },
     "execution_count": 14,
     "metadata": {
      "tags": []
     },
     "output_type": "execute_result"
    }
   ],
   "source": [
    "train.head()"
   ]
  },
  {
   "cell_type": "code",
   "execution_count": 15,
   "id": "e2b7205e",
   "metadata": {
    "colab": {
     "base_uri": "https://localhost:8080/"
    },
    "executionInfo": {
     "elapsed": 10,
     "status": "ok",
     "timestamp": 1624250210611,
     "user": {
      "displayName": "Dhaval Patel",
      "photoUrl": "",
      "userId": "04407112961930931722"
     },
     "user_tz": -330
    },
    "id": "77fc7da4",
    "outputId": "912458c9-d7d5-404e-df9f-4965c3843ed0"
   },
   "outputs": [
    {
     "data": {
      "text/plain": [
       "(200000, 6)"
      ]
     },
     "execution_count": 15,
     "metadata": {
      "tags": []
     },
     "output_type": "execute_result"
    }
   ],
   "source": [
    "song_data1.shape"
   ]
  },
  {
   "cell_type": "code",
   "execution_count": 16,
   "id": "c6674c66",
   "metadata": {
    "colab": {
     "base_uri": "https://localhost:8080/"
    },
    "executionInfo": {
     "elapsed": 10,
     "status": "ok",
     "timestamp": 1624250214770,
     "user": {
      "displayName": "Dhaval Patel",
      "photoUrl": "",
      "userId": "04407112961930931722"
     },
     "user_tz": -330
    },
    "id": "bd6bb2c5",
    "outputId": "e40112aa-c539-4a0e-90e8-97252be6478d"
   },
   "outputs": [
    {
     "name": "stdout",
     "output_type": "stream",
     "text": [
      "(140000, 6) (60000, 6)\n"
     ]
    }
   ],
   "source": [
    "print(train.shape, test.shape)"
   ]
  },
  {
   "cell_type": "code",
   "execution_count": 17,
   "id": "708df6a8",
   "metadata": {
    "executionInfo": {
     "elapsed": 8,
     "status": "ok",
     "timestamp": 1624250217969,
     "user": {
      "displayName": "Dhaval Patel",
      "photoUrl": "",
      "userId": "04407112961930931722"
     },
     "user_tz": -330
    },
    "id": "b9eee60f"
   },
   "outputs": [],
   "source": [
    "n_users = song_data1.user.nunique()\n",
    "n_items = song_data1.song.nunique()"
   ]
  },
  {
   "cell_type": "code",
   "execution_count": 18,
   "id": "55833622",
   "metadata": {
    "colab": {
     "base_uri": "https://localhost:8080/"
    },
    "executionInfo": {
     "elapsed": 4,
     "status": "ok",
     "timestamp": 1624250220367,
     "user": {
      "displayName": "Dhaval Patel",
      "photoUrl": "",
      "userId": "04407112961930931722"
     },
     "user_tz": -330
    },
    "id": "cd615ff7",
    "outputId": "6e16feeb-6fa7-4141-d3ef-6deb62553929"
   },
   "outputs": [
    {
     "name": "stdout",
     "output_type": "stream",
     "text": [
      "15101 62887\n"
     ]
    }
   ],
   "source": [
    "print(n_users, n_items)"
   ]
  },
  {
   "cell_type": "markdown",
   "id": "2b32f0f7",
   "metadata": {
    "id": "446b176a"
   },
   "source": [
    "<h3> User based Recommendation system </h3>"
   ]
  },
  {
   "cell_type": "markdown",
   "id": "1b36a53b",
   "metadata": {
    "id": "417ea6f2"
   },
   "source": [
    "<h4> Create empty data matrix: user*song </h4>"
   ]
  },
  {
   "cell_type": "code",
   "execution_count": 19,
   "id": "40825c33",
   "metadata": {
    "executionInfo": {
     "elapsed": 3468,
     "status": "ok",
     "timestamp": 1624250225994,
     "user": {
      "displayName": "Dhaval Patel",
      "photoUrl": "",
      "userId": "04407112961930931722"
     },
     "user_tz": -330
    },
    "id": "33b60a91"
   },
   "outputs": [],
   "source": [
    "data_matrix = np.zeros((n_users, n_items))"
   ]
  },
  {
   "cell_type": "markdown",
   "id": "6b79be05",
   "metadata": {
    "id": "0b535c9f"
   },
   "source": [
    "<h4> Fill user*song matrix with rating values </h4> "
   ]
  },
  {
   "cell_type": "code",
   "execution_count": 20,
   "id": "b7ae6d34",
   "metadata": {
    "executionInfo": {
     "elapsed": 13,
     "status": "ok",
     "timestamp": 1624250225995,
     "user": {
      "displayName": "Dhaval Patel",
      "photoUrl": "",
      "userId": "04407112961930931722"
     },
     "user_tz": -330
    },
    "id": "c2f41dc4"
   },
   "outputs": [],
   "source": [
    "for line in train.itertuples():\n",
    "    data_matrix[line[5]-1, line[6]-1] = line[3]"
   ]
  },
  {
   "cell_type": "code",
   "execution_count": 21,
   "id": "353b32c1",
   "metadata": {
    "colab": {
     "base_uri": "https://localhost:8080/"
    },
    "executionInfo": {
     "elapsed": 13,
     "status": "ok",
     "timestamp": 1624250225996,
     "user": {
      "displayName": "Dhaval Patel",
      "photoUrl": "",
      "userId": "04407112961930931722"
     },
     "user_tz": -330
    },
    "id": "b03c6d60",
    "outputId": "d6a32521-a283-4024-b9af-2d933f38d902"
   },
   "outputs": [
    {
     "data": {
      "text/plain": [
       "(15101, 62887)"
      ]
     },
     "execution_count": 21,
     "metadata": {
      "tags": []
     },
     "output_type": "execute_result"
    }
   ],
   "source": [
    "data_matrix.shape"
   ]
  },
  {
   "cell_type": "markdown",
   "id": "074c0b80",
   "metadata": {
    "id": "60a85d6b"
   },
   "source": [
    "<h3> Pairwise distance with cosine metric </h3>"
   ]
  },
  {
   "cell_type": "code",
   "execution_count": 22,
   "id": "23f31420",
   "metadata": {
    "executionInfo": {
     "elapsed": 137581,
     "status": "ok",
     "timestamp": 1624250363568,
     "user": {
      "displayName": "Dhaval Patel",
      "photoUrl": "",
      "userId": "04407112961930931722"
     },
     "user_tz": -330
    },
    "id": "1e7d12ec"
   },
   "outputs": [],
   "source": [
    "user_similarity = 1 - pairwise_distances(data_matrix, metric='cosine')"
   ]
  },
  {
   "cell_type": "code",
   "execution_count": 23,
   "id": "9daee111",
   "metadata": {
    "colab": {
     "base_uri": "https://localhost:8080/"
    },
    "executionInfo": {
     "elapsed": 8995,
     "status": "ok",
     "timestamp": 1624250372552,
     "user": {
      "displayName": "Dhaval Patel",
      "photoUrl": "",
      "userId": "04407112961930931722"
     },
     "user_tz": -330
    },
    "id": "6c36e3cd",
    "outputId": "edaed319-c3a9-4a0f-edb6-e78ea72bba61"
   },
   "outputs": [
    {
     "data": {
      "text/plain": [
       "array([0.00000000e+00, 8.29812631e-06, 1.22425762e-05, ...,\n",
       "       9.99478524e-01, 9.99839808e-01, 1.00000000e+00])"
      ]
     },
     "execution_count": 23,
     "metadata": {
      "tags": []
     },
     "output_type": "execute_result"
    }
   ],
   "source": [
    "\n",
    "np.unique(user_similarity)"
   ]
  },
  {
   "cell_type": "code",
   "execution_count": 24,
   "id": "f9e770fb",
   "metadata": {
    "colab": {
     "base_uri": "https://localhost:8080/"
    },
    "executionInfo": {
     "elapsed": 40,
     "status": "ok",
     "timestamp": 1624250372554,
     "user": {
      "displayName": "Dhaval Patel",
      "photoUrl": "",
      "userId": "04407112961930931722"
     },
     "user_tz": -330
    },
    "id": "a6a81f57",
    "outputId": "9d1d2cb6-24ce-4fbe-a6a3-c1cdb422d354"
   },
   "outputs": [
    {
     "data": {
      "text/plain": [
       "(15101, 15101)"
      ]
     },
     "execution_count": 24,
     "metadata": {
      "tags": []
     },
     "output_type": "execute_result"
    }
   ],
   "source": [
    "user_similarity.shape"
   ]
  },
  {
   "cell_type": "markdown",
   "id": "27f93c84",
   "metadata": {
    "id": "d4c6fb52"
   },
   "source": [
    "<h3> Dot product of Data Matrix with User similarity </h3>"
   ]
  },
  {
   "cell_type": "code",
   "execution_count": 25,
   "id": "06a85636",
   "metadata": {
    "executionInfo": {
     "elapsed": 260137,
     "status": "ok",
     "timestamp": 1624250633656,
     "user": {
      "displayName": "Dhaval Patel",
      "photoUrl": "",
      "userId": "04407112961930931722"
     },
     "user_tz": -330
    },
    "id": "2fd0defb"
   },
   "outputs": [],
   "source": [
    "item_prediction = np.dot(user_similarity, data_matrix)"
   ]
  },
  {
   "cell_type": "code",
   "execution_count": 26,
   "id": "3b57c891",
   "metadata": {
    "colab": {
     "base_uri": "https://localhost:8080/"
    },
    "executionInfo": {
     "elapsed": 41,
     "status": "ok",
     "timestamp": 1624250633663,
     "user": {
      "displayName": "Dhaval Patel",
      "photoUrl": "",
      "userId": "04407112961930931722"
     },
     "user_tz": -330
    },
    "id": "06c8d7ee",
    "outputId": "60a2754a-548e-4a81-e82a-d8a9bc50df2c"
   },
   "outputs": [
    {
     "data": {
      "text/plain": [
       "(15101, 62887)"
      ]
     },
     "execution_count": 26,
     "metadata": {
      "tags": []
     },
     "output_type": "execute_result"
    }
   ],
   "source": [
    "item_prediction.shape"
   ]
  },
  {
   "cell_type": "code",
   "execution_count": 27,
   "id": "fd957738",
   "metadata": {
    "executionInfo": {
     "elapsed": 39,
     "status": "ok",
     "timestamp": 1624250633664,
     "user": {
      "displayName": "Dhaval Patel",
      "photoUrl": "",
      "userId": "04407112961930931722"
     },
     "user_tz": -330
    },
    "id": "881302c5"
   },
   "outputs": [],
   "source": [
    "prediction_df = pd.DataFrame(item_prediction)"
   ]
  },
  {
   "cell_type": "code",
   "execution_count": 28,
   "id": "eb20def2",
   "metadata": {
    "colab": {
     "base_uri": "https://localhost:8080/"
    },
    "executionInfo": {
     "elapsed": 39,
     "status": "ok",
     "timestamp": 1624250633665,
     "user": {
      "displayName": "Dhaval Patel",
      "photoUrl": "",
      "userId": "04407112961930931722"
     },
     "user_tz": -330
    },
    "id": "911ce49b",
    "outputId": "ab2f4950-b95f-41cb-ce1c-bc73acf2efe6"
   },
   "outputs": [
    {
     "data": {
      "text/plain": [
       "(15101, 62887)"
      ]
     },
     "execution_count": 28,
     "metadata": {
      "tags": []
     },
     "output_type": "execute_result"
    }
   ],
   "source": [
    "prediction_df.shape"
   ]
  },
  {
   "cell_type": "markdown",
   "id": "e8573960",
   "metadata": {
    "id": "41027f61"
   },
   "source": [
    "<h3> Song recommendations for any user id </h3>"
   ]
  },
  {
   "cell_type": "code",
   "execution_count": 29,
   "id": "69c1bb26",
   "metadata": {
    "colab": {
     "base_uri": "https://localhost:8080/"
    },
    "executionInfo": {
     "elapsed": 36,
     "status": "ok",
     "timestamp": 1624250633665,
     "user": {
      "displayName": "Dhaval Patel",
      "photoUrl": "",
      "userId": "04407112961930931722"
     },
     "user_tz": -330
    },
    "id": "86b932ce",
    "outputId": "4fd83e1b-0c23-4efe-da2d-29a88570e92d"
   },
   "outputs": [
    {
     "data": {
      "text/plain": [
       "0.000000    14569\n",
       "0.143223        5\n",
       "0.138013        5\n",
       "0.230940        4\n",
       "0.298142        4\n",
       "            ...  \n",
       "0.057574        1\n",
       "0.093048        1\n",
       "0.046422        1\n",
       "0.050369        1\n",
       "0.081514        1\n",
       "Name: 10, Length: 456, dtype: int64"
      ]
     },
     "execution_count": 29,
     "metadata": {
      "tags": []
     },
     "output_type": "execute_result"
    }
   ],
   "source": [
    "prediction_df[10].value_counts()"
   ]
  },
  {
   "cell_type": "code",
   "execution_count": 30,
   "id": "06a3c0ad",
   "metadata": {
    "executionInfo": {
     "elapsed": 34,
     "status": "ok",
     "timestamp": 1624250633666,
     "user": {
      "displayName": "Dhaval Patel",
      "photoUrl": "",
      "userId": "04407112961930931722"
     },
     "user_tz": -330
    },
    "id": "3ef7408a"
   },
   "outputs": [],
   "source": [
    "user = 'fd50c4007b68a3737fe052d5a4f78ce8aa117f3d'\n",
    "user_id = song_data1['user_id'][song_data['user']==user]\n",
    "user = user_id[0]"
   ]
  },
  {
   "cell_type": "code",
   "execution_count": 31,
   "id": "de485296",
   "metadata": {
    "colab": {
     "base_uri": "https://localhost:8080/"
    },
    "executionInfo": {
     "elapsed": 34,
     "status": "ok",
     "timestamp": 1624250633666,
     "user": {
      "displayName": "Dhaval Patel",
      "photoUrl": "",
      "userId": "04407112961930931722"
     },
     "user_tz": -330
    },
    "id": "d25daf68",
    "outputId": "d72410dc-a816-44f9-b128-05b4978fe674"
   },
   "outputs": [
    {
     "data": {
      "text/plain": [
       "14951"
      ]
     },
     "execution_count": 31,
     "metadata": {
      "tags": []
     },
     "output_type": "execute_result"
    }
   ],
   "source": [
    "user"
   ]
  },
  {
   "cell_type": "code",
   "execution_count": 32,
   "id": "08b6b9a1",
   "metadata": {
    "colab": {
     "base_uri": "https://localhost:8080/"
    },
    "executionInfo": {
     "elapsed": 32,
     "status": "ok",
     "timestamp": 1624250633667,
     "user": {
      "displayName": "Dhaval Patel",
      "photoUrl": "",
      "userId": "04407112961930931722"
     },
     "user_tz": -330
    },
    "id": "eadaa22a",
    "outputId": "dd1c507b-b28a-431d-a720-356676557917"
   },
   "outputs": [
    {
     "data": {
      "text/plain": [
       "25413    4.000000\n",
       "12683    2.847184\n",
       "43086    2.232495\n",
       "19929    2.000000\n",
       "40501    2.000000\n",
       "60105    1.492405\n",
       "37234    1.000000\n",
       "6977     1.000000\n",
       "49109    1.000000\n",
       "12763    0.683742\n",
       "Name: 14951, dtype: float64"
      ]
     },
     "execution_count": 32,
     "metadata": {
      "tags": []
     },
     "output_type": "execute_result"
    }
   ],
   "source": [
    "prediction_df.iloc[user].sort_values(ascending=False)[:10]"
   ]
  },
  {
   "cell_type": "code",
   "execution_count": 33,
   "id": "9138da19",
   "metadata": {
    "executionInfo": {
     "elapsed": 29,
     "status": "ok",
     "timestamp": 1624250633667,
     "user": {
      "displayName": "Dhaval Patel",
      "photoUrl": "",
      "userId": "04407112961930931722"
     },
     "user_tz": -330
    },
    "id": "ffa8d025"
   },
   "outputs": [],
   "source": [
    "recommended_songs_df = pd.DataFrame(prediction_df.iloc[user].sort_values(ascending=False)[:10])"
   ]
  },
  {
   "cell_type": "code",
   "execution_count": 34,
   "id": "726bab9b",
   "metadata": {
    "executionInfo": {
     "elapsed": 28,
     "status": "ok",
     "timestamp": 1624250633667,
     "user": {
      "displayName": "Dhaval Patel",
      "photoUrl": "",
      "userId": "04407112961930931722"
     },
     "user_tz": -330
    },
    "id": "9579c40b"
   },
   "outputs": [],
   "source": [
    "recommended_songs_df.reset_index(inplace=True)\n",
    "recommended_songs_df.columns = ['song_id', 'score']"
   ]
  },
  {
   "cell_type": "code",
   "execution_count": 35,
   "id": "d007929a",
   "metadata": {
    "executionInfo": {
     "elapsed": 29,
     "status": "ok",
     "timestamp": 1624250633668,
     "user": {
      "displayName": "Dhaval Patel",
      "photoUrl": "",
      "userId": "04407112961930931722"
     },
     "user_tz": -330
    },
    "id": "fd00f6ae"
   },
   "outputs": [],
   "source": [
    "song_data2 = song_data1[['song', 'song_id', 'title']].copy()"
   ]
  },
  {
   "cell_type": "code",
   "execution_count": 36,
   "id": "d151c3ab",
   "metadata": {
    "executionInfo": {
     "elapsed": 28,
     "status": "ok",
     "timestamp": 1624250633668,
     "user": {
      "displayName": "Dhaval Patel",
      "photoUrl": "",
      "userId": "04407112961930931722"
     },
     "user_tz": -330
    },
    "id": "76b9ccb3"
   },
   "outputs": [],
   "source": [
    "merged = pd.merge(recommended_songs_df, song_data2, how='left', on='song_id')"
   ]
  },
  {
   "cell_type": "code",
   "execution_count": 37,
   "id": "b0866d30",
   "metadata": {
    "executionInfo": {
     "elapsed": 29,
     "status": "ok",
     "timestamp": 1624250633669,
     "user": {
      "displayName": "Dhaval Patel",
      "photoUrl": "",
      "userId": "04407112961930931722"
     },
     "user_tz": -330
    },
    "id": "18a0dced"
   },
   "outputs": [],
   "source": [
    "merged.drop_duplicates(inplace=True)"
   ]
  },
  {
   "cell_type": "code",
   "execution_count": 38,
   "id": "2a15b17b",
   "metadata": {
    "colab": {
     "base_uri": "https://localhost:8080/",
     "height": 357
    },
    "executionInfo": {
     "elapsed": 29,
     "status": "ok",
     "timestamp": 1624250633670,
     "user": {
      "displayName": "Dhaval Patel",
      "photoUrl": "",
      "userId": "04407112961930931722"
     },
     "user_tz": -330
    },
    "id": "f87961df",
    "outputId": "a0110d45-9499-4f5a-ef71-a439de488773"
   },
   "outputs": [
    {
     "data": {
      "text/html": [
       "<div>\n",
       "<style scoped>\n",
       "    .dataframe tbody tr th:only-of-type {\n",
       "        vertical-align: middle;\n",
       "    }\n",
       "\n",
       "    .dataframe tbody tr th {\n",
       "        vertical-align: top;\n",
       "    }\n",
       "\n",
       "    .dataframe thead th {\n",
       "        text-align: right;\n",
       "    }\n",
       "</style>\n",
       "<table border=\"1\" class=\"dataframe\">\n",
       "  <thead>\n",
       "    <tr style=\"text-align: right;\">\n",
       "      <th></th>\n",
       "      <th>song_id</th>\n",
       "      <th>score</th>\n",
       "      <th>song</th>\n",
       "      <th>title</th>\n",
       "    </tr>\n",
       "  </thead>\n",
       "  <tbody>\n",
       "    <tr>\n",
       "      <th>0</th>\n",
       "      <td>25413</td>\n",
       "      <td>4.000000</td>\n",
       "      <td>SOJYRWX12AF729D9FD</td>\n",
       "      <td>Out Ta Get Me</td>\n",
       "    </tr>\n",
       "    <tr>\n",
       "      <th>1</th>\n",
       "      <td>12683</td>\n",
       "      <td>2.847184</td>\n",
       "      <td>SOEXGTH12A58A77D3F</td>\n",
       "      <td>Happy Talk</td>\n",
       "    </tr>\n",
       "    <tr>\n",
       "      <th>2</th>\n",
       "      <td>43086</td>\n",
       "      <td>2.232495</td>\n",
       "      <td>SORGWLX12A8C138A6C</td>\n",
       "      <td>So Harlem</td>\n",
       "    </tr>\n",
       "    <tr>\n",
       "      <th>3</th>\n",
       "      <td>19929</td>\n",
       "      <td>2.000000</td>\n",
       "      <td>SOHTTAW12AF72A5C10</td>\n",
       "      <td>4X4</td>\n",
       "    </tr>\n",
       "    <tr>\n",
       "      <th>4</th>\n",
       "      <td>40501</td>\n",
       "      <td>2.000000</td>\n",
       "      <td>SOQDHGP12AB0180BB6</td>\n",
       "      <td>Paradox 5</td>\n",
       "    </tr>\n",
       "    <tr>\n",
       "      <th>5</th>\n",
       "      <td>60105</td>\n",
       "      <td>1.492405</td>\n",
       "      <td>SOYTERC12A58A7BE66</td>\n",
       "      <td>Dark Clouds</td>\n",
       "    </tr>\n",
       "    <tr>\n",
       "      <th>6</th>\n",
       "      <td>37234</td>\n",
       "      <td>1.000000</td>\n",
       "      <td>SOOTOBX12A6D4F5E10</td>\n",
       "      <td>She'll Go On You</td>\n",
       "    </tr>\n",
       "    <tr>\n",
       "      <th>7</th>\n",
       "      <td>6977</td>\n",
       "      <td>1.000000</td>\n",
       "      <td>SOCRPFT12A8C139B1D</td>\n",
       "      <td>Numb Numb</td>\n",
       "    </tr>\n",
       "    <tr>\n",
       "      <th>8</th>\n",
       "      <td>49109</td>\n",
       "      <td>1.000000</td>\n",
       "      <td>SOTWQKR12A8C13CF82</td>\n",
       "      <td>Oh So Insistent</td>\n",
       "    </tr>\n",
       "    <tr>\n",
       "      <th>9</th>\n",
       "      <td>12763</td>\n",
       "      <td>0.683742</td>\n",
       "      <td>SOEXXDY12A8C13F37A</td>\n",
       "      <td>Bohemian Rhapsody</td>\n",
       "    </tr>\n",
       "  </tbody>\n",
       "</table>\n",
       "</div>"
      ],
      "text/plain": [
       "   song_id     score                song              title\n",
       "0    25413  4.000000  SOJYRWX12AF729D9FD      Out Ta Get Me\n",
       "1    12683  2.847184  SOEXGTH12A58A77D3F         Happy Talk\n",
       "2    43086  2.232495  SORGWLX12A8C138A6C          So Harlem\n",
       "3    19929  2.000000  SOHTTAW12AF72A5C10                4X4\n",
       "4    40501  2.000000  SOQDHGP12AB0180BB6          Paradox 5\n",
       "5    60105  1.492405  SOYTERC12A58A7BE66        Dark Clouds\n",
       "6    37234  1.000000  SOOTOBX12A6D4F5E10   She'll Go On You\n",
       "7     6977  1.000000  SOCRPFT12A8C139B1D          Numb Numb\n",
       "8    49109  1.000000  SOTWQKR12A8C13CF82    Oh So Insistent\n",
       "9    12763  0.683742  SOEXXDY12A8C13F37A  Bohemian Rhapsody"
      ]
     },
     "execution_count": 38,
     "metadata": {
      "tags": []
     },
     "output_type": "execute_result"
    }
   ],
   "source": [
    "merged.reset_index(drop=True)"
   ]
  },
  {
   "cell_type": "markdown",
   "id": "8b392083",
   "metadata": {
    "id": "3d9e7531"
   },
   "source": [
    "<h3> Normalize the score </h3>"
   ]
  },
  {
   "cell_type": "code",
   "execution_count": 39,
   "id": "449f7df7",
   "metadata": {
    "executionInfo": {
     "elapsed": 28,
     "status": "ok",
     "timestamp": 1624250633670,
     "user": {
      "displayName": "Dhaval Patel",
      "photoUrl": "",
      "userId": "04407112961930931722"
     },
     "user_tz": -330
    },
    "id": "9cfc052c"
   },
   "outputs": [],
   "source": [
    "\n",
    "merged['score_normalized'] = (merged['score'] - min(merged['score'])) / (max(merged['score']) - min(merged['score']))"
   ]
  },
  {
   "cell_type": "code",
   "execution_count": 40,
   "id": "669cea06",
   "metadata": {
    "colab": {
     "base_uri": "https://localhost:8080/",
     "height": 357
    },
    "executionInfo": {
     "elapsed": 28,
     "status": "ok",
     "timestamp": 1624250633671,
     "user": {
      "displayName": "Dhaval Patel",
      "photoUrl": "",
      "userId": "04407112961930931722"
     },
     "user_tz": -330
    },
    "id": "0dc87e04",
    "outputId": "1af46fe0-f542-4728-b6aa-ae042bc06d1c"
   },
   "outputs": [
    {
     "data": {
      "text/html": [
       "<div>\n",
       "<style scoped>\n",
       "    .dataframe tbody tr th:only-of-type {\n",
       "        vertical-align: middle;\n",
       "    }\n",
       "\n",
       "    .dataframe tbody tr th {\n",
       "        vertical-align: top;\n",
       "    }\n",
       "\n",
       "    .dataframe thead th {\n",
       "        text-align: right;\n",
       "    }\n",
       "</style>\n",
       "<table border=\"1\" class=\"dataframe\">\n",
       "  <thead>\n",
       "    <tr style=\"text-align: right;\">\n",
       "      <th></th>\n",
       "      <th>song_id</th>\n",
       "      <th>score</th>\n",
       "      <th>song</th>\n",
       "      <th>title</th>\n",
       "      <th>score_normalized</th>\n",
       "    </tr>\n",
       "  </thead>\n",
       "  <tbody>\n",
       "    <tr>\n",
       "      <th>0</th>\n",
       "      <td>25413</td>\n",
       "      <td>4.000000</td>\n",
       "      <td>SOJYRWX12AF729D9FD</td>\n",
       "      <td>Out Ta Get Me</td>\n",
       "      <td>1.000000</td>\n",
       "    </tr>\n",
       "    <tr>\n",
       "      <th>10</th>\n",
       "      <td>12683</td>\n",
       "      <td>2.847184</td>\n",
       "      <td>SOEXGTH12A58A77D3F</td>\n",
       "      <td>Happy Talk</td>\n",
       "      <td>0.652374</td>\n",
       "    </tr>\n",
       "    <tr>\n",
       "      <th>11</th>\n",
       "      <td>43086</td>\n",
       "      <td>2.232495</td>\n",
       "      <td>SORGWLX12A8C138A6C</td>\n",
       "      <td>So Harlem</td>\n",
       "      <td>0.467018</td>\n",
       "    </tr>\n",
       "    <tr>\n",
       "      <th>12</th>\n",
       "      <td>19929</td>\n",
       "      <td>2.000000</td>\n",
       "      <td>SOHTTAW12AF72A5C10</td>\n",
       "      <td>4X4</td>\n",
       "      <td>0.396911</td>\n",
       "    </tr>\n",
       "    <tr>\n",
       "      <th>13</th>\n",
       "      <td>40501</td>\n",
       "      <td>2.000000</td>\n",
       "      <td>SOQDHGP12AB0180BB6</td>\n",
       "      <td>Paradox 5</td>\n",
       "      <td>0.396911</td>\n",
       "    </tr>\n",
       "    <tr>\n",
       "      <th>14</th>\n",
       "      <td>60105</td>\n",
       "      <td>1.492405</td>\n",
       "      <td>SOYTERC12A58A7BE66</td>\n",
       "      <td>Dark Clouds</td>\n",
       "      <td>0.243848</td>\n",
       "    </tr>\n",
       "    <tr>\n",
       "      <th>15</th>\n",
       "      <td>37234</td>\n",
       "      <td>1.000000</td>\n",
       "      <td>SOOTOBX12A6D4F5E10</td>\n",
       "      <td>She'll Go On You</td>\n",
       "      <td>0.095366</td>\n",
       "    </tr>\n",
       "    <tr>\n",
       "      <th>16</th>\n",
       "      <td>6977</td>\n",
       "      <td>1.000000</td>\n",
       "      <td>SOCRPFT12A8C139B1D</td>\n",
       "      <td>Numb Numb</td>\n",
       "      <td>0.095366</td>\n",
       "    </tr>\n",
       "    <tr>\n",
       "      <th>18</th>\n",
       "      <td>49109</td>\n",
       "      <td>1.000000</td>\n",
       "      <td>SOTWQKR12A8C13CF82</td>\n",
       "      <td>Oh So Insistent</td>\n",
       "      <td>0.095366</td>\n",
       "    </tr>\n",
       "    <tr>\n",
       "      <th>22</th>\n",
       "      <td>12763</td>\n",
       "      <td>0.683742</td>\n",
       "      <td>SOEXXDY12A8C13F37A</td>\n",
       "      <td>Bohemian Rhapsody</td>\n",
       "      <td>0.000000</td>\n",
       "    </tr>\n",
       "  </tbody>\n",
       "</table>\n",
       "</div>"
      ],
      "text/plain": [
       "    song_id     score                song              title  score_normalized\n",
       "0     25413  4.000000  SOJYRWX12AF729D9FD      Out Ta Get Me          1.000000\n",
       "10    12683  2.847184  SOEXGTH12A58A77D3F         Happy Talk          0.652374\n",
       "11    43086  2.232495  SORGWLX12A8C138A6C          So Harlem          0.467018\n",
       "12    19929  2.000000  SOHTTAW12AF72A5C10                4X4          0.396911\n",
       "13    40501  2.000000  SOQDHGP12AB0180BB6          Paradox 5          0.396911\n",
       "14    60105  1.492405  SOYTERC12A58A7BE66        Dark Clouds          0.243848\n",
       "15    37234  1.000000  SOOTOBX12A6D4F5E10   She'll Go On You          0.095366\n",
       "16     6977  1.000000  SOCRPFT12A8C139B1D          Numb Numb          0.095366\n",
       "18    49109  1.000000  SOTWQKR12A8C13CF82    Oh So Insistent          0.095366\n",
       "22    12763  0.683742  SOEXXDY12A8C13F37A  Bohemian Rhapsody          0.000000"
      ]
     },
     "execution_count": 40,
     "metadata": {
      "tags": []
     },
     "output_type": "execute_result"
    }
   ],
   "source": [
    "merged"
   ]
  },
  {
   "cell_type": "markdown",
   "id": "a5ce927e",
   "metadata": {
    "id": "9593b1d0"
   },
   "source": [
    "<h3> Evaluation </h3>"
   ]
  },
  {
   "cell_type": "code",
   "execution_count": 41,
   "id": "c4f3b6f4",
   "metadata": {
    "executionInfo": {
     "elapsed": 27,
     "status": "ok",
     "timestamp": 1624250633671,
     "user": {
      "displayName": "Dhaval Patel",
      "photoUrl": "",
      "userId": "04407112961930931722"
     },
     "user_tz": -330
    },
    "id": "e949082e"
   },
   "outputs": [],
   "source": [
    "from sklearn.metrics import mean_squared_error\n",
    "from sklearn.metrics import mean_absolute_error\n",
    "from sklearn.metrics import accuracy_score\n",
    "from math import sqrt"
   ]
  },
  {
   "cell_type": "markdown",
   "id": "9dfc915a",
   "metadata": {
    "id": "d3b3d82b"
   },
   "source": [
    "<h4> MAE </h4>"
   ]
  },
  {
   "cell_type": "code",
   "execution_count": 42,
   "id": "9927339b",
   "metadata": {
    "executionInfo": {
     "elapsed": 26,
     "status": "ok",
     "timestamp": 1624250633671,
     "user": {
      "displayName": "Dhaval Patel",
      "photoUrl": "",
      "userId": "04407112961930931722"
     },
     "user_tz": -330
    },
    "id": "e9321a77"
   },
   "outputs": [],
   "source": [
    "def mae(prediction, ground_truth):\n",
    "    prediction = prediction[ground_truth.nonzero()]\n",
    "    ground_truth = ground_truth[ground_truth.nonzero()]\n",
    "    return mean_absolute_error(prediction, ground_truth)"
   ]
  },
  {
   "cell_type": "code",
   "execution_count": 43,
   "id": "3063a85e",
   "metadata": {
    "colab": {
     "base_uri": "https://localhost:8080/"
    },
    "executionInfo": {
     "elapsed": 12498,
     "status": "ok",
     "timestamp": 1624250646144,
     "user": {
      "displayName": "Dhaval Patel",
      "photoUrl": "",
      "userId": "04407112961930931722"
     },
     "user_tz": -330
    },
    "id": "089c5a7b",
    "outputId": "34f12b47-68f2-403b-f443-78b34aa78f41"
   },
   "outputs": [
    {
     "data": {
      "text/plain": [
       "18.89844895704256"
      ]
     },
     "execution_count": 43,
     "metadata": {
      "tags": []
     },
     "output_type": "execute_result"
    }
   ],
   "source": [
    "mae(item_prediction,data_matrix)"
   ]
  },
  {
   "cell_type": "markdown",
   "id": "82e2281d",
   "metadata": {
    "id": "1b5e6ed4"
   },
   "source": [
    "<h4> RMSE </h4>"
   ]
  },
  {
   "cell_type": "code",
   "execution_count": 44,
   "id": "abe26e0c",
   "metadata": {
    "executionInfo": {
     "elapsed": 26,
     "status": "ok",
     "timestamp": 1624250646146,
     "user": {
      "displayName": "Dhaval Patel",
      "photoUrl": "",
      "userId": "04407112961930931722"
     },
     "user_tz": -330
    },
    "id": "36980b01"
   },
   "outputs": [],
   "source": [
    "def rmse(prediction, ground_truth):\n",
    "    prediction = prediction[ground_truth.nonzero()]\n",
    "    ground_truth = ground_truth[ground_truth.nonzero()]\n",
    "    return sqrt(mean_squared_error(prediction, ground_truth))"
   ]
  },
  {
   "cell_type": "code",
   "execution_count": 45,
   "id": "a693cd40",
   "metadata": {
    "colab": {
     "base_uri": "https://localhost:8080/"
    },
    "executionInfo": {
     "elapsed": 13071,
     "status": "ok",
     "timestamp": 1624250659201,
     "user": {
      "displayName": "Dhaval Patel",
      "photoUrl": "",
      "userId": "04407112961930931722"
     },
     "user_tz": -330
    },
    "id": "91fd74df",
    "outputId": "30a621c2-5d2d-4b92-fcf0-a5b3ba351068"
   },
   "outputs": [
    {
     "data": {
      "text/plain": [
       "111.71919245787"
      ]
     },
     "execution_count": 45,
     "metadata": {
      "tags": []
     },
     "output_type": "execute_result"
    }
   ],
   "source": [
    "rmse(item_prediction,data_matrix)"
   ]
  },
  {
   "cell_type": "markdown",
   "id": "6df31131",
   "metadata": {
    "id": "27e35b8e"
   },
   "source": [
    "<h4> Precision@K </h4>"
   ]
  },
  {
   "cell_type": "code",
   "execution_count": 46,
   "id": "5ecaa26b",
   "metadata": {
    "executionInfo": {
     "elapsed": 70,
     "status": "ok",
     "timestamp": 1624250659202,
     "user": {
      "displayName": "Dhaval Patel",
      "photoUrl": "",
      "userId": "04407112961930931722"
     },
     "user_tz": -330
    },
    "id": "d168d871"
   },
   "outputs": [],
   "source": [
    "user_index=550"
   ]
  },
  {
   "cell_type": "code",
   "execution_count": 47,
   "id": "5fee809a",
   "metadata": {
    "colab": {
     "base_uri": "https://localhost:8080/",
     "height": 203
    },
    "executionInfo": {
     "elapsed": 67,
     "status": "ok",
     "timestamp": 1624250659203,
     "user": {
      "displayName": "Dhaval Patel",
      "photoUrl": "",
      "userId": "04407112961930931722"
     },
     "user_tz": -330
    },
    "id": "183f0113",
    "outputId": "86786ba1-e211-4d5b-952f-d1e4ec01e1da"
   },
   "outputs": [
    {
     "data": {
      "text/html": [
       "<div>\n",
       "<style scoped>\n",
       "    .dataframe tbody tr th:only-of-type {\n",
       "        vertical-align: middle;\n",
       "    }\n",
       "\n",
       "    .dataframe tbody tr th {\n",
       "        vertical-align: top;\n",
       "    }\n",
       "\n",
       "    .dataframe thead th {\n",
       "        text-align: right;\n",
       "    }\n",
       "</style>\n",
       "<table border=\"1\" class=\"dataframe\">\n",
       "  <thead>\n",
       "    <tr style=\"text-align: right;\">\n",
       "      <th></th>\n",
       "      <th>user</th>\n",
       "      <th>song</th>\n",
       "      <th>play_count</th>\n",
       "      <th>title</th>\n",
       "      <th>user_id</th>\n",
       "      <th>song_id</th>\n",
       "    </tr>\n",
       "  </thead>\n",
       "  <tbody>\n",
       "    <tr>\n",
       "      <th>0</th>\n",
       "      <td>fd50c4007b68a3737fe052d5a4f78ce8aa117f3d</td>\n",
       "      <td>SOBONKR12A58A7A7E0</td>\n",
       "      <td>1</td>\n",
       "      <td>You're The One</td>\n",
       "      <td>14951</td>\n",
       "      <td>4050</td>\n",
       "    </tr>\n",
       "    <tr>\n",
       "      <th>1</th>\n",
       "      <td>fd50c4007b68a3737fe052d5a4f78ce8aa117f3d</td>\n",
       "      <td>SOEGIYH12A6D4FC0E3</td>\n",
       "      <td>1</td>\n",
       "      <td>Horn Concerto No. 4 in E flat K495: II. Romanc...</td>\n",
       "      <td>14951</td>\n",
       "      <td>11018</td>\n",
       "    </tr>\n",
       "    <tr>\n",
       "      <th>2</th>\n",
       "      <td>fd50c4007b68a3737fe052d5a4f78ce8aa117f3d</td>\n",
       "      <td>SOFLJQZ12A6D4FADA6</td>\n",
       "      <td>1</td>\n",
       "      <td>Tive Sim</td>\n",
       "      <td>14951</td>\n",
       "      <td>14039</td>\n",
       "    </tr>\n",
       "    <tr>\n",
       "      <th>3</th>\n",
       "      <td>fd50c4007b68a3737fe052d5a4f78ce8aa117f3d</td>\n",
       "      <td>SOHTKMO12AB01843B0</td>\n",
       "      <td>1</td>\n",
       "      <td>Catch You Baby (Steve Pitron &amp; Max Sanna Radio...</td>\n",
       "      <td>14951</td>\n",
       "      <td>19891</td>\n",
       "    </tr>\n",
       "    <tr>\n",
       "      <th>4</th>\n",
       "      <td>fd50c4007b68a3737fe052d5a4f78ce8aa117f3d</td>\n",
       "      <td>SODQZCY12A6D4F9D11</td>\n",
       "      <td>1</td>\n",
       "      <td>El Cuatrero</td>\n",
       "      <td>14951</td>\n",
       "      <td>9496</td>\n",
       "    </tr>\n",
       "  </tbody>\n",
       "</table>\n",
       "</div>"
      ],
      "text/plain": [
       "                                       user  ... song_id\n",
       "0  fd50c4007b68a3737fe052d5a4f78ce8aa117f3d  ...    4050\n",
       "1  fd50c4007b68a3737fe052d5a4f78ce8aa117f3d  ...   11018\n",
       "2  fd50c4007b68a3737fe052d5a4f78ce8aa117f3d  ...   14039\n",
       "3  fd50c4007b68a3737fe052d5a4f78ce8aa117f3d  ...   19891\n",
       "4  fd50c4007b68a3737fe052d5a4f78ce8aa117f3d  ...    9496\n",
       "\n",
       "[5 rows x 6 columns]"
      ]
     },
     "execution_count": 47,
     "metadata": {
      "tags": []
     },
     "output_type": "execute_result"
    }
   ],
   "source": [
    "song_data1.head()"
   ]
  },
  {
   "cell_type": "code",
   "execution_count": 48,
   "id": "db635cb4",
   "metadata": {
    "colab": {
     "base_uri": "https://localhost:8080/",
     "height": 805
    },
    "executionInfo": {
     "elapsed": 61,
     "status": "ok",
     "timestamp": 1624250659203,
     "user": {
      "displayName": "Dhaval Patel",
      "photoUrl": "",
      "userId": "04407112961930931722"
     },
     "user_tz": -330
    },
    "id": "42da96cd",
    "outputId": "9e00e566-d969-40de-8294-db0ad5b05a4e"
   },
   "outputs": [
    {
     "data": {
      "text/html": [
       "<div>\n",
       "<style scoped>\n",
       "    .dataframe tbody tr th:only-of-type {\n",
       "        vertical-align: middle;\n",
       "    }\n",
       "\n",
       "    .dataframe tbody tr th {\n",
       "        vertical-align: top;\n",
       "    }\n",
       "\n",
       "    .dataframe thead th {\n",
       "        text-align: right;\n",
       "    }\n",
       "</style>\n",
       "<table border=\"1\" class=\"dataframe\">\n",
       "  <thead>\n",
       "    <tr style=\"text-align: right;\">\n",
       "      <th></th>\n",
       "      <th>user</th>\n",
       "      <th>song</th>\n",
       "      <th>play_count</th>\n",
       "      <th>title</th>\n",
       "      <th>user_id</th>\n",
       "      <th>song_id</th>\n",
       "    </tr>\n",
       "  </thead>\n",
       "  <tbody>\n",
       "    <tr>\n",
       "      <th>78587</th>\n",
       "      <td>0a0e9d79d901c432ab4280a71bbb9d041c7add0e</td>\n",
       "      <td>SOGPBAW12A6D4F9F22</td>\n",
       "      <td>1</td>\n",
       "      <td>Livin' On A Prayer</td>\n",
       "      <td>550</td>\n",
       "      <td>16936</td>\n",
       "    </tr>\n",
       "    <tr>\n",
       "      <th>78588</th>\n",
       "      <td>0a0e9d79d901c432ab4280a71bbb9d041c7add0e</td>\n",
       "      <td>SOHEDRI12A8C13862B</td>\n",
       "      <td>2</td>\n",
       "      <td>Amazing Grace</td>\n",
       "      <td>550</td>\n",
       "      <td>18387</td>\n",
       "    </tr>\n",
       "    <tr>\n",
       "      <th>78589</th>\n",
       "      <td>0a0e9d79d901c432ab4280a71bbb9d041c7add0e</td>\n",
       "      <td>SOPKKRD12A6D4F806C</td>\n",
       "      <td>4</td>\n",
       "      <td>The Glory Of Your Name</td>\n",
       "      <td>550</td>\n",
       "      <td>38747</td>\n",
       "    </tr>\n",
       "    <tr>\n",
       "      <th>78590</th>\n",
       "      <td>0a0e9d79d901c432ab4280a71bbb9d041c7add0e</td>\n",
       "      <td>SOFGWUJ12AF72A6915</td>\n",
       "      <td>1</td>\n",
       "      <td>Choose</td>\n",
       "      <td>550</td>\n",
       "      <td>13624</td>\n",
       "    </tr>\n",
       "    <tr>\n",
       "      <th>78591</th>\n",
       "      <td>0a0e9d79d901c432ab4280a71bbb9d041c7add0e</td>\n",
       "      <td>SOHXRIT12A8C13860F</td>\n",
       "      <td>8</td>\n",
       "      <td>Blessed Assurance</td>\n",
       "      <td>550</td>\n",
       "      <td>20305</td>\n",
       "    </tr>\n",
       "    <tr>\n",
       "      <th>78592</th>\n",
       "      <td>0a0e9d79d901c432ab4280a71bbb9d041c7add0e</td>\n",
       "      <td>SOFKIUD12AB017F29C</td>\n",
       "      <td>2</td>\n",
       "      <td>By Our Love</td>\n",
       "      <td>550</td>\n",
       "      <td>13935</td>\n",
       "    </tr>\n",
       "    <tr>\n",
       "      <th>78593</th>\n",
       "      <td>0a0e9d79d901c432ab4280a71bbb9d041c7add0e</td>\n",
       "      <td>SOWXOAO12A8C1367E2</td>\n",
       "      <td>2</td>\n",
       "      <td>Hosanna</td>\n",
       "      <td>550</td>\n",
       "      <td>56040</td>\n",
       "    </tr>\n",
       "    <tr>\n",
       "      <th>78594</th>\n",
       "      <td>0a0e9d79d901c432ab4280a71bbb9d041c7add0e</td>\n",
       "      <td>SOMAFHP12A6D4FA910</td>\n",
       "      <td>2</td>\n",
       "      <td>Drug Store Truck Drivin' Man (1973 Live Version)</td>\n",
       "      <td>550</td>\n",
       "      <td>30477</td>\n",
       "    </tr>\n",
       "    <tr>\n",
       "      <th>78595</th>\n",
       "      <td>0a0e9d79d901c432ab4280a71bbb9d041c7add0e</td>\n",
       "      <td>SOYTOLN12AB0183AEB</td>\n",
       "      <td>3</td>\n",
       "      <td>Marvelous Light</td>\n",
       "      <td>550</td>\n",
       "      <td>60134</td>\n",
       "    </tr>\n",
       "    <tr>\n",
       "      <th>78596</th>\n",
       "      <td>0a0e9d79d901c432ab4280a71bbb9d041c7add0e</td>\n",
       "      <td>SOYPYHA12AB0180346</td>\n",
       "      <td>2</td>\n",
       "      <td>You Are Able</td>\n",
       "      <td>550</td>\n",
       "      <td>59849</td>\n",
       "    </tr>\n",
       "    <tr>\n",
       "      <th>78597</th>\n",
       "      <td>0a0e9d79d901c432ab4280a71bbb9d041c7add0e</td>\n",
       "      <td>SOBWERW12AB0185972</td>\n",
       "      <td>1</td>\n",
       "      <td>God Rest Ye Merry Gentlemen (Album Version)</td>\n",
       "      <td>550</td>\n",
       "      <td>4827</td>\n",
       "    </tr>\n",
       "    <tr>\n",
       "      <th>78598</th>\n",
       "      <td>0a0e9d79d901c432ab4280a71bbb9d041c7add0e</td>\n",
       "      <td>SOKCIPE12A8C13BEDE</td>\n",
       "      <td>1</td>\n",
       "      <td>Glory To You (Album Version)</td>\n",
       "      <td>550</td>\n",
       "      <td>25786</td>\n",
       "    </tr>\n",
       "    <tr>\n",
       "      <th>78599</th>\n",
       "      <td>0a0e9d79d901c432ab4280a71bbb9d041c7add0e</td>\n",
       "      <td>SOVJAOA12A8C138629</td>\n",
       "      <td>5</td>\n",
       "      <td>What A Friend</td>\n",
       "      <td>550</td>\n",
       "      <td>52451</td>\n",
       "    </tr>\n",
       "    <tr>\n",
       "      <th>78600</th>\n",
       "      <td>0a0e9d79d901c432ab4280a71bbb9d041c7add0e</td>\n",
       "      <td>SOQQMIW12AB0181C81</td>\n",
       "      <td>3</td>\n",
       "      <td>No Not One</td>\n",
       "      <td>550</td>\n",
       "      <td>41648</td>\n",
       "    </tr>\n",
       "    <tr>\n",
       "      <th>78601</th>\n",
       "      <td>0a0e9d79d901c432ab4280a71bbb9d041c7add0e</td>\n",
       "      <td>SOUUZPU12A6701FB90</td>\n",
       "      <td>1</td>\n",
       "      <td>My Humps</td>\n",
       "      <td>550</td>\n",
       "      <td>51248</td>\n",
       "    </tr>\n",
       "    <tr>\n",
       "      <th>78602</th>\n",
       "      <td>0a0e9d79d901c432ab4280a71bbb9d041c7add0e</td>\n",
       "      <td>SOCYJNX12A8C133FB5</td>\n",
       "      <td>1</td>\n",
       "      <td>I See You</td>\n",
       "      <td>550</td>\n",
       "      <td>7646</td>\n",
       "    </tr>\n",
       "    <tr>\n",
       "      <th>78603</th>\n",
       "      <td>0a0e9d79d901c432ab4280a71bbb9d041c7add0e</td>\n",
       "      <td>SOYDXIO12AB018343A</td>\n",
       "      <td>1</td>\n",
       "      <td>I'm Yours / Somewhere Over The Rainbow (EP Ver...</td>\n",
       "      <td>550</td>\n",
       "      <td>58815</td>\n",
       "    </tr>\n",
       "    <tr>\n",
       "      <th>78604</th>\n",
       "      <td>0a0e9d79d901c432ab4280a71bbb9d041c7add0e</td>\n",
       "      <td>SOWPAOX12AF72A161B</td>\n",
       "      <td>1</td>\n",
       "      <td>You Never Let Go</td>\n",
       "      <td>550</td>\n",
       "      <td>55281</td>\n",
       "    </tr>\n",
       "    <tr>\n",
       "      <th>78605</th>\n",
       "      <td>0a0e9d79d901c432ab4280a71bbb9d041c7add0e</td>\n",
       "      <td>SOIRKPK12AB0189707</td>\n",
       "      <td>10</td>\n",
       "      <td>A Mighty Fortress</td>\n",
       "      <td>550</td>\n",
       "      <td>22231</td>\n",
       "    </tr>\n",
       "    <tr>\n",
       "      <th>78606</th>\n",
       "      <td>0a0e9d79d901c432ab4280a71bbb9d041c7add0e</td>\n",
       "      <td>SOQIPYO12AAF3B5B1D</td>\n",
       "      <td>1</td>\n",
       "      <td>Give Me Your Eyes</td>\n",
       "      <td>550</td>\n",
       "      <td>40978</td>\n",
       "    </tr>\n",
       "    <tr>\n",
       "      <th>78607</th>\n",
       "      <td>0a0e9d79d901c432ab4280a71bbb9d041c7add0e</td>\n",
       "      <td>SOGXDSC12A8C138626</td>\n",
       "      <td>3</td>\n",
       "      <td>Take My Life</td>\n",
       "      <td>550</td>\n",
       "      <td>17743</td>\n",
       "    </tr>\n",
       "    <tr>\n",
       "      <th>78608</th>\n",
       "      <td>0a0e9d79d901c432ab4280a71bbb9d041c7add0e</td>\n",
       "      <td>SOZANQY12A8C13F02D</td>\n",
       "      <td>8</td>\n",
       "      <td>Tension</td>\n",
       "      <td>550</td>\n",
       "      <td>60707</td>\n",
       "    </tr>\n",
       "    <tr>\n",
       "      <th>78609</th>\n",
       "      <td>0a0e9d79d901c432ab4280a71bbb9d041c7add0e</td>\n",
       "      <td>SOBUHPM12A6D4F773C</td>\n",
       "      <td>1</td>\n",
       "      <td>Simple Stuff</td>\n",
       "      <td>550</td>\n",
       "      <td>4627</td>\n",
       "    </tr>\n",
       "    <tr>\n",
       "      <th>78610</th>\n",
       "      <td>0a0e9d79d901c432ab4280a71bbb9d041c7add0e</td>\n",
       "      <td>SOXFPND12AB017C9D1</td>\n",
       "      <td>10</td>\n",
       "      <td>I Gotta Feeling</td>\n",
       "      <td>550</td>\n",
       "      <td>56685</td>\n",
       "    </tr>\n",
       "  </tbody>\n",
       "</table>\n",
       "</div>"
      ],
      "text/plain": [
       "                                           user  ... song_id\n",
       "78587  0a0e9d79d901c432ab4280a71bbb9d041c7add0e  ...   16936\n",
       "78588  0a0e9d79d901c432ab4280a71bbb9d041c7add0e  ...   18387\n",
       "78589  0a0e9d79d901c432ab4280a71bbb9d041c7add0e  ...   38747\n",
       "78590  0a0e9d79d901c432ab4280a71bbb9d041c7add0e  ...   13624\n",
       "78591  0a0e9d79d901c432ab4280a71bbb9d041c7add0e  ...   20305\n",
       "78592  0a0e9d79d901c432ab4280a71bbb9d041c7add0e  ...   13935\n",
       "78593  0a0e9d79d901c432ab4280a71bbb9d041c7add0e  ...   56040\n",
       "78594  0a0e9d79d901c432ab4280a71bbb9d041c7add0e  ...   30477\n",
       "78595  0a0e9d79d901c432ab4280a71bbb9d041c7add0e  ...   60134\n",
       "78596  0a0e9d79d901c432ab4280a71bbb9d041c7add0e  ...   59849\n",
       "78597  0a0e9d79d901c432ab4280a71bbb9d041c7add0e  ...    4827\n",
       "78598  0a0e9d79d901c432ab4280a71bbb9d041c7add0e  ...   25786\n",
       "78599  0a0e9d79d901c432ab4280a71bbb9d041c7add0e  ...   52451\n",
       "78600  0a0e9d79d901c432ab4280a71bbb9d041c7add0e  ...   41648\n",
       "78601  0a0e9d79d901c432ab4280a71bbb9d041c7add0e  ...   51248\n",
       "78602  0a0e9d79d901c432ab4280a71bbb9d041c7add0e  ...    7646\n",
       "78603  0a0e9d79d901c432ab4280a71bbb9d041c7add0e  ...   58815\n",
       "78604  0a0e9d79d901c432ab4280a71bbb9d041c7add0e  ...   55281\n",
       "78605  0a0e9d79d901c432ab4280a71bbb9d041c7add0e  ...   22231\n",
       "78606  0a0e9d79d901c432ab4280a71bbb9d041c7add0e  ...   40978\n",
       "78607  0a0e9d79d901c432ab4280a71bbb9d041c7add0e  ...   17743\n",
       "78608  0a0e9d79d901c432ab4280a71bbb9d041c7add0e  ...   60707\n",
       "78609  0a0e9d79d901c432ab4280a71bbb9d041c7add0e  ...    4627\n",
       "78610  0a0e9d79d901c432ab4280a71bbb9d041c7add0e  ...   56685\n",
       "\n",
       "[24 rows x 6 columns]"
      ]
     },
     "execution_count": 48,
     "metadata": {
      "tags": []
     },
     "output_type": "execute_result"
    }
   ],
   "source": [
    "song_data1[song_data1['user_id']==user_index]"
   ]
  },
  {
   "cell_type": "code",
   "execution_count": 49,
   "id": "8da9c0c5",
   "metadata": {
    "executionInfo": {
     "elapsed": 57,
     "status": "ok",
     "timestamp": 1624250659204,
     "user": {
      "displayName": "Dhaval Patel",
      "photoUrl": "",
      "userId": "04407112961930931722"
     },
     "user_tz": -330
    },
    "id": "df5c5ba4"
   },
   "outputs": [],
   "source": [
    "user_relevant_set = song_data1[song_data1['user_id']==user_index].sort_values(by='play_count', ascending=False)['song_id'].tolist()"
   ]
  },
  {
   "cell_type": "code",
   "execution_count": 50,
   "id": "c1bdcdaa",
   "metadata": {
    "colab": {
     "base_uri": "https://localhost:8080/"
    },
    "executionInfo": {
     "elapsed": 55,
     "status": "ok",
     "timestamp": 1624250659204,
     "user": {
      "displayName": "Dhaval Patel",
      "photoUrl": "",
      "userId": "04407112961930931722"
     },
     "user_tz": -330
    },
    "id": "c1a6b228",
    "outputId": "326d6142-64ee-4a3f-b61b-719874b81873"
   },
   "outputs": [
    {
     "data": {
      "text/plain": [
       "[56685,\n",
       " 22231,\n",
       " 20305,\n",
       " 60707,\n",
       " 52451,\n",
       " 38747,\n",
       " 60134,\n",
       " 41648,\n",
       " 17743,\n",
       " 13935,\n",
       " 30477,\n",
       " 59849,\n",
       " 18387,\n",
       " 56040,\n",
       " 13624,\n",
       " 4627,\n",
       " 40978,\n",
       " 51248,\n",
       " 55281,\n",
       " 58815,\n",
       " 7646,\n",
       " 25786,\n",
       " 4827,\n",
       " 16936]"
      ]
     },
     "execution_count": 50,
     "metadata": {
      "tags": []
     },
     "output_type": "execute_result"
    }
   ],
   "source": [
    "user_relevant_set"
   ]
  },
  {
   "cell_type": "code",
   "execution_count": 51,
   "id": "9ae0680b",
   "metadata": {
    "colab": {
     "base_uri": "https://localhost:8080/"
    },
    "executionInfo": {
     "elapsed": 33,
     "status": "ok",
     "timestamp": 1624250659205,
     "user": {
      "displayName": "Dhaval Patel",
      "photoUrl": "",
      "userId": "04407112961930931722"
     },
     "user_tz": -330
    },
    "id": "b41750f2",
    "outputId": "24edc814-3b41-469c-9579-4a7eb13267e3"
   },
   "outputs": [
    {
     "data": {
      "text/plain": [
       "24"
      ]
     },
     "execution_count": 51,
     "metadata": {
      "tags": []
     },
     "output_type": "execute_result"
    }
   ],
   "source": [
    "len(user_relevant_set)"
   ]
  },
  {
   "cell_type": "code",
   "execution_count": 52,
   "id": "af656a35",
   "metadata": {
    "executionInfo": {
     "elapsed": 28,
     "status": "ok",
     "timestamp": 1624250659205,
     "user": {
      "displayName": "Dhaval Patel",
      "photoUrl": "",
      "userId": "04407112961930931722"
     },
     "user_tz": -330
    },
    "id": "a3bb0471"
   },
   "outputs": [],
   "source": [
    "user_predicted_set = prediction_df.iloc[user_index].sort_values(ascending=False)[:10].index.tolist()"
   ]
  },
  {
   "cell_type": "code",
   "execution_count": 53,
   "id": "42a4f076",
   "metadata": {
    "colab": {
     "base_uri": "https://localhost:8080/"
    },
    "executionInfo": {
     "elapsed": 28,
     "status": "ok",
     "timestamp": 1624250659206,
     "user": {
      "displayName": "Dhaval Patel",
      "photoUrl": "",
      "userId": "04407112961930931722"
     },
     "user_tz": -330
    },
    "id": "859da5c7",
    "outputId": "09c7bb2f-298b-4f8d-b554-fdc836ff7bd4"
   },
   "outputs": [
    {
     "data": {
      "text/plain": [
       "[18725, 13987, 51441, 31501, 11805, 13400, 27406, 3335, 1080, 19339]"
      ]
     },
     "execution_count": 53,
     "metadata": {
      "tags": []
     },
     "output_type": "execute_result"
    }
   ],
   "source": [
    "user_predicted_set"
   ]
  },
  {
   "cell_type": "code",
   "execution_count": 54,
   "id": "bde90fc4",
   "metadata": {
    "colab": {
     "base_uri": "https://localhost:8080/"
    },
    "executionInfo": {
     "elapsed": 24,
     "status": "ok",
     "timestamp": 1624250659206,
     "user": {
      "displayName": "Dhaval Patel",
      "photoUrl": "",
      "userId": "04407112961930931722"
     },
     "user_tz": -330
    },
    "id": "be45be02",
    "outputId": "6012c88c-b639-4bb9-d268-b2f0c4f8743e"
   },
   "outputs": [
    {
     "data": {
      "text/plain": [
       "10"
      ]
     },
     "execution_count": 54,
     "metadata": {
      "tags": []
     },
     "output_type": "execute_result"
    }
   ],
   "source": [
    "len(user_predicted_set)"
   ]
  },
  {
   "cell_type": "code",
   "execution_count": 55,
   "id": "67f752ec",
   "metadata": {
    "colab": {
     "base_uri": "https://localhost:8080/"
    },
    "executionInfo": {
     "elapsed": 21,
     "status": "ok",
     "timestamp": 1624250659207,
     "user": {
      "displayName": "Dhaval Patel",
      "photoUrl": "",
      "userId": "04407112961930931722"
     },
     "user_tz": -330
    },
    "id": "b3c7be7c",
    "outputId": "6d0375b8-8979-4e2c-d273-08449b5ac9b9"
   },
   "outputs": [
    {
     "data": {
      "text/plain": [
       "0"
      ]
     },
     "execution_count": 55,
     "metadata": {
      "tags": []
     },
     "output_type": "execute_result"
    }
   ],
   "source": [
    "len(list(set(user_relevant_set) & set(user_predicted_set)))"
   ]
  },
  {
   "cell_type": "code",
   "execution_count": 56,
   "id": "44e572dc",
   "metadata": {
    "executionInfo": {
     "elapsed": 18,
     "status": "ok",
     "timestamp": 1624250659207,
     "user": {
      "displayName": "Dhaval Patel",
      "photoUrl": "",
      "userId": "04407112961930931722"
     },
     "user_tz": -330
    },
    "id": "0399fe1d"
   },
   "outputs": [],
   "source": [
    "precision_at_10 = len(list(set(user_relevant_set) & set(user_predicted_set)))/10"
   ]
  },
  {
   "cell_type": "code",
   "execution_count": 57,
   "id": "a93f3e92",
   "metadata": {
    "colab": {
     "base_uri": "https://localhost:8080/"
    },
    "executionInfo": {
     "elapsed": 18,
     "status": "ok",
     "timestamp": 1624250659208,
     "user": {
      "displayName": "Dhaval Patel",
      "photoUrl": "",
      "userId": "04407112961930931722"
     },
     "user_tz": -330
    },
    "id": "3b447417",
    "outputId": "c5c8cd59-f2b0-4fcc-ae0a-7676685cf4a6"
   },
   "outputs": [
    {
     "data": {
      "text/plain": [
       "0.0"
      ]
     },
     "execution_count": 57,
     "metadata": {
      "tags": []
     },
     "output_type": "execute_result"
    }
   ],
   "source": [
    "precision_at_10"
   ]
  },
  {
   "cell_type": "markdown",
   "id": "dbfaf225",
   "metadata": {
    "id": "f08dd7ff"
   },
   "source": [
    "<h4> Global Average Precision@K </h4>"
   ]
  },
  {
   "cell_type": "code",
   "execution_count": 58,
   "id": "bd00e469",
   "metadata": {
    "executionInfo": {
     "elapsed": 15,
     "status": "ok",
     "timestamp": 1624250659208,
     "user": {
      "displayName": "Dhaval Patel",
      "photoUrl": "",
      "userId": "04407112961930931722"
     },
     "user_tz": -330
    },
    "id": "df636214"
   },
   "outputs": [],
   "source": [
    "global_precision = 0"
   ]
  },
  {
   "cell_type": "code",
   "execution_count": 59,
   "id": "d4fa8e1a",
   "metadata": {
    "executionInfo": {
     "elapsed": 16,
     "status": "ok",
     "timestamp": 1624250659209,
     "user": {
      "displayName": "Dhaval Patel",
      "photoUrl": "",
      "userId": "04407112961930931722"
     },
     "user_tz": -330
    },
    "id": "e514f03c"
   },
   "outputs": [],
   "source": [
    "n = song_data1['user_id'].nunique()"
   ]
  },
  {
   "cell_type": "markdown",
   "id": "175b0d1e",
   "metadata": {
    "id": "239c8d51"
   },
   "source": [
    "<h4> Modularize the code </h4>"
   ]
  },
  {
   "cell_type": "code",
   "execution_count": 60,
   "id": "64776f0c",
   "metadata": {
    "executionInfo": {
     "elapsed": 68702,
     "status": "ok",
     "timestamp": 1624250727896,
     "user": {
      "displayName": "Dhaval Patel",
      "photoUrl": "",
      "userId": "04407112961930931722"
     },
     "user_tz": -330
    },
    "id": "ee8c0a27"
   },
   "outputs": [],
   "source": [
    "for user_index in range(0, n):\n",
    "    user_relevant_set = song_data1[song_data1['user_id']==user_index].sort_values(by='play_count', ascending=False)['song_id'].tolist()\n",
    "    user_predicted_set = prediction_df.iloc[user_index].sort_values(ascending=False)[:10].index.tolist()\n",
    "    precision_at_10 = (len(list(set(user_relevant_set) & set(user_predicted_set))))/10\n",
    "    \n",
    "    global_precision = global_precision + precision_at_10"
   ]
  },
  {
   "cell_type": "code",
   "execution_count": 61,
   "id": "7120ba82",
   "metadata": {
    "colab": {
     "base_uri": "https://localhost:8080/"
    },
    "executionInfo": {
     "elapsed": 74,
     "status": "ok",
     "timestamp": 1624250727897,
     "user": {
      "displayName": "Dhaval Patel",
      "photoUrl": "",
      "userId": "04407112961930931722"
     },
     "user_tz": -330
    },
    "id": "8adf334f",
    "outputId": "5d89e0ea-057d-4b89-98ae-8c56dac3213e"
   },
   "outputs": [
    {
     "data": {
      "text/plain": [
       "2.800000000000001"
      ]
     },
     "execution_count": 61,
     "metadata": {
      "tags": []
     },
     "output_type": "execute_result"
    }
   ],
   "source": [
    "global_precision"
   ]
  },
  {
   "cell_type": "code",
   "execution_count": 62,
   "id": "766d234a",
   "metadata": {
    "executionInfo": {
     "elapsed": 67,
     "status": "ok",
     "timestamp": 1624250727898,
     "user": {
      "displayName": "Dhaval Patel",
      "photoUrl": "",
      "userId": "04407112961930931722"
     },
     "user_tz": -330
    },
    "id": "c66018e4"
   },
   "outputs": [],
   "source": [
    "global_average_precision = global_precision/song_data1['user_id'].nunique()"
   ]
  },
  {
   "cell_type": "code",
   "execution_count": 63,
   "id": "38c996e4",
   "metadata": {
    "colab": {
     "base_uri": "https://localhost:8080/"
    },
    "executionInfo": {
     "elapsed": 64,
     "status": "ok",
     "timestamp": 1624250727898,
     "user": {
      "displayName": "Dhaval Patel",
      "photoUrl": "",
      "userId": "04407112961930931722"
     },
     "user_tz": -330
    },
    "id": "429f12b6",
    "outputId": "a2b1fc1b-8791-4b0b-f8cb-0bff8908206e"
   },
   "outputs": [
    {
     "data": {
      "text/plain": [
       "0.00018541818422621026"
      ]
     },
     "execution_count": 63,
     "metadata": {
      "tags": []
     },
     "output_type": "execute_result"
    }
   ],
   "source": [
    "global_average_precision"
   ]
  },
  {
   "cell_type": "markdown",
   "id": "6a6efc11",
   "metadata": {
    "id": "21d8f028"
   },
   "source": [
    "<h3> Don't recommend song which user has already listened </h3> "
   ]
  },
  {
   "cell_type": "code",
   "execution_count": 64,
   "id": "c363cd4f",
   "metadata": {
    "executionInfo": {
     "elapsed": 56,
     "status": "ok",
     "timestamp": 1624250727899,
     "user": {
      "displayName": "Dhaval Patel",
      "photoUrl": "",
      "userId": "04407112961930931722"
     },
     "user_tz": -330
    },
    "id": "27ca315d"
   },
   "outputs": [],
   "source": [
    "df_user = song_data1[song_data1['user_id']==550]"
   ]
  },
  {
   "cell_type": "code",
   "execution_count": 65,
   "id": "de529a63",
   "metadata": {
    "colab": {
     "base_uri": "https://localhost:8080/"
    },
    "executionInfo": {
     "elapsed": 55,
     "status": "ok",
     "timestamp": 1624250727899,
     "user": {
      "displayName": "Dhaval Patel",
      "photoUrl": "",
      "userId": "04407112961930931722"
     },
     "user_tz": -330
    },
    "id": "0e016cfd",
    "outputId": "fa20f154-8c58-4129-8d4f-0de2c13b22c0"
   },
   "outputs": [
    {
     "data": {
      "text/plain": [
       "(24, 6)"
      ]
     },
     "execution_count": 65,
     "metadata": {
      "tags": []
     },
     "output_type": "execute_result"
    }
   ],
   "source": [
    "df_user.shape"
   ]
  },
  {
   "cell_type": "markdown",
   "id": "b8f00768",
   "metadata": {
    "id": "f3981003"
   },
   "source": [
    "<h3> Filter already listened songs from the global result list  </h3> "
   ]
  },
  {
   "cell_type": "code",
   "execution_count": 66,
   "id": "3da4cc6b",
   "metadata": {
    "executionInfo": {
     "elapsed": 49,
     "status": "ok",
     "timestamp": 1624250727900,
     "user": {
      "displayName": "Dhaval Patel",
      "photoUrl": "",
      "userId": "04407112961930931722"
     },
     "user_tz": -330
    },
    "id": "ac371f3a"
   },
   "outputs": [],
   "source": [
    "pf_user = pd.DataFrame(prediction_df.iloc[550].sort_values(ascending=False))"
   ]
  },
  {
   "cell_type": "code",
   "execution_count": 67,
   "id": "9bc9426b",
   "metadata": {
    "executionInfo": {
     "elapsed": 47,
     "status": "ok",
     "timestamp": 1624250727901,
     "user": {
      "displayName": "Dhaval Patel",
      "photoUrl": "",
      "userId": "04407112961930931722"
     },
     "user_tz": -330
    },
    "id": "7857b306"
   },
   "outputs": [],
   "source": [
    "pf_user.reset_index(inplace=True)\n",
    "pf_user.columns = ['song_id', 'score']"
   ]
  },
  {
   "cell_type": "code",
   "execution_count": 68,
   "id": "652377c7",
   "metadata": {
    "executionInfo": {
     "elapsed": 46,
     "status": "ok",
     "timestamp": 1624250727902,
     "user": {
      "displayName": "Dhaval Patel",
      "photoUrl": "",
      "userId": "04407112961930931722"
     },
     "user_tz": -330
    },
    "id": "2159bb0f"
   },
   "outputs": [],
   "source": [
    "output_df = pd.merge(pf_user, song_data2, how='left', on='song_id')"
   ]
  },
  {
   "cell_type": "code",
   "execution_count": 69,
   "id": "bc3f1ba8",
   "metadata": {
    "executionInfo": {
     "elapsed": 46,
     "status": "ok",
     "timestamp": 1624250727903,
     "user": {
      "displayName": "Dhaval Patel",
      "photoUrl": "",
      "userId": "04407112961930931722"
     },
     "user_tz": -330
    },
    "id": "30ddffe4"
   },
   "outputs": [],
   "source": [
    "output_df.drop_duplicates(inplace=True)"
   ]
  },
  {
   "cell_type": "code",
   "execution_count": 70,
   "id": "0f1c9d85",
   "metadata": {
    "colab": {
     "base_uri": "https://localhost:8080/",
     "height": 417
    },
    "executionInfo": {
     "elapsed": 47,
     "status": "ok",
     "timestamp": 1624250727904,
     "user": {
      "displayName": "Dhaval Patel",
      "photoUrl": "",
      "userId": "04407112961930931722"
     },
     "user_tz": -330
    },
    "id": "c0ff0ff3",
    "outputId": "8c40ebd8-412a-4f0a-83b7-65f44796be8e"
   },
   "outputs": [
    {
     "data": {
      "text/html": [
       "<div>\n",
       "<style scoped>\n",
       "    .dataframe tbody tr th:only-of-type {\n",
       "        vertical-align: middle;\n",
       "    }\n",
       "\n",
       "    .dataframe tbody tr th {\n",
       "        vertical-align: top;\n",
       "    }\n",
       "\n",
       "    .dataframe thead th {\n",
       "        text-align: right;\n",
       "    }\n",
       "</style>\n",
       "<table border=\"1\" class=\"dataframe\">\n",
       "  <thead>\n",
       "    <tr style=\"text-align: right;\">\n",
       "      <th></th>\n",
       "      <th>song_id</th>\n",
       "      <th>score</th>\n",
       "      <th>song</th>\n",
       "      <th>title</th>\n",
       "    </tr>\n",
       "  </thead>\n",
       "  <tbody>\n",
       "    <tr>\n",
       "      <th>0</th>\n",
       "      <td>18725</td>\n",
       "      <td>8.345894</td>\n",
       "      <td>SOHHSGK12A8AE49262</td>\n",
       "      <td>Like You'll Never See Me Again</td>\n",
       "    </tr>\n",
       "    <tr>\n",
       "      <th>1</th>\n",
       "      <td>13987</td>\n",
       "      <td>3.178924</td>\n",
       "      <td>SOFKXVU12A8C140CD7</td>\n",
       "      <td>Jeunesse de l'Occident</td>\n",
       "    </tr>\n",
       "    <tr>\n",
       "      <th>2</th>\n",
       "      <td>51441</td>\n",
       "      <td>2.265276</td>\n",
       "      <td>SOUXKXE12A58A7A1E7</td>\n",
       "      <td>Concrete And Clay</td>\n",
       "    </tr>\n",
       "    <tr>\n",
       "      <th>3</th>\n",
       "      <td>31501</td>\n",
       "      <td>1.964186</td>\n",
       "      <td>SOMLDZL12A6D4FA66F</td>\n",
       "      <td>Charade</td>\n",
       "    </tr>\n",
       "    <tr>\n",
       "      <th>4</th>\n",
       "      <td>11805</td>\n",
       "      <td>1.752155</td>\n",
       "      <td>SOEOJDP12A8C145B4E</td>\n",
       "      <td>Say It Again</td>\n",
       "    </tr>\n",
       "    <tr>\n",
       "      <th>...</th>\n",
       "      <td>...</td>\n",
       "      <td>...</td>\n",
       "      <td>...</td>\n",
       "      <td>...</td>\n",
       "    </tr>\n",
       "    <tr>\n",
       "      <th>62882</th>\n",
       "      <td>41820</td>\n",
       "      <td>0.000000</td>\n",
       "      <td>SOQSKWS12A8C143178</td>\n",
       "      <td>That Girl featuring Pied Piper (Remix) (Bonus ...</td>\n",
       "    </tr>\n",
       "    <tr>\n",
       "      <th>62883</th>\n",
       "      <td>41819</td>\n",
       "      <td>0.000000</td>\n",
       "      <td>SOQSKOC12A8C13CB92</td>\n",
       "      <td>My Arms Stay Open</td>\n",
       "    </tr>\n",
       "    <tr>\n",
       "      <th>62884</th>\n",
       "      <td>41818</td>\n",
       "      <td>0.000000</td>\n",
       "      <td>SOQSKKA12A58A78E3D</td>\n",
       "      <td>Make Your Own Kind Of Music</td>\n",
       "    </tr>\n",
       "    <tr>\n",
       "      <th>62885</th>\n",
       "      <td>41817</td>\n",
       "      <td>0.000000</td>\n",
       "      <td>SOQSJPL12AF729C98D</td>\n",
       "      <td>Just Right</td>\n",
       "    </tr>\n",
       "    <tr>\n",
       "      <th>62886</th>\n",
       "      <td>0</td>\n",
       "      <td>0.000000</td>\n",
       "      <td>SOAAAGQ12A8C1420C8</td>\n",
       "      <td>Orgelblut</td>\n",
       "    </tr>\n",
       "  </tbody>\n",
       "</table>\n",
       "<p>62887 rows × 4 columns</p>\n",
       "</div>"
      ],
      "text/plain": [
       "       song_id  ...                                              title\n",
       "0        18725  ...                     Like You'll Never See Me Again\n",
       "1        13987  ...                             Jeunesse de l'Occident\n",
       "2        51441  ...                                  Concrete And Clay\n",
       "3        31501  ...                                            Charade\n",
       "4        11805  ...                                       Say It Again\n",
       "...        ...  ...                                                ...\n",
       "62882    41820  ...  That Girl featuring Pied Piper (Remix) (Bonus ...\n",
       "62883    41819  ...                                  My Arms Stay Open\n",
       "62884    41818  ...                        Make Your Own Kind Of Music\n",
       "62885    41817  ...                                         Just Right\n",
       "62886        0  ...                                          Orgelblut\n",
       "\n",
       "[62887 rows x 4 columns]"
      ]
     },
     "execution_count": 70,
     "metadata": {
      "tags": []
     },
     "output_type": "execute_result"
    }
   ],
   "source": [
    "output_df.reset_index(drop=True)"
   ]
  },
  {
   "cell_type": "code",
   "execution_count": 71,
   "id": "34fcbad7",
   "metadata": {
    "executionInfo": {
     "elapsed": 47,
     "status": "ok",
     "timestamp": 1624250727908,
     "user": {
      "displayName": "Dhaval Patel",
      "photoUrl": "",
      "userId": "04407112961930931722"
     },
     "user_tz": -330
    },
    "id": "c0e83135"
   },
   "outputs": [],
   "source": [
    "output_df['score_normalized'] = (output_df['score'] - min(output_df['score'])) / (max(output_df['score']) - min(output_df['score']))"
   ]
  },
  {
   "cell_type": "code",
   "execution_count": 72,
   "id": "88a79be5",
   "metadata": {
    "executionInfo": {
     "elapsed": 47,
     "status": "ok",
     "timestamp": 1624250727909,
     "user": {
      "displayName": "Dhaval Patel",
      "photoUrl": "",
      "userId": "04407112961930931722"
     },
     "user_tz": -330
    },
    "id": "50e64167"
   },
   "outputs": [],
   "source": [
    "merged_collab = pd.merge(output_df, df_user, on='song_id', how='left')"
   ]
  },
  {
   "cell_type": "code",
   "execution_count": 73,
   "id": "1beec506",
   "metadata": {
    "colab": {
     "base_uri": "https://localhost:8080/"
    },
    "executionInfo": {
     "elapsed": 47,
     "status": "ok",
     "timestamp": 1624250727910,
     "user": {
      "displayName": "Dhaval Patel",
      "photoUrl": "",
      "userId": "04407112961930931722"
     },
     "user_tz": -330
    },
    "id": "4154858d",
    "outputId": "3df1ff2e-693e-4855-afa2-eee76e522dc0"
   },
   "outputs": [
    {
     "data": {
      "text/plain": [
       "(62887, 10)"
      ]
     },
     "execution_count": 73,
     "metadata": {
      "tags": []
     },
     "output_type": "execute_result"
    }
   ],
   "source": [
    "merged_collab.shape"
   ]
  },
  {
   "cell_type": "code",
   "execution_count": 74,
   "id": "3e09e87e",
   "metadata": {
    "executionInfo": {
     "elapsed": 41,
     "status": "ok",
     "timestamp": 1624250727912,
     "user": {
      "displayName": "Dhaval Patel",
      "photoUrl": "",
      "userId": "04407112961930931722"
     },
     "user_tz": -330
    },
    "id": "0221a2ec"
   },
   "outputs": [],
   "source": [
    "merged_collab = merged_collab.drop(merged_collab[merged_collab['play_count']>0].index)"
   ]
  },
  {
   "cell_type": "code",
   "execution_count": 75,
   "id": "c4189092",
   "metadata": {
    "colab": {
     "base_uri": "https://localhost:8080/",
     "height": 203
    },
    "executionInfo": {
     "elapsed": 39,
     "status": "ok",
     "timestamp": 1624250727912,
     "user": {
      "displayName": "Dhaval Patel",
      "photoUrl": "",
      "userId": "04407112961930931722"
     },
     "user_tz": -330
    },
    "id": "ee629acb",
    "outputId": "f110c95e-07af-4f72-d5b0-397c3c31f408"
   },
   "outputs": [
    {
     "data": {
      "text/html": [
       "<div>\n",
       "<style scoped>\n",
       "    .dataframe tbody tr th:only-of-type {\n",
       "        vertical-align: middle;\n",
       "    }\n",
       "\n",
       "    .dataframe tbody tr th {\n",
       "        vertical-align: top;\n",
       "    }\n",
       "\n",
       "    .dataframe thead th {\n",
       "        text-align: right;\n",
       "    }\n",
       "</style>\n",
       "<table border=\"1\" class=\"dataframe\">\n",
       "  <thead>\n",
       "    <tr style=\"text-align: right;\">\n",
       "      <th></th>\n",
       "      <th>song_id</th>\n",
       "      <th>score</th>\n",
       "      <th>song_x</th>\n",
       "      <th>title_x</th>\n",
       "      <th>score_normalized</th>\n",
       "      <th>user</th>\n",
       "      <th>song_y</th>\n",
       "      <th>play_count</th>\n",
       "      <th>title_y</th>\n",
       "      <th>user_id</th>\n",
       "    </tr>\n",
       "  </thead>\n",
       "  <tbody>\n",
       "    <tr>\n",
       "      <th>0</th>\n",
       "      <td>18725</td>\n",
       "      <td>8.345894</td>\n",
       "      <td>SOHHSGK12A8AE49262</td>\n",
       "      <td>Like You'll Never See Me Again</td>\n",
       "      <td>1.000000</td>\n",
       "      <td>NaN</td>\n",
       "      <td>NaN</td>\n",
       "      <td>NaN</td>\n",
       "      <td>NaN</td>\n",
       "      <td>NaN</td>\n",
       "    </tr>\n",
       "    <tr>\n",
       "      <th>1</th>\n",
       "      <td>13987</td>\n",
       "      <td>3.178924</td>\n",
       "      <td>SOFKXVU12A8C140CD7</td>\n",
       "      <td>Jeunesse de l'Occident</td>\n",
       "      <td>0.380897</td>\n",
       "      <td>NaN</td>\n",
       "      <td>NaN</td>\n",
       "      <td>NaN</td>\n",
       "      <td>NaN</td>\n",
       "      <td>NaN</td>\n",
       "    </tr>\n",
       "    <tr>\n",
       "      <th>2</th>\n",
       "      <td>51441</td>\n",
       "      <td>2.265276</td>\n",
       "      <td>SOUXKXE12A58A7A1E7</td>\n",
       "      <td>Concrete And Clay</td>\n",
       "      <td>0.271424</td>\n",
       "      <td>NaN</td>\n",
       "      <td>NaN</td>\n",
       "      <td>NaN</td>\n",
       "      <td>NaN</td>\n",
       "      <td>NaN</td>\n",
       "    </tr>\n",
       "    <tr>\n",
       "      <th>3</th>\n",
       "      <td>31501</td>\n",
       "      <td>1.964186</td>\n",
       "      <td>SOMLDZL12A6D4FA66F</td>\n",
       "      <td>Charade</td>\n",
       "      <td>0.235348</td>\n",
       "      <td>NaN</td>\n",
       "      <td>NaN</td>\n",
       "      <td>NaN</td>\n",
       "      <td>NaN</td>\n",
       "      <td>NaN</td>\n",
       "    </tr>\n",
       "    <tr>\n",
       "      <th>4</th>\n",
       "      <td>11805</td>\n",
       "      <td>1.752155</td>\n",
       "      <td>SOEOJDP12A8C145B4E</td>\n",
       "      <td>Say It Again</td>\n",
       "      <td>0.209942</td>\n",
       "      <td>NaN</td>\n",
       "      <td>NaN</td>\n",
       "      <td>NaN</td>\n",
       "      <td>NaN</td>\n",
       "      <td>NaN</td>\n",
       "    </tr>\n",
       "  </tbody>\n",
       "</table>\n",
       "</div>"
      ],
      "text/plain": [
       "   song_id     score              song_x  ... play_count  title_y user_id\n",
       "0    18725  8.345894  SOHHSGK12A8AE49262  ...        NaN      NaN     NaN\n",
       "1    13987  3.178924  SOFKXVU12A8C140CD7  ...        NaN      NaN     NaN\n",
       "2    51441  2.265276  SOUXKXE12A58A7A1E7  ...        NaN      NaN     NaN\n",
       "3    31501  1.964186  SOMLDZL12A6D4FA66F  ...        NaN      NaN     NaN\n",
       "4    11805  1.752155  SOEOJDP12A8C145B4E  ...        NaN      NaN     NaN\n",
       "\n",
       "[5 rows x 10 columns]"
      ]
     },
     "execution_count": 75,
     "metadata": {
      "tags": []
     },
     "output_type": "execute_result"
    }
   ],
   "source": [
    "merged_collab.head()"
   ]
  },
  {
   "cell_type": "code",
   "execution_count": 76,
   "id": "b7abf24b",
   "metadata": {
    "colab": {
     "base_uri": "https://localhost:8080/"
    },
    "executionInfo": {
     "elapsed": 39,
     "status": "ok",
     "timestamp": 1624250727913,
     "user": {
      "displayName": "Dhaval Patel",
      "photoUrl": "",
      "userId": "04407112961930931722"
     },
     "user_tz": -330
    },
    "id": "19e388c9",
    "outputId": "e4a290e6-301a-4dcb-de0a-cd25ec052d4d"
   },
   "outputs": [
    {
     "data": {
      "text/plain": [
       "(62863, 10)"
      ]
     },
     "execution_count": 76,
     "metadata": {
      "tags": []
     },
     "output_type": "execute_result"
    }
   ],
   "source": [
    "merged_collab.shape"
   ]
  },
  {
   "cell_type": "code",
   "execution_count": 77,
   "id": "ab9ef150",
   "metadata": {
    "colab": {
     "base_uri": "https://localhost:8080/"
    },
    "executionInfo": {
     "elapsed": 761,
     "status": "ok",
     "timestamp": 1624250728640,
     "user": {
      "displayName": "Dhaval Patel",
      "photoUrl": "",
      "userId": "04407112961930931722"
     },
     "user_tz": -330
    },
    "id": "2f52711a",
    "outputId": "c7127a82-a9c0-486c-ab0d-659e7cbc164a"
   },
   "outputs": [
    {
     "data": {
      "text/plain": [
       "0                Like You'll Never See Me Again\n",
       "1                        Jeunesse de l'Occident\n",
       "2                             Concrete And Clay\n",
       "3                                       Charade\n",
       "4                                  Say It Again\n",
       "5    Return Of The Rising Moon (Electronic Mix)\n",
       "6                               La rueda mágica\n",
       "7                               Under Your Skin\n",
       "8                               Er steht im Tor\n",
       "9                          Trans-Atlantic Drawl\n",
       "Name: title_x, dtype: object"
      ]
     },
     "execution_count": 77,
     "metadata": {
      "tags": []
     },
     "output_type": "execute_result"
    }
   ],
   "source": [
    "merged_collab['title_x'][:10]"
   ]
  },
  {
   "cell_type": "markdown",
   "id": "d6fecf87",
   "metadata": {
    "id": "cb9927ee"
   },
   "source": [
    "Steps of user-based collaborative filtering:\n",
    "\n",
    "* Firstly built a data matrix: (number of users in rows) x (number of items in column) and filled the values corresponding to the item rating given by a certain user.\n",
    "* Secondly, from the above matrix, built the distance-wise pair matrix (user similarity) by using cosine similarity whose values indicate the similarities between the users. \n",
    "* Thirdly, applied the dot product of the data matrix with the user similarity matrix, which produces the ‘item_prediction’ matrix. It contains the user-ids in columns and item ids in rows.\n",
    "* Finally, to predict the items to the user, the ‘item_prediction’ matrix was used by finding the column that corresponds to the user id."
   ]
  },
  {
   "cell_type": "markdown",
   "id": "3b08b0bb",
   "metadata": {
    "id": "e9312b3b"
   },
   "source": [
    "The following matrices were used for evaluation purposes:\n",
    "\n",
    "* Mean absolute error (MAE)\n",
    "* Root mean squared error (RMSE)\n",
    "* Precision@k: Here, ‘k’ denotes the number of recommended items that can be checked for their precision.\n",
    "* Global precision@k: The average of precision@k for all the users."
   ]
  }
 ],
 "metadata": {
  "accelerator": "GPU",
  "colab": {
   "collapsed_sections": [],
   "machine_shape": "hm",
   "name": "Memory_Based_RS_PD.ipynb",
   "provenance": []
  },
  "kernelspec": {
   "display_name": "Python 3",
   "language": "python",
   "name": "python3"
  },
  "language_info": {
   "codemirror_mode": {
    "name": "ipython",
    "version": 3
   },
   "file_extension": ".py",
   "mimetype": "text/x-python",
   "name": "python",
   "nbconvert_exporter": "python",
   "pygments_lexer": "ipython3",
   "version": "3.8.5"
  }
 },
 "nbformat": 4,
 "nbformat_minor": 5
}
