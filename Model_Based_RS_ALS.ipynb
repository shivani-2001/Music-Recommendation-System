{
 "cells": [
  {
   "cell_type": "markdown",
   "id": "e2de22c7",
   "metadata": {},
   "source": [
    "<center><h2> Collaborative Model Based Recommendation system </center></h2>\n",
    "\n",
    "Model-based collaborative filtering algorithms provide item recommendations by first developing a model of user ratings. The recommendations can be made using the deterministic algorithms as well as Bayesian and in the project, we'll use ALS which is a deterministic approach.\n",
    "\n",
    "Model-based approaches include: \n",
    "\n",
    "* Matrix-factorisation-based approaches,\n",
    "* Clustering-approaches and\n",
    "* Deep-learning-based approaches."
   ]
  },
  {
   "cell_type": "markdown",
   "id": "2ec6531e",
   "metadata": {},
   "source": [
    "Some of the features of the ALS algorithm are discussed below:\n",
    "\n",
    "* Alternating least squares (ALS) is a matrix factorization algorithm that separates the user-rating matrix into two matrices: the user matrix and the item matrix.\n",
    "* It learns the parameters of the user and the item matrices using gradient descent in an alternating manner.\n",
    "* Once the user and item matrices are learnt, we multiply them to get the ratings in the user-rating matrix where the rating was unknown, which helps in deciding the recommendations.\n",
    "* The matrix multiplications occur parallelly, not sequentially.\n",
    "* ALS is built for implementing large-scale collaborative filtering on huge data sets.\n",
    "* The user-rating matrix may contain many empty entries, indicating that users have not watched the movies yet. These kinds of matrices are called sparse matrices. The ALS algorithm is able to work with such sparse matrices also, unlike other recommendation algorithms."
   ]
  },
  {
   "cell_type": "code",
   "execution_count": 1,
   "id": "17fa69cf",
   "metadata": {},
   "outputs": [],
   "source": [
    "import string\n",
    "import warnings\n",
    "import implicit\n",
    "import numpy as np\n",
    "import pandas as pd\n",
    "from sklearn import preprocessing\n",
    "from scipy.sparse import csr_matrix\n",
    "from sklearn.model_selection import train_test_split\n",
    "warnings.filterwarnings('ignore')"
   ]
  },
  {
   "cell_type": "code",
   "execution_count": 2,
   "id": "638fedb7",
   "metadata": {},
   "outputs": [
    {
     "data": {
      "text/html": [
       "<div>\n",
       "<style scoped>\n",
       "    .dataframe tbody tr th:only-of-type {\n",
       "        vertical-align: middle;\n",
       "    }\n",
       "\n",
       "    .dataframe tbody tr th {\n",
       "        vertical-align: top;\n",
       "    }\n",
       "\n",
       "    .dataframe thead th {\n",
       "        text-align: right;\n",
       "    }\n",
       "</style>\n",
       "<table border=\"1\" class=\"dataframe\">\n",
       "  <thead>\n",
       "    <tr style=\"text-align: right;\">\n",
       "      <th></th>\n",
       "      <th>user</th>\n",
       "      <th>song</th>\n",
       "      <th>play_count</th>\n",
       "      <th>track_id</th>\n",
       "      <th>artist</th>\n",
       "      <th>title</th>\n",
       "    </tr>\n",
       "  </thead>\n",
       "  <tbody>\n",
       "    <tr>\n",
       "      <th>0</th>\n",
       "      <td>fd50c4007b68a3737fe052d5a4f78ce8aa117f3d</td>\n",
       "      <td>SOBONKR12A58A7A7E0</td>\n",
       "      <td>1</td>\n",
       "      <td>TRAEHHJ12903CF492F</td>\n",
       "      <td>Dwight Yoakam</td>\n",
       "      <td>You're The One</td>\n",
       "    </tr>\n",
       "    <tr>\n",
       "      <th>1</th>\n",
       "      <td>fd50c4007b68a3737fe052d5a4f78ce8aa117f3d</td>\n",
       "      <td>SOEGIYH12A6D4FC0E3</td>\n",
       "      <td>1</td>\n",
       "      <td>TRLGMFJ128F4217DBE</td>\n",
       "      <td>Barry Tuckwell/Academy of St Martin-in-the-Fie...</td>\n",
       "      <td>Horn Concerto No. 4 in E flat K495: II. Romanc...</td>\n",
       "    </tr>\n",
       "    <tr>\n",
       "      <th>2</th>\n",
       "      <td>fd50c4007b68a3737fe052d5a4f78ce8aa117f3d</td>\n",
       "      <td>SOFLJQZ12A6D4FADA6</td>\n",
       "      <td>1</td>\n",
       "      <td>TRTNDNE128F1486812</td>\n",
       "      <td>Cartola</td>\n",
       "      <td>Tive Sim</td>\n",
       "    </tr>\n",
       "    <tr>\n",
       "      <th>3</th>\n",
       "      <td>fd50c4007b68a3737fe052d5a4f78ce8aa117f3d</td>\n",
       "      <td>SOHTKMO12AB01843B0</td>\n",
       "      <td>1</td>\n",
       "      <td>TRASTUE128F930D488</td>\n",
       "      <td>Lonnie Gordon</td>\n",
       "      <td>Catch You Baby (Steve Pitron &amp; Max Sanna Radio...</td>\n",
       "    </tr>\n",
       "    <tr>\n",
       "      <th>4</th>\n",
       "      <td>fd50c4007b68a3737fe052d5a4f78ce8aa117f3d</td>\n",
       "      <td>SODQZCY12A6D4F9D11</td>\n",
       "      <td>1</td>\n",
       "      <td>TRFPLWO128F1486B9E</td>\n",
       "      <td>Miguel Calo</td>\n",
       "      <td>El Cuatrero</td>\n",
       "    </tr>\n",
       "  </tbody>\n",
       "</table>\n",
       "</div>"
      ],
      "text/plain": [
       "                                       user                song  play_count  \\\n",
       "0  fd50c4007b68a3737fe052d5a4f78ce8aa117f3d  SOBONKR12A58A7A7E0           1   \n",
       "1  fd50c4007b68a3737fe052d5a4f78ce8aa117f3d  SOEGIYH12A6D4FC0E3           1   \n",
       "2  fd50c4007b68a3737fe052d5a4f78ce8aa117f3d  SOFLJQZ12A6D4FADA6           1   \n",
       "3  fd50c4007b68a3737fe052d5a4f78ce8aa117f3d  SOHTKMO12AB01843B0           1   \n",
       "4  fd50c4007b68a3737fe052d5a4f78ce8aa117f3d  SODQZCY12A6D4F9D11           1   \n",
       "\n",
       "             track_id                                             artist  \\\n",
       "0  TRAEHHJ12903CF492F                                      Dwight Yoakam   \n",
       "1  TRLGMFJ128F4217DBE  Barry Tuckwell/Academy of St Martin-in-the-Fie...   \n",
       "2  TRTNDNE128F1486812                                            Cartola   \n",
       "3  TRASTUE128F930D488                                      Lonnie Gordon   \n",
       "4  TRFPLWO128F1486B9E                                        Miguel Calo   \n",
       "\n",
       "                                               title  \n",
       "0                                     You're The One  \n",
       "1  Horn Concerto No. 4 in E flat K495: II. Romanc...  \n",
       "2                                           Tive Sim  \n",
       "3  Catch You Baby (Steve Pitron & Max Sanna Radio...  \n",
       "4                                        El Cuatrero  "
      ]
     },
     "execution_count": 2,
     "metadata": {},
     "output_type": "execute_result"
    }
   ],
   "source": [
    "song_data = pd.read_csv(\"kaggle/song_data.txt\", sep = ',')\n",
    "song_data.head()"
   ]
  },
  {
   "cell_type": "code",
   "execution_count": 3,
   "id": "68230b74",
   "metadata": {},
   "outputs": [
    {
     "data": {
      "text/plain": [
       "(1450933, 6)"
      ]
     },
     "execution_count": 3,
     "metadata": {},
     "output_type": "execute_result"
    }
   ],
   "source": [
    "song_data.shape"
   ]
  },
  {
   "cell_type": "code",
   "execution_count": 4,
   "id": "202772e1",
   "metadata": {},
   "outputs": [],
   "source": [
    "song_data1 = song_data.copy()"
   ]
  },
  {
   "cell_type": "code",
   "execution_count": 5,
   "id": "0bb97cb2",
   "metadata": {},
   "outputs": [],
   "source": [
    "encoding_user_song = preprocessing.OrdinalEncoder()\n",
    "song_data1['user_id'] = encoding_user_song.fit_transform(song_data1[['user']])\n",
    "song_data1['song_id'] = encoding_user_song.fit_transform(song_data1[['song']])"
   ]
  },
  {
   "cell_type": "code",
   "execution_count": 6,
   "id": "044cd32d",
   "metadata": {},
   "outputs": [
    {
     "data": {
      "text/html": [
       "<div>\n",
       "<style scoped>\n",
       "    .dataframe tbody tr th:only-of-type {\n",
       "        vertical-align: middle;\n",
       "    }\n",
       "\n",
       "    .dataframe tbody tr th {\n",
       "        vertical-align: top;\n",
       "    }\n",
       "\n",
       "    .dataframe thead th {\n",
       "        text-align: right;\n",
       "    }\n",
       "</style>\n",
       "<table border=\"1\" class=\"dataframe\">\n",
       "  <thead>\n",
       "    <tr style=\"text-align: right;\">\n",
       "      <th></th>\n",
       "      <th>user</th>\n",
       "      <th>song</th>\n",
       "      <th>play_count</th>\n",
       "      <th>track_id</th>\n",
       "      <th>artist</th>\n",
       "      <th>title</th>\n",
       "      <th>user_id</th>\n",
       "      <th>song_id</th>\n",
       "    </tr>\n",
       "  </thead>\n",
       "  <tbody>\n",
       "    <tr>\n",
       "      <th>0</th>\n",
       "      <td>fd50c4007b68a3737fe052d5a4f78ce8aa117f3d</td>\n",
       "      <td>SOBONKR12A58A7A7E0</td>\n",
       "      <td>1</td>\n",
       "      <td>TRAEHHJ12903CF492F</td>\n",
       "      <td>Dwight Yoakam</td>\n",
       "      <td>You're The One</td>\n",
       "      <td>108811.0</td>\n",
       "      <td>10546.0</td>\n",
       "    </tr>\n",
       "    <tr>\n",
       "      <th>1</th>\n",
       "      <td>fd50c4007b68a3737fe052d5a4f78ce8aa117f3d</td>\n",
       "      <td>SOEGIYH12A6D4FC0E3</td>\n",
       "      <td>1</td>\n",
       "      <td>TRLGMFJ128F4217DBE</td>\n",
       "      <td>Barry Tuckwell/Academy of St Martin-in-the-Fie...</td>\n",
       "      <td>Horn Concerto No. 4 in E flat K495: II. Romanc...</td>\n",
       "      <td>108811.0</td>\n",
       "      <td>28684.0</td>\n",
       "    </tr>\n",
       "    <tr>\n",
       "      <th>2</th>\n",
       "      <td>fd50c4007b68a3737fe052d5a4f78ce8aa117f3d</td>\n",
       "      <td>SOFLJQZ12A6D4FADA6</td>\n",
       "      <td>1</td>\n",
       "      <td>TRTNDNE128F1486812</td>\n",
       "      <td>Cartola</td>\n",
       "      <td>Tive Sim</td>\n",
       "      <td>108811.0</td>\n",
       "      <td>36622.0</td>\n",
       "    </tr>\n",
       "    <tr>\n",
       "      <th>3</th>\n",
       "      <td>fd50c4007b68a3737fe052d5a4f78ce8aa117f3d</td>\n",
       "      <td>SOHTKMO12AB01843B0</td>\n",
       "      <td>1</td>\n",
       "      <td>TRASTUE128F930D488</td>\n",
       "      <td>Lonnie Gordon</td>\n",
       "      <td>Catch You Baby (Steve Pitron &amp; Max Sanna Radio...</td>\n",
       "      <td>108811.0</td>\n",
       "      <td>51861.0</td>\n",
       "    </tr>\n",
       "    <tr>\n",
       "      <th>4</th>\n",
       "      <td>fd50c4007b68a3737fe052d5a4f78ce8aa117f3d</td>\n",
       "      <td>SODQZCY12A6D4F9D11</td>\n",
       "      <td>1</td>\n",
       "      <td>TRFPLWO128F1486B9E</td>\n",
       "      <td>Miguel Calo</td>\n",
       "      <td>El Cuatrero</td>\n",
       "      <td>108811.0</td>\n",
       "      <td>24663.0</td>\n",
       "    </tr>\n",
       "  </tbody>\n",
       "</table>\n",
       "</div>"
      ],
      "text/plain": [
       "                                       user                song  play_count  \\\n",
       "0  fd50c4007b68a3737fe052d5a4f78ce8aa117f3d  SOBONKR12A58A7A7E0           1   \n",
       "1  fd50c4007b68a3737fe052d5a4f78ce8aa117f3d  SOEGIYH12A6D4FC0E3           1   \n",
       "2  fd50c4007b68a3737fe052d5a4f78ce8aa117f3d  SOFLJQZ12A6D4FADA6           1   \n",
       "3  fd50c4007b68a3737fe052d5a4f78ce8aa117f3d  SOHTKMO12AB01843B0           1   \n",
       "4  fd50c4007b68a3737fe052d5a4f78ce8aa117f3d  SODQZCY12A6D4F9D11           1   \n",
       "\n",
       "             track_id                                             artist  \\\n",
       "0  TRAEHHJ12903CF492F                                      Dwight Yoakam   \n",
       "1  TRLGMFJ128F4217DBE  Barry Tuckwell/Academy of St Martin-in-the-Fie...   \n",
       "2  TRTNDNE128F1486812                                            Cartola   \n",
       "3  TRASTUE128F930D488                                      Lonnie Gordon   \n",
       "4  TRFPLWO128F1486B9E                                        Miguel Calo   \n",
       "\n",
       "                                               title   user_id  song_id  \n",
       "0                                     You're The One  108811.0  10546.0  \n",
       "1  Horn Concerto No. 4 in E flat K495: II. Romanc...  108811.0  28684.0  \n",
       "2                                           Tive Sim  108811.0  36622.0  \n",
       "3  Catch You Baby (Steve Pitron & Max Sanna Radio...  108811.0  51861.0  \n",
       "4                                        El Cuatrero  108811.0  24663.0  "
      ]
     },
     "execution_count": 6,
     "metadata": {},
     "output_type": "execute_result"
    }
   ],
   "source": [
    "song_data1.head()"
   ]
  },
  {
   "cell_type": "code",
   "execution_count": 7,
   "id": "fa234ddc",
   "metadata": {},
   "outputs": [
    {
     "name": "stdout",
     "output_type": "stream",
     "text": [
      "110000 110000\n"
     ]
    }
   ],
   "source": [
    "print(song_data1.user.nunique(), song_data1.user_id.nunique())"
   ]
  },
  {
   "cell_type": "code",
   "execution_count": 8,
   "id": "9768d6d3",
   "metadata": {},
   "outputs": [
    {
     "name": "stdout",
     "output_type": "stream",
     "text": [
      "163206 163206\n"
     ]
    }
   ],
   "source": [
    "print(song_data1.song.nunique(), song_data1.song_id.nunique())"
   ]
  },
  {
   "cell_type": "code",
   "execution_count": 9,
   "id": "c0f8d5dd",
   "metadata": {},
   "outputs": [],
   "source": [
    "song_data1['user_id'] = song_data1['user_id'].astype('int')\n",
    "song_data1['song_id'] = song_data1['song_id'].astype('int')"
   ]
  },
  {
   "cell_type": "code",
   "execution_count": 10,
   "id": "f2050d83",
   "metadata": {},
   "outputs": [
    {
     "data": {
      "text/html": [
       "<div>\n",
       "<style scoped>\n",
       "    .dataframe tbody tr th:only-of-type {\n",
       "        vertical-align: middle;\n",
       "    }\n",
       "\n",
       "    .dataframe tbody tr th {\n",
       "        vertical-align: top;\n",
       "    }\n",
       "\n",
       "    .dataframe thead th {\n",
       "        text-align: right;\n",
       "    }\n",
       "</style>\n",
       "<table border=\"1\" class=\"dataframe\">\n",
       "  <thead>\n",
       "    <tr style=\"text-align: right;\">\n",
       "      <th></th>\n",
       "      <th>user</th>\n",
       "      <th>song</th>\n",
       "      <th>play_count</th>\n",
       "      <th>track_id</th>\n",
       "      <th>artist</th>\n",
       "      <th>title</th>\n",
       "      <th>user_id</th>\n",
       "      <th>song_id</th>\n",
       "    </tr>\n",
       "  </thead>\n",
       "  <tbody>\n",
       "    <tr>\n",
       "      <th>0</th>\n",
       "      <td>fd50c4007b68a3737fe052d5a4f78ce8aa117f3d</td>\n",
       "      <td>SOBONKR12A58A7A7E0</td>\n",
       "      <td>1</td>\n",
       "      <td>TRAEHHJ12903CF492F</td>\n",
       "      <td>Dwight Yoakam</td>\n",
       "      <td>You're The One</td>\n",
       "      <td>108811</td>\n",
       "      <td>10546</td>\n",
       "    </tr>\n",
       "    <tr>\n",
       "      <th>1</th>\n",
       "      <td>fd50c4007b68a3737fe052d5a4f78ce8aa117f3d</td>\n",
       "      <td>SOEGIYH12A6D4FC0E3</td>\n",
       "      <td>1</td>\n",
       "      <td>TRLGMFJ128F4217DBE</td>\n",
       "      <td>Barry Tuckwell/Academy of St Martin-in-the-Fie...</td>\n",
       "      <td>Horn Concerto No. 4 in E flat K495: II. Romanc...</td>\n",
       "      <td>108811</td>\n",
       "      <td>28684</td>\n",
       "    </tr>\n",
       "    <tr>\n",
       "      <th>2</th>\n",
       "      <td>fd50c4007b68a3737fe052d5a4f78ce8aa117f3d</td>\n",
       "      <td>SOFLJQZ12A6D4FADA6</td>\n",
       "      <td>1</td>\n",
       "      <td>TRTNDNE128F1486812</td>\n",
       "      <td>Cartola</td>\n",
       "      <td>Tive Sim</td>\n",
       "      <td>108811</td>\n",
       "      <td>36622</td>\n",
       "    </tr>\n",
       "    <tr>\n",
       "      <th>3</th>\n",
       "      <td>fd50c4007b68a3737fe052d5a4f78ce8aa117f3d</td>\n",
       "      <td>SOHTKMO12AB01843B0</td>\n",
       "      <td>1</td>\n",
       "      <td>TRASTUE128F930D488</td>\n",
       "      <td>Lonnie Gordon</td>\n",
       "      <td>Catch You Baby (Steve Pitron &amp; Max Sanna Radio...</td>\n",
       "      <td>108811</td>\n",
       "      <td>51861</td>\n",
       "    </tr>\n",
       "    <tr>\n",
       "      <th>4</th>\n",
       "      <td>fd50c4007b68a3737fe052d5a4f78ce8aa117f3d</td>\n",
       "      <td>SODQZCY12A6D4F9D11</td>\n",
       "      <td>1</td>\n",
       "      <td>TRFPLWO128F1486B9E</td>\n",
       "      <td>Miguel Calo</td>\n",
       "      <td>El Cuatrero</td>\n",
       "      <td>108811</td>\n",
       "      <td>24663</td>\n",
       "    </tr>\n",
       "  </tbody>\n",
       "</table>\n",
       "</div>"
      ],
      "text/plain": [
       "                                       user                song  play_count  \\\n",
       "0  fd50c4007b68a3737fe052d5a4f78ce8aa117f3d  SOBONKR12A58A7A7E0           1   \n",
       "1  fd50c4007b68a3737fe052d5a4f78ce8aa117f3d  SOEGIYH12A6D4FC0E3           1   \n",
       "2  fd50c4007b68a3737fe052d5a4f78ce8aa117f3d  SOFLJQZ12A6D4FADA6           1   \n",
       "3  fd50c4007b68a3737fe052d5a4f78ce8aa117f3d  SOHTKMO12AB01843B0           1   \n",
       "4  fd50c4007b68a3737fe052d5a4f78ce8aa117f3d  SODQZCY12A6D4F9D11           1   \n",
       "\n",
       "             track_id                                             artist  \\\n",
       "0  TRAEHHJ12903CF492F                                      Dwight Yoakam   \n",
       "1  TRLGMFJ128F4217DBE  Barry Tuckwell/Academy of St Martin-in-the-Fie...   \n",
       "2  TRTNDNE128F1486812                                            Cartola   \n",
       "3  TRASTUE128F930D488                                      Lonnie Gordon   \n",
       "4  TRFPLWO128F1486B9E                                        Miguel Calo   \n",
       "\n",
       "                                               title  user_id  song_id  \n",
       "0                                     You're The One   108811    10546  \n",
       "1  Horn Concerto No. 4 in E flat K495: II. Romanc...   108811    28684  \n",
       "2                                           Tive Sim   108811    36622  \n",
       "3  Catch You Baby (Steve Pitron & Max Sanna Radio...   108811    51861  \n",
       "4                                        El Cuatrero   108811    24663  "
      ]
     },
     "execution_count": 10,
     "metadata": {},
     "output_type": "execute_result"
    }
   ],
   "source": [
    "song_data1.head()"
   ]
  },
  {
   "cell_type": "markdown",
   "id": "128c70f5",
   "metadata": {},
   "source": [
    "<h3> Creating a user-item sparse matrix </h3>"
   ]
  },
  {
   "cell_type": "code",
   "execution_count": 11,
   "id": "5f9e73f6",
   "metadata": {},
   "outputs": [],
   "source": [
    "alpha = 40\n",
    "sparse_user_item = csr_matrix(([alpha]*song_data1.shape[0], (song_data1['user_id'], song_data1['song_id'])))"
   ]
  },
  {
   "cell_type": "code",
   "execution_count": 12,
   "id": "cf0ab688",
   "metadata": {},
   "outputs": [
    {
     "data": {
      "text/plain": [
       "<110000x163206 sparse matrix of type '<class 'numpy.intc'>'\n",
       "\twith 1450933 stored elements in Compressed Sparse Row format>"
      ]
     },
     "execution_count": 12,
     "metadata": {},
     "output_type": "execute_result"
    }
   ],
   "source": [
    "sparse_user_item"
   ]
  },
  {
   "cell_type": "markdown",
   "id": "39c03735",
   "metadata": {},
   "source": [
    "<h3> Creating a item-user sparse matrix </h3>"
   ]
  },
  {
   "cell_type": "code",
   "execution_count": 13,
   "id": "19908379",
   "metadata": {},
   "outputs": [],
   "source": [
    "sparse_item_user = sparse_user_item.T.tocsr()"
   ]
  },
  {
   "cell_type": "code",
   "execution_count": 14,
   "id": "26d2ef0e",
   "metadata": {},
   "outputs": [
    {
     "data": {
      "text/plain": [
       "<163206x110000 sparse matrix of type '<class 'numpy.intc'>'\n",
       "\twith 1450933 stored elements in Compressed Sparse Row format>"
      ]
     },
     "execution_count": 14,
     "metadata": {},
     "output_type": "execute_result"
    }
   ],
   "source": [
    "sparse_item_user"
   ]
  },
  {
   "cell_type": "markdown",
   "id": "fe8c1d05",
   "metadata": {},
   "source": [
    "<h3> Model training </h3>"
   ]
  },
  {
   "cell_type": "code",
   "execution_count": 15,
   "id": "31a67c88",
   "metadata": {},
   "outputs": [],
   "source": [
    "train, test = train_test_split(sparse_item_user, train_size=0.8)"
   ]
  },
  {
   "cell_type": "code",
   "execution_count": 16,
   "id": "d2debf4a",
   "metadata": {},
   "outputs": [
    {
     "data": {
      "text/plain": [
       "<130564x110000 sparse matrix of type '<class 'numpy.intc'>'\n",
       "\twith 1163574 stored elements in Compressed Sparse Row format>"
      ]
     },
     "execution_count": 16,
     "metadata": {},
     "output_type": "execute_result"
    }
   ],
   "source": [
    "train"
   ]
  },
  {
   "cell_type": "code",
   "execution_count": 17,
   "id": "be932ed2",
   "metadata": {},
   "outputs": [
    {
     "data": {
      "text/plain": [
       "<32642x110000 sparse matrix of type '<class 'numpy.intc'>'\n",
       "\twith 287359 stored elements in Compressed Sparse Row format>"
      ]
     },
     "execution_count": 17,
     "metadata": {},
     "output_type": "execute_result"
    }
   ],
   "source": [
    "test"
   ]
  },
  {
   "cell_type": "code",
   "execution_count": 18,
   "id": "00040671",
   "metadata": {},
   "outputs": [
    {
     "name": "stderr",
     "output_type": "stream",
     "text": [
      "WARNING:root:OpenBLAS detected. Its highly recommend to set the environment variable 'export OPENBLAS_NUM_THREADS=1' to disable its internal multithreading\n"
     ]
    }
   ],
   "source": [
    "model = implicit.als.AlternatingLeastSquares(factors=100, regularization=0.1, iterations=20, calculate_training_loss=False)"
   ]
  },
  {
   "cell_type": "code",
   "execution_count": 19,
   "id": "1854422e",
   "metadata": {},
   "outputs": [
    {
     "data": {
      "application/vnd.jupyter.widget-view+json": {
       "model_id": "5c6ff8170106404e891054edd785b1f4",
       "version_major": 2,
       "version_minor": 0
      },
      "text/plain": [
       "  0%|          | 0/20 [00:00<?, ?it/s]"
      ]
     },
     "metadata": {},
     "output_type": "display_data"
    }
   ],
   "source": [
    "model.fit(train)"
   ]
  },
  {
   "cell_type": "markdown",
   "id": "9d3f135b",
   "metadata": {},
   "source": [
    "<h3> Song recommendations for any user id </h3>"
   ]
  },
  {
   "cell_type": "code",
   "execution_count": 20,
   "id": "a2626f30",
   "metadata": {},
   "outputs": [
    {
     "data": {
      "text/plain": [
       "[(25353, 0.95523936),\n",
       " (80060, 0.95519245),\n",
       " (52441, 0.91682243),\n",
       " (67381, 0.91670614),\n",
       " (106530, 0.88098913),\n",
       " (72129, 0.7032826),\n",
       " (68336, 0.6019877),\n",
       " (94663, 0.57464206),\n",
       " (45588, 0.53022385),\n",
       " (1287, 0.5071815)]"
      ]
     },
     "execution_count": 20,
     "metadata": {},
     "output_type": "execute_result"
    }
   ],
   "source": [
    "user = 108811\n",
    "model.recommend(user, sparse_user_item)"
   ]
  },
  {
   "cell_type": "code",
   "execution_count": 21,
   "id": "cc12dba3",
   "metadata": {},
   "outputs": [],
   "source": [
    "user = 'fd50c4007b68a3737fe052d5a4f78ce8aa117f3d'\n",
    "user_id = song_data1['user_id'][song_data['user']==user]\n",
    "user = user_id[0]"
   ]
  },
  {
   "cell_type": "code",
   "execution_count": 22,
   "id": "4beee093",
   "metadata": {},
   "outputs": [
    {
     "data": {
      "text/plain": [
       "[(25353, 0.95523936),\n",
       " (80060, 0.95519245),\n",
       " (52441, 0.91682243),\n",
       " (67381, 0.91670614),\n",
       " (106530, 0.88098913),\n",
       " (72129, 0.7032826),\n",
       " (68336, 0.6019877),\n",
       " (94663, 0.57464206),\n",
       " (45588, 0.53022385),\n",
       " (1287, 0.5071815)]"
      ]
     },
     "execution_count": 22,
     "metadata": {},
     "output_type": "execute_result"
    }
   ],
   "source": [
    "model.recommend(user, sparse_user_item)"
   ]
  },
  {
   "cell_type": "code",
   "execution_count": 23,
   "id": "9a4720f1",
   "metadata": {},
   "outputs": [],
   "source": [
    "output = model.recommend(user, sparse_user_item)"
   ]
  },
  {
   "cell_type": "code",
   "execution_count": 24,
   "id": "e85381a3",
   "metadata": {},
   "outputs": [],
   "source": [
    "output_df = pd.DataFrame(output, columns=['song_id', 'als_score'])"
   ]
  },
  {
   "cell_type": "code",
   "execution_count": 25,
   "id": "f84d66d4",
   "metadata": {},
   "outputs": [
    {
     "data": {
      "text/plain": [
       "(10, 2)"
      ]
     },
     "execution_count": 25,
     "metadata": {},
     "output_type": "execute_result"
    }
   ],
   "source": [
    "output_df.shape"
   ]
  },
  {
   "cell_type": "code",
   "execution_count": 26,
   "id": "c0ce5c00",
   "metadata": {},
   "outputs": [],
   "source": [
    "song_data2 = song_data1[['song', 'song_id', 'title']].copy()"
   ]
  },
  {
   "cell_type": "code",
   "execution_count": 27,
   "id": "7ee5c2be",
   "metadata": {},
   "outputs": [],
   "source": [
    "merged = pd.merge(output_df, song_data2, how='left', on='song_id')"
   ]
  },
  {
   "cell_type": "code",
   "execution_count": 28,
   "id": "5930555a",
   "metadata": {},
   "outputs": [],
   "source": [
    "merged.drop_duplicates(inplace=True)"
   ]
  },
  {
   "cell_type": "code",
   "execution_count": 29,
   "id": "a0d5f8d3",
   "metadata": {},
   "outputs": [
    {
     "data": {
      "text/html": [
       "<div>\n",
       "<style scoped>\n",
       "    .dataframe tbody tr th:only-of-type {\n",
       "        vertical-align: middle;\n",
       "    }\n",
       "\n",
       "    .dataframe tbody tr th {\n",
       "        vertical-align: top;\n",
       "    }\n",
       "\n",
       "    .dataframe thead th {\n",
       "        text-align: right;\n",
       "    }\n",
       "</style>\n",
       "<table border=\"1\" class=\"dataframe\">\n",
       "  <thead>\n",
       "    <tr style=\"text-align: right;\">\n",
       "      <th></th>\n",
       "      <th>song_id</th>\n",
       "      <th>als_score</th>\n",
       "      <th>song</th>\n",
       "      <th>title</th>\n",
       "    </tr>\n",
       "  </thead>\n",
       "  <tbody>\n",
       "    <tr>\n",
       "      <th>0</th>\n",
       "      <td>25353</td>\n",
       "      <td>0.955239</td>\n",
       "      <td>SODTOQT12A8AE4596E</td>\n",
       "      <td>Medley SPC: Nosso Sonho Não É Ilusão / Tão Só ...</td>\n",
       "    </tr>\n",
       "    <tr>\n",
       "      <th>1</th>\n",
       "      <td>80060</td>\n",
       "      <td>0.955192</td>\n",
       "      <td>SOMDQVL12A58A7CF19</td>\n",
       "      <td>Cupido</td>\n",
       "    </tr>\n",
       "    <tr>\n",
       "      <th>2</th>\n",
       "      <td>52441</td>\n",
       "      <td>0.916822</td>\n",
       "      <td>SOHVTMT12A58A79A18</td>\n",
       "      <td>Timekiller (Video Edit / Original)</td>\n",
       "    </tr>\n",
       "    <tr>\n",
       "      <th>3</th>\n",
       "      <td>67381</td>\n",
       "      <td>0.916706</td>\n",
       "      <td>SOKDXEU12A8C139241</td>\n",
       "      <td>Margarita</td>\n",
       "    </tr>\n",
       "    <tr>\n",
       "      <th>4</th>\n",
       "      <td>106530</td>\n",
       "      <td>0.880989</td>\n",
       "      <td>SOQKHPE12A6D4FB4FF</td>\n",
       "      <td>Throes Of Rejection (LP Version)</td>\n",
       "    </tr>\n",
       "    <tr>\n",
       "      <th>5</th>\n",
       "      <td>72129</td>\n",
       "      <td>0.703283</td>\n",
       "      <td>SOKXIZH12AAF3B34D6</td>\n",
       "      <td>Among The Lazarae</td>\n",
       "    </tr>\n",
       "    <tr>\n",
       "      <th>6</th>\n",
       "      <td>68336</td>\n",
       "      <td>0.601988</td>\n",
       "      <td>SOKHRWE12A6D4F6BE7</td>\n",
       "      <td>Cuando Seolvida El Amor</td>\n",
       "    </tr>\n",
       "    <tr>\n",
       "      <th>7</th>\n",
       "      <td>94663</td>\n",
       "      <td>0.574642</td>\n",
       "      <td>SOOLXMH12AB018AB09</td>\n",
       "      <td>Welcome The Day</td>\n",
       "    </tr>\n",
       "    <tr>\n",
       "      <th>8</th>\n",
       "      <td>45588</td>\n",
       "      <td>0.530224</td>\n",
       "      <td>SOGUJIM12AB0183637</td>\n",
       "      <td>Do You Know What It Means To Miss New Orleans?</td>\n",
       "    </tr>\n",
       "    <tr>\n",
       "      <th>9</th>\n",
       "      <td>1287</td>\n",
       "      <td>0.507182</td>\n",
       "      <td>SOAEZBT12A6701FDCA</td>\n",
       "      <td>Little Ghetto Boy (Live Version)</td>\n",
       "    </tr>\n",
       "  </tbody>\n",
       "</table>\n",
       "</div>"
      ],
      "text/plain": [
       "   song_id  als_score                song  \\\n",
       "0    25353   0.955239  SODTOQT12A8AE4596E   \n",
       "1    80060   0.955192  SOMDQVL12A58A7CF19   \n",
       "2    52441   0.916822  SOHVTMT12A58A79A18   \n",
       "3    67381   0.916706  SOKDXEU12A8C139241   \n",
       "4   106530   0.880989  SOQKHPE12A6D4FB4FF   \n",
       "5    72129   0.703283  SOKXIZH12AAF3B34D6   \n",
       "6    68336   0.601988  SOKHRWE12A6D4F6BE7   \n",
       "7    94663   0.574642  SOOLXMH12AB018AB09   \n",
       "8    45588   0.530224  SOGUJIM12AB0183637   \n",
       "9     1287   0.507182  SOAEZBT12A6701FDCA   \n",
       "\n",
       "                                               title  \n",
       "0  Medley SPC: Nosso Sonho Não É Ilusão / Tão Só ...  \n",
       "1                                             Cupido  \n",
       "2                 Timekiller (Video Edit / Original)  \n",
       "3                                          Margarita  \n",
       "4                   Throes Of Rejection (LP Version)  \n",
       "5                                  Among The Lazarae  \n",
       "6                            Cuando Seolvida El Amor  \n",
       "7                                    Welcome The Day  \n",
       "8     Do You Know What It Means To Miss New Orleans?  \n",
       "9                   Little Ghetto Boy (Live Version)  "
      ]
     },
     "execution_count": 29,
     "metadata": {},
     "output_type": "execute_result"
    }
   ],
   "source": [
    "merged.reset_index(drop=True)"
   ]
  },
  {
   "cell_type": "markdown",
   "id": "944f12e5",
   "metadata": {},
   "source": [
    "<h3> Normalize the als score </h3>"
   ]
  },
  {
   "cell_type": "code",
   "execution_count": 30,
   "id": "a72997e9",
   "metadata": {},
   "outputs": [],
   "source": [
    "merged['als_score_normalized'] = (merged['als_score'] - min(merged['als_score'])) / (max(merged['als_score']) - min(merged['als_score']))"
   ]
  },
  {
   "cell_type": "code",
   "execution_count": 31,
   "id": "456a8ede",
   "metadata": {},
   "outputs": [
    {
     "data": {
      "text/html": [
       "<div>\n",
       "<style scoped>\n",
       "    .dataframe tbody tr th:only-of-type {\n",
       "        vertical-align: middle;\n",
       "    }\n",
       "\n",
       "    .dataframe tbody tr th {\n",
       "        vertical-align: top;\n",
       "    }\n",
       "\n",
       "    .dataframe thead th {\n",
       "        text-align: right;\n",
       "    }\n",
       "</style>\n",
       "<table border=\"1\" class=\"dataframe\">\n",
       "  <thead>\n",
       "    <tr style=\"text-align: right;\">\n",
       "      <th></th>\n",
       "      <th>song_id</th>\n",
       "      <th>als_score</th>\n",
       "      <th>song</th>\n",
       "      <th>title</th>\n",
       "      <th>als_score_normalized</th>\n",
       "    </tr>\n",
       "  </thead>\n",
       "  <tbody>\n",
       "    <tr>\n",
       "      <th>0</th>\n",
       "      <td>25353</td>\n",
       "      <td>0.955239</td>\n",
       "      <td>SODTOQT12A8AE4596E</td>\n",
       "      <td>Medley SPC: Nosso Sonho Não É Ilusão / Tão Só ...</td>\n",
       "      <td>1.000000</td>\n",
       "    </tr>\n",
       "    <tr>\n",
       "      <th>2</th>\n",
       "      <td>80060</td>\n",
       "      <td>0.955192</td>\n",
       "      <td>SOMDQVL12A58A7CF19</td>\n",
       "      <td>Cupido</td>\n",
       "      <td>0.999895</td>\n",
       "    </tr>\n",
       "    <tr>\n",
       "      <th>12</th>\n",
       "      <td>52441</td>\n",
       "      <td>0.916822</td>\n",
       "      <td>SOHVTMT12A58A79A18</td>\n",
       "      <td>Timekiller (Video Edit / Original)</td>\n",
       "      <td>0.914259</td>\n",
       "    </tr>\n",
       "    <tr>\n",
       "      <th>14</th>\n",
       "      <td>67381</td>\n",
       "      <td>0.916706</td>\n",
       "      <td>SOKDXEU12A8C139241</td>\n",
       "      <td>Margarita</td>\n",
       "      <td>0.913999</td>\n",
       "    </tr>\n",
       "    <tr>\n",
       "      <th>52</th>\n",
       "      <td>106530</td>\n",
       "      <td>0.880989</td>\n",
       "      <td>SOQKHPE12A6D4FB4FF</td>\n",
       "      <td>Throes Of Rejection (LP Version)</td>\n",
       "      <td>0.834284</td>\n",
       "    </tr>\n",
       "    <tr>\n",
       "      <th>55</th>\n",
       "      <td>72129</td>\n",
       "      <td>0.703283</td>\n",
       "      <td>SOKXIZH12AAF3B34D6</td>\n",
       "      <td>Among The Lazarae</td>\n",
       "      <td>0.437669</td>\n",
       "    </tr>\n",
       "    <tr>\n",
       "      <th>56</th>\n",
       "      <td>68336</td>\n",
       "      <td>0.601988</td>\n",
       "      <td>SOKHRWE12A6D4F6BE7</td>\n",
       "      <td>Cuando Seolvida El Amor</td>\n",
       "      <td>0.211594</td>\n",
       "    </tr>\n",
       "    <tr>\n",
       "      <th>57</th>\n",
       "      <td>94663</td>\n",
       "      <td>0.574642</td>\n",
       "      <td>SOOLXMH12AB018AB09</td>\n",
       "      <td>Welcome The Day</td>\n",
       "      <td>0.150562</td>\n",
       "    </tr>\n",
       "    <tr>\n",
       "      <th>58</th>\n",
       "      <td>45588</td>\n",
       "      <td>0.530224</td>\n",
       "      <td>SOGUJIM12AB0183637</td>\n",
       "      <td>Do You Know What It Means To Miss New Orleans?</td>\n",
       "      <td>0.051427</td>\n",
       "    </tr>\n",
       "    <tr>\n",
       "      <th>59</th>\n",
       "      <td>1287</td>\n",
       "      <td>0.507182</td>\n",
       "      <td>SOAEZBT12A6701FDCA</td>\n",
       "      <td>Little Ghetto Boy (Live Version)</td>\n",
       "      <td>0.000000</td>\n",
       "    </tr>\n",
       "  </tbody>\n",
       "</table>\n",
       "</div>"
      ],
      "text/plain": [
       "    song_id  als_score                song  \\\n",
       "0     25353   0.955239  SODTOQT12A8AE4596E   \n",
       "2     80060   0.955192  SOMDQVL12A58A7CF19   \n",
       "12    52441   0.916822  SOHVTMT12A58A79A18   \n",
       "14    67381   0.916706  SOKDXEU12A8C139241   \n",
       "52   106530   0.880989  SOQKHPE12A6D4FB4FF   \n",
       "55    72129   0.703283  SOKXIZH12AAF3B34D6   \n",
       "56    68336   0.601988  SOKHRWE12A6D4F6BE7   \n",
       "57    94663   0.574642  SOOLXMH12AB018AB09   \n",
       "58    45588   0.530224  SOGUJIM12AB0183637   \n",
       "59     1287   0.507182  SOAEZBT12A6701FDCA   \n",
       "\n",
       "                                                title  als_score_normalized  \n",
       "0   Medley SPC: Nosso Sonho Não É Ilusão / Tão Só ...              1.000000  \n",
       "2                                              Cupido              0.999895  \n",
       "12                 Timekiller (Video Edit / Original)              0.914259  \n",
       "14                                          Margarita              0.913999  \n",
       "52                   Throes Of Rejection (LP Version)              0.834284  \n",
       "55                                  Among The Lazarae              0.437669  \n",
       "56                            Cuando Seolvida El Amor              0.211594  \n",
       "57                                    Welcome The Day              0.150562  \n",
       "58     Do You Know What It Means To Miss New Orleans?              0.051427  \n",
       "59                   Little Ghetto Boy (Live Version)              0.000000  "
      ]
     },
     "execution_count": 31,
     "metadata": {},
     "output_type": "execute_result"
    }
   ],
   "source": [
    "merged"
   ]
  },
  {
   "cell_type": "markdown",
   "id": "62eb8f7e",
   "metadata": {},
   "source": [
    "<h3> Song recommendations for any song id </h3>"
   ]
  },
  {
   "cell_type": "code",
   "execution_count": 32,
   "id": "d5f89286",
   "metadata": {},
   "outputs": [
    {
     "data": {
      "text/plain": [
       "[(10546, 0.08205632),\n",
       " (2010, 0.072531745),\n",
       " (120294, 0.06939317),\n",
       " (96296, 0.06870074),\n",
       " (79849, 0.06819586),\n",
       " (11663, 0.0646287),\n",
       " (28211, 0.06420706),\n",
       " (3720, 0.063761875),\n",
       " (114492, 0.06371321),\n",
       " (20641, 0.063381895)]"
      ]
     },
     "execution_count": 32,
     "metadata": {},
     "output_type": "execute_result"
    }
   ],
   "source": [
    "song = 10546\n",
    "model.similar_items(song)"
   ]
  },
  {
   "cell_type": "code",
   "execution_count": 33,
   "id": "e95ed0e3",
   "metadata": {},
   "outputs": [],
   "source": [
    "song = 'SOBONKR12A58A7A7E0'\n",
    "song_id = song_data1['song_id'][song_data['song']==song]\n",
    "song = song_id[0]"
   ]
  },
  {
   "cell_type": "code",
   "execution_count": 34,
   "id": "52b8d2d5",
   "metadata": {},
   "outputs": [],
   "source": [
    "similar_items = model.similar_items(song)"
   ]
  },
  {
   "cell_type": "code",
   "execution_count": 35,
   "id": "45f9396f",
   "metadata": {},
   "outputs": [],
   "source": [
    "similar_items_df = pd.DataFrame(similar_items, columns=['song_id', 'als_score'])"
   ]
  },
  {
   "cell_type": "code",
   "execution_count": 36,
   "id": "8b66ace2",
   "metadata": {},
   "outputs": [
    {
     "data": {
      "text/plain": [
       "(10, 2)"
      ]
     },
     "execution_count": 36,
     "metadata": {},
     "output_type": "execute_result"
    }
   ],
   "source": [
    "similar_items_df.shape"
   ]
  },
  {
   "cell_type": "code",
   "execution_count": 37,
   "id": "08b40dc9",
   "metadata": {},
   "outputs": [],
   "source": [
    "merged1 = pd.merge(similar_items_df, song_data2, how='left', on='song_id')"
   ]
  },
  {
   "cell_type": "code",
   "execution_count": 38,
   "id": "650726fc",
   "metadata": {},
   "outputs": [],
   "source": [
    "merged1.drop_duplicates(inplace=True)"
   ]
  },
  {
   "cell_type": "code",
   "execution_count": 39,
   "id": "156093af",
   "metadata": {},
   "outputs": [
    {
     "data": {
      "text/html": [
       "<div>\n",
       "<style scoped>\n",
       "    .dataframe tbody tr th:only-of-type {\n",
       "        vertical-align: middle;\n",
       "    }\n",
       "\n",
       "    .dataframe tbody tr th {\n",
       "        vertical-align: top;\n",
       "    }\n",
       "\n",
       "    .dataframe thead th {\n",
       "        text-align: right;\n",
       "    }\n",
       "</style>\n",
       "<table border=\"1\" class=\"dataframe\">\n",
       "  <thead>\n",
       "    <tr style=\"text-align: right;\">\n",
       "      <th></th>\n",
       "      <th>song_id</th>\n",
       "      <th>als_score</th>\n",
       "      <th>song</th>\n",
       "      <th>title</th>\n",
       "    </tr>\n",
       "  </thead>\n",
       "  <tbody>\n",
       "    <tr>\n",
       "      <th>0</th>\n",
       "      <td>10546</td>\n",
       "      <td>0.082056</td>\n",
       "      <td>SOBONKR12A58A7A7E0</td>\n",
       "      <td>You're The One</td>\n",
       "    </tr>\n",
       "    <tr>\n",
       "      <th>1</th>\n",
       "      <td>2010</td>\n",
       "      <td>0.072532</td>\n",
       "      <td>SOAHSAF12A81C238F8</td>\n",
       "      <td>Hoop Dreams (Ralph Myerz 5th Floor Magic Retake)</td>\n",
       "    </tr>\n",
       "    <tr>\n",
       "      <th>2</th>\n",
       "      <td>120294</td>\n",
       "      <td>0.069393</td>\n",
       "      <td>SOSRXLJ12A8C13F168</td>\n",
       "      <td>Bullet In The Gun (Club Mix)</td>\n",
       "    </tr>\n",
       "    <tr>\n",
       "      <th>3</th>\n",
       "      <td>96296</td>\n",
       "      <td>0.068701</td>\n",
       "      <td>SOOSXDG12A8C13A139</td>\n",
       "      <td>Meditation</td>\n",
       "    </tr>\n",
       "    <tr>\n",
       "      <th>4</th>\n",
       "      <td>79849</td>\n",
       "      <td>0.068196</td>\n",
       "      <td>SOMCSNL12AB018A0DE</td>\n",
       "      <td>VERONA - Stay With Me</td>\n",
       "    </tr>\n",
       "    <tr>\n",
       "      <th>5</th>\n",
       "      <td>11663</td>\n",
       "      <td>0.064629</td>\n",
       "      <td>SOBSPFN12A8C138896</td>\n",
       "      <td>Wherever Jah Send Me</td>\n",
       "    </tr>\n",
       "    <tr>\n",
       "      <th>6</th>\n",
       "      <td>28211</td>\n",
       "      <td>0.064207</td>\n",
       "      <td>SOEELYL12A6D4F6F26</td>\n",
       "      <td>Homage To The Mountain</td>\n",
       "    </tr>\n",
       "    <tr>\n",
       "      <th>7</th>\n",
       "      <td>3720</td>\n",
       "      <td>0.063762</td>\n",
       "      <td>SOAOCSW12AB0189D7C</td>\n",
       "      <td>Mi Gran Noche</td>\n",
       "    </tr>\n",
       "    <tr>\n",
       "      <th>8</th>\n",
       "      <td>114492</td>\n",
       "      <td>0.063713</td>\n",
       "      <td>SORTAKH12A8C135C53</td>\n",
       "      <td>The Big Bright Green Pleasure Machine</td>\n",
       "    </tr>\n",
       "    <tr>\n",
       "      <th>9</th>\n",
       "      <td>20641</td>\n",
       "      <td>0.063382</td>\n",
       "      <td>SODBSIY12A6D4F8CCE</td>\n",
       "      <td>La Boulette (Génération Nan Nan)</td>\n",
       "    </tr>\n",
       "  </tbody>\n",
       "</table>\n",
       "</div>"
      ],
      "text/plain": [
       "   song_id  als_score                song  \\\n",
       "0    10546   0.082056  SOBONKR12A58A7A7E0   \n",
       "1     2010   0.072532  SOAHSAF12A81C238F8   \n",
       "2   120294   0.069393  SOSRXLJ12A8C13F168   \n",
       "3    96296   0.068701  SOOSXDG12A8C13A139   \n",
       "4    79849   0.068196  SOMCSNL12AB018A0DE   \n",
       "5    11663   0.064629  SOBSPFN12A8C138896   \n",
       "6    28211   0.064207  SOEELYL12A6D4F6F26   \n",
       "7     3720   0.063762  SOAOCSW12AB0189D7C   \n",
       "8   114492   0.063713  SORTAKH12A8C135C53   \n",
       "9    20641   0.063382  SODBSIY12A6D4F8CCE   \n",
       "\n",
       "                                              title  \n",
       "0                                    You're The One  \n",
       "1  Hoop Dreams (Ralph Myerz 5th Floor Magic Retake)  \n",
       "2                      Bullet In The Gun (Club Mix)  \n",
       "3                                        Meditation  \n",
       "4                             VERONA - Stay With Me  \n",
       "5                              Wherever Jah Send Me  \n",
       "6                            Homage To The Mountain  \n",
       "7                                     Mi Gran Noche  \n",
       "8             The Big Bright Green Pleasure Machine  \n",
       "9                  La Boulette (Génération Nan Nan)  "
      ]
     },
     "execution_count": 39,
     "metadata": {},
     "output_type": "execute_result"
    }
   ],
   "source": [
    "merged1.reset_index(drop=True)"
   ]
  },
  {
   "cell_type": "code",
   "execution_count": 40,
   "id": "a1ce7fbe",
   "metadata": {},
   "outputs": [],
   "source": [
    "merged1['als_score_normalized'] = (merged1['als_score'] - min(merged1['als_score'])) / (max(merged1['als_score']) - min(merged1['als_score']))"
   ]
  },
  {
   "cell_type": "code",
   "execution_count": 41,
   "id": "669afadb",
   "metadata": {},
   "outputs": [
    {
     "data": {
      "text/html": [
       "<div>\n",
       "<style scoped>\n",
       "    .dataframe tbody tr th:only-of-type {\n",
       "        vertical-align: middle;\n",
       "    }\n",
       "\n",
       "    .dataframe tbody tr th {\n",
       "        vertical-align: top;\n",
       "    }\n",
       "\n",
       "    .dataframe thead th {\n",
       "        text-align: right;\n",
       "    }\n",
       "</style>\n",
       "<table border=\"1\" class=\"dataframe\">\n",
       "  <thead>\n",
       "    <tr style=\"text-align: right;\">\n",
       "      <th></th>\n",
       "      <th>song_id</th>\n",
       "      <th>als_score</th>\n",
       "      <th>song</th>\n",
       "      <th>title</th>\n",
       "      <th>als_score_normalized</th>\n",
       "    </tr>\n",
       "  </thead>\n",
       "  <tbody>\n",
       "    <tr>\n",
       "      <th>0</th>\n",
       "      <td>10546</td>\n",
       "      <td>0.082056</td>\n",
       "      <td>SOBONKR12A58A7A7E0</td>\n",
       "      <td>You're The One</td>\n",
       "      <td>1.000000</td>\n",
       "    </tr>\n",
       "    <tr>\n",
       "      <th>4136</th>\n",
       "      <td>2010</td>\n",
       "      <td>0.072532</td>\n",
       "      <td>SOAHSAF12A81C238F8</td>\n",
       "      <td>Hoop Dreams (Ralph Myerz 5th Floor Magic Retake)</td>\n",
       "      <td>0.489967</td>\n",
       "    </tr>\n",
       "    <tr>\n",
       "      <th>4140</th>\n",
       "      <td>120294</td>\n",
       "      <td>0.069393</td>\n",
       "      <td>SOSRXLJ12A8C13F168</td>\n",
       "      <td>Bullet In The Gun (Club Mix)</td>\n",
       "      <td>0.321899</td>\n",
       "    </tr>\n",
       "    <tr>\n",
       "      <th>4141</th>\n",
       "      <td>96296</td>\n",
       "      <td>0.068701</td>\n",
       "      <td>SOOSXDG12A8C13A139</td>\n",
       "      <td>Meditation</td>\n",
       "      <td>0.284820</td>\n",
       "    </tr>\n",
       "    <tr>\n",
       "      <th>4153</th>\n",
       "      <td>79849</td>\n",
       "      <td>0.068196</td>\n",
       "      <td>SOMCSNL12AB018A0DE</td>\n",
       "      <td>VERONA - Stay With Me</td>\n",
       "      <td>0.257784</td>\n",
       "    </tr>\n",
       "    <tr>\n",
       "      <th>4169</th>\n",
       "      <td>11663</td>\n",
       "      <td>0.064629</td>\n",
       "      <td>SOBSPFN12A8C138896</td>\n",
       "      <td>Wherever Jah Send Me</td>\n",
       "      <td>0.066765</td>\n",
       "    </tr>\n",
       "    <tr>\n",
       "      <th>4180</th>\n",
       "      <td>28211</td>\n",
       "      <td>0.064207</td>\n",
       "      <td>SOEELYL12A6D4F6F26</td>\n",
       "      <td>Homage To The Mountain</td>\n",
       "      <td>0.044187</td>\n",
       "    </tr>\n",
       "    <tr>\n",
       "      <th>4181</th>\n",
       "      <td>3720</td>\n",
       "      <td>0.063762</td>\n",
       "      <td>SOAOCSW12AB0189D7C</td>\n",
       "      <td>Mi Gran Noche</td>\n",
       "      <td>0.020348</td>\n",
       "    </tr>\n",
       "    <tr>\n",
       "      <th>4182</th>\n",
       "      <td>114492</td>\n",
       "      <td>0.063713</td>\n",
       "      <td>SORTAKH12A8C135C53</td>\n",
       "      <td>The Big Bright Green Pleasure Machine</td>\n",
       "      <td>0.017742</td>\n",
       "    </tr>\n",
       "    <tr>\n",
       "      <th>4185</th>\n",
       "      <td>20641</td>\n",
       "      <td>0.063382</td>\n",
       "      <td>SODBSIY12A6D4F8CCE</td>\n",
       "      <td>La Boulette (Génération Nan Nan)</td>\n",
       "      <td>0.000000</td>\n",
       "    </tr>\n",
       "  </tbody>\n",
       "</table>\n",
       "</div>"
      ],
      "text/plain": [
       "      song_id  als_score                song  \\\n",
       "0       10546   0.082056  SOBONKR12A58A7A7E0   \n",
       "4136     2010   0.072532  SOAHSAF12A81C238F8   \n",
       "4140   120294   0.069393  SOSRXLJ12A8C13F168   \n",
       "4141    96296   0.068701  SOOSXDG12A8C13A139   \n",
       "4153    79849   0.068196  SOMCSNL12AB018A0DE   \n",
       "4169    11663   0.064629  SOBSPFN12A8C138896   \n",
       "4180    28211   0.064207  SOEELYL12A6D4F6F26   \n",
       "4181     3720   0.063762  SOAOCSW12AB0189D7C   \n",
       "4182   114492   0.063713  SORTAKH12A8C135C53   \n",
       "4185    20641   0.063382  SODBSIY12A6D4F8CCE   \n",
       "\n",
       "                                                 title  als_score_normalized  \n",
       "0                                       You're The One              1.000000  \n",
       "4136  Hoop Dreams (Ralph Myerz 5th Floor Magic Retake)              0.489967  \n",
       "4140                      Bullet In The Gun (Club Mix)              0.321899  \n",
       "4141                                        Meditation              0.284820  \n",
       "4153                             VERONA - Stay With Me              0.257784  \n",
       "4169                              Wherever Jah Send Me              0.066765  \n",
       "4180                            Homage To The Mountain              0.044187  \n",
       "4181                                     Mi Gran Noche              0.020348  \n",
       "4182             The Big Bright Green Pleasure Machine              0.017742  \n",
       "4185                  La Boulette (Génération Nan Nan)              0.000000  "
      ]
     },
     "execution_count": 41,
     "metadata": {},
     "output_type": "execute_result"
    }
   ],
   "source": [
    "merged1"
   ]
  }
 ],
 "metadata": {
  "kernelspec": {
   "display_name": "Python 3",
   "language": "python",
   "name": "python3"
  },
  "language_info": {
   "codemirror_mode": {
    "name": "ipython",
    "version": 3
   },
   "file_extension": ".py",
   "mimetype": "text/x-python",
   "name": "python",
   "nbconvert_exporter": "python",
   "pygments_lexer": "ipython3",
   "version": "3.8.5"
  }
 },
 "nbformat": 4,
 "nbformat_minor": 5
}
