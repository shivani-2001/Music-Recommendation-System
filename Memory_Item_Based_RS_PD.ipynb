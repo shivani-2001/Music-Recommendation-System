{
 "cells": [
  {
   "cell_type": "markdown",
   "id": "2cf0175d",
   "metadata": {
    "id": "fc39c2e6"
   },
   "source": [
    "<center><h2> Collaborative Memory Based Recommendation system </center></h2>\n",
    "\n",
    "In the memory-based approach, we try to predict a user’s preference based on the ratings given by other similar users or received by other similar items.\n",
    "\n",
    "Memory-based approaches include: \n",
    "\n",
    "* user-based collaborative filtering,\n",
    "* item-based collaborative filtering"
   ]
  },
  {
   "cell_type": "code",
   "execution_count": 1,
   "id": "bb6e8f8c",
   "metadata": {
    "colab": {
     "base_uri": "https://localhost:8080/"
    },
    "executionInfo": {
     "elapsed": 1039,
     "status": "ok",
     "timestamp": 1624253175804,
     "user": {
      "displayName": "Dhaval Patel",
      "photoUrl": "",
      "userId": "04407112961930931722"
     },
     "user_tz": -330
    },
    "id": "BYgl8Eo81du2",
    "outputId": "6614adf0-f2f7-4803-e3fb-ec9cc7a426c8"
   },
   "outputs": [
    {
     "name": "stdout",
     "output_type": "stream",
     "text": [
      "Drive already mounted at /content/drive; to attempt to forcibly remount, call drive.mount(\"/content/drive\", force_remount=True).\n"
     ]
    }
   ],
   "source": [
    "from google.colab import drive\n",
    "drive.mount('/content/drive')"
   ]
  },
  {
   "cell_type": "code",
   "execution_count": 2,
   "id": "8843f3ad",
   "metadata": {
    "executionInfo": {
     "elapsed": 667,
     "status": "ok",
     "timestamp": 1624253176464,
     "user": {
      "displayName": "Dhaval Patel",
      "photoUrl": "",
      "userId": "04407112961930931722"
     },
     "user_tz": -330
    },
    "id": "8fcf2d62"
   },
   "outputs": [],
   "source": [
    "import string\n",
    "import warnings\n",
    "import numpy as np\n",
    "import pandas as pd\n",
    "from sklearn import preprocessing\n",
    "from sklearn.metrics.pairwise import pairwise_distances \n",
    "from sklearn.model_selection import train_test_split\n",
    "warnings.filterwarnings('ignore')"
   ]
  },
  {
   "cell_type": "code",
   "execution_count": 3,
   "id": "aa57c5e3",
   "metadata": {
    "colab": {
     "base_uri": "https://localhost:8080/"
    },
    "executionInfo": {
     "elapsed": 12,
     "status": "ok",
     "timestamp": 1624253176466,
     "user": {
      "displayName": "Dhaval Patel",
      "photoUrl": "",
      "userId": "04407112961930931722"
     },
     "user_tz": -330
    },
    "id": "f4xl6tma1wxO",
    "outputId": "942c8c71-0b93-4fb8-bdbd-8728691c0527"
   },
   "outputs": [
    {
     "name": "stdout",
     "output_type": "stream",
     "text": [
      "/content/drive/MyDrive/Colab Notebooks/rs\n"
     ]
    }
   ],
   "source": [
    "cd drive/MyDrive/Colab Notebooks/rs"
   ]
  },
  {
   "cell_type": "code",
   "execution_count": 4,
   "id": "6a8510a8",
   "metadata": {
    "colab": {
     "base_uri": "https://localhost:8080/",
     "height": 270
    },
    "executionInfo": {
     "elapsed": 3178,
     "status": "ok",
     "timestamp": 1624253179637,
     "user": {
      "displayName": "Dhaval Patel",
      "photoUrl": "",
      "userId": "04407112961930931722"
     },
     "user_tz": -330
    },
    "id": "da09ce8e",
    "outputId": "c97c126e-833a-4f2c-b41f-bf855179ce7f"
   },
   "outputs": [
    {
     "data": {
      "text/html": [
       "<div>\n",
       "<style scoped>\n",
       "    .dataframe tbody tr th:only-of-type {\n",
       "        vertical-align: middle;\n",
       "    }\n",
       "\n",
       "    .dataframe tbody tr th {\n",
       "        vertical-align: top;\n",
       "    }\n",
       "\n",
       "    .dataframe thead th {\n",
       "        text-align: right;\n",
       "    }\n",
       "</style>\n",
       "<table border=\"1\" class=\"dataframe\">\n",
       "  <thead>\n",
       "    <tr style=\"text-align: right;\">\n",
       "      <th></th>\n",
       "      <th>user</th>\n",
       "      <th>song</th>\n",
       "      <th>play_count</th>\n",
       "      <th>track_id</th>\n",
       "      <th>artist</th>\n",
       "      <th>title</th>\n",
       "    </tr>\n",
       "  </thead>\n",
       "  <tbody>\n",
       "    <tr>\n",
       "      <th>0</th>\n",
       "      <td>fd50c4007b68a3737fe052d5a4f78ce8aa117f3d</td>\n",
       "      <td>SOBONKR12A58A7A7E0</td>\n",
       "      <td>1</td>\n",
       "      <td>TRAEHHJ12903CF492F</td>\n",
       "      <td>Dwight Yoakam</td>\n",
       "      <td>You're The One</td>\n",
       "    </tr>\n",
       "    <tr>\n",
       "      <th>1</th>\n",
       "      <td>fd50c4007b68a3737fe052d5a4f78ce8aa117f3d</td>\n",
       "      <td>SOEGIYH12A6D4FC0E3</td>\n",
       "      <td>1</td>\n",
       "      <td>TRLGMFJ128F4217DBE</td>\n",
       "      <td>Barry Tuckwell/Academy of St Martin-in-the-Fie...</td>\n",
       "      <td>Horn Concerto No. 4 in E flat K495: II. Romanc...</td>\n",
       "    </tr>\n",
       "    <tr>\n",
       "      <th>2</th>\n",
       "      <td>fd50c4007b68a3737fe052d5a4f78ce8aa117f3d</td>\n",
       "      <td>SOFLJQZ12A6D4FADA6</td>\n",
       "      <td>1</td>\n",
       "      <td>TRTNDNE128F1486812</td>\n",
       "      <td>Cartola</td>\n",
       "      <td>Tive Sim</td>\n",
       "    </tr>\n",
       "    <tr>\n",
       "      <th>3</th>\n",
       "      <td>fd50c4007b68a3737fe052d5a4f78ce8aa117f3d</td>\n",
       "      <td>SOHTKMO12AB01843B0</td>\n",
       "      <td>1</td>\n",
       "      <td>TRASTUE128F930D488</td>\n",
       "      <td>Lonnie Gordon</td>\n",
       "      <td>Catch You Baby (Steve Pitron &amp; Max Sanna Radio...</td>\n",
       "    </tr>\n",
       "    <tr>\n",
       "      <th>4</th>\n",
       "      <td>fd50c4007b68a3737fe052d5a4f78ce8aa117f3d</td>\n",
       "      <td>SODQZCY12A6D4F9D11</td>\n",
       "      <td>1</td>\n",
       "      <td>TRFPLWO128F1486B9E</td>\n",
       "      <td>Miguel Calo</td>\n",
       "      <td>El Cuatrero</td>\n",
       "    </tr>\n",
       "  </tbody>\n",
       "</table>\n",
       "</div>"
      ],
      "text/plain": [
       "                                       user  ...                                              title\n",
       "0  fd50c4007b68a3737fe052d5a4f78ce8aa117f3d  ...                                     You're The One\n",
       "1  fd50c4007b68a3737fe052d5a4f78ce8aa117f3d  ...  Horn Concerto No. 4 in E flat K495: II. Romanc...\n",
       "2  fd50c4007b68a3737fe052d5a4f78ce8aa117f3d  ...                                           Tive Sim\n",
       "3  fd50c4007b68a3737fe052d5a4f78ce8aa117f3d  ...  Catch You Baby (Steve Pitron & Max Sanna Radio...\n",
       "4  fd50c4007b68a3737fe052d5a4f78ce8aa117f3d  ...                                        El Cuatrero\n",
       "\n",
       "[5 rows x 6 columns]"
      ]
     },
     "execution_count": 4,
     "metadata": {
      "tags": []
     },
     "output_type": "execute_result"
    }
   ],
   "source": [
    "song_data = pd.read_csv(\"song_data.txt\", sep = ',')\n",
    "song_data.head()"
   ]
  },
  {
   "cell_type": "code",
   "execution_count": 5,
   "id": "7192ab5c",
   "metadata": {
    "executionInfo": {
     "elapsed": 22,
     "status": "ok",
     "timestamp": 1624253179638,
     "user": {
      "displayName": "Dhaval Patel",
      "photoUrl": "",
      "userId": "04407112961930931722"
     },
     "user_tz": -330
    },
    "id": "9ecf88b8"
   },
   "outputs": [],
   "source": [
    "song_data1 = song_data[['user', 'song', 'play_count', 'title']]"
   ]
  },
  {
   "cell_type": "code",
   "execution_count": 6,
   "id": "c1a99396",
   "metadata": {
    "colab": {
     "base_uri": "https://localhost:8080/",
     "height": 417
    },
    "executionInfo": {
     "elapsed": 22,
     "status": "ok",
     "timestamp": 1624253179639,
     "user": {
      "displayName": "Dhaval Patel",
      "photoUrl": "",
      "userId": "04407112961930931722"
     },
     "user_tz": -330
    },
    "id": "08566f74",
    "outputId": "e296a71e-a410-42bd-dc89-7735788220c8"
   },
   "outputs": [
    {
     "data": {
      "text/html": [
       "<div>\n",
       "<style scoped>\n",
       "    .dataframe tbody tr th:only-of-type {\n",
       "        vertical-align: middle;\n",
       "    }\n",
       "\n",
       "    .dataframe tbody tr th {\n",
       "        vertical-align: top;\n",
       "    }\n",
       "\n",
       "    .dataframe thead th {\n",
       "        text-align: right;\n",
       "    }\n",
       "</style>\n",
       "<table border=\"1\" class=\"dataframe\">\n",
       "  <thead>\n",
       "    <tr style=\"text-align: right;\">\n",
       "      <th></th>\n",
       "      <th>user</th>\n",
       "      <th>song</th>\n",
       "      <th>play_count</th>\n",
       "      <th>title</th>\n",
       "    </tr>\n",
       "  </thead>\n",
       "  <tbody>\n",
       "    <tr>\n",
       "      <th>0</th>\n",
       "      <td>fd50c4007b68a3737fe052d5a4f78ce8aa117f3d</td>\n",
       "      <td>SOBONKR12A58A7A7E0</td>\n",
       "      <td>1</td>\n",
       "      <td>You're The One</td>\n",
       "    </tr>\n",
       "    <tr>\n",
       "      <th>1</th>\n",
       "      <td>fd50c4007b68a3737fe052d5a4f78ce8aa117f3d</td>\n",
       "      <td>SOEGIYH12A6D4FC0E3</td>\n",
       "      <td>1</td>\n",
       "      <td>Horn Concerto No. 4 in E flat K495: II. Romanc...</td>\n",
       "    </tr>\n",
       "    <tr>\n",
       "      <th>2</th>\n",
       "      <td>fd50c4007b68a3737fe052d5a4f78ce8aa117f3d</td>\n",
       "      <td>SOFLJQZ12A6D4FADA6</td>\n",
       "      <td>1</td>\n",
       "      <td>Tive Sim</td>\n",
       "    </tr>\n",
       "    <tr>\n",
       "      <th>3</th>\n",
       "      <td>fd50c4007b68a3737fe052d5a4f78ce8aa117f3d</td>\n",
       "      <td>SOHTKMO12AB01843B0</td>\n",
       "      <td>1</td>\n",
       "      <td>Catch You Baby (Steve Pitron &amp; Max Sanna Radio...</td>\n",
       "    </tr>\n",
       "    <tr>\n",
       "      <th>4</th>\n",
       "      <td>fd50c4007b68a3737fe052d5a4f78ce8aa117f3d</td>\n",
       "      <td>SODQZCY12A6D4F9D11</td>\n",
       "      <td>1</td>\n",
       "      <td>El Cuatrero</td>\n",
       "    </tr>\n",
       "    <tr>\n",
       "      <th>...</th>\n",
       "      <td>...</td>\n",
       "      <td>...</td>\n",
       "      <td>...</td>\n",
       "      <td>...</td>\n",
       "    </tr>\n",
       "    <tr>\n",
       "      <th>1450928</th>\n",
       "      <td>5e650759ebf89012044c6d52121eeada8b0ec814</td>\n",
       "      <td>SOVLNXV12A6D4F706E</td>\n",
       "      <td>1</td>\n",
       "      <td>Ms. Fat Booty</td>\n",
       "    </tr>\n",
       "    <tr>\n",
       "      <th>1450929</th>\n",
       "      <td>5e650759ebf89012044c6d52121eeada8b0ec814</td>\n",
       "      <td>SOVDSJC12A58A7A271</td>\n",
       "      <td>2</td>\n",
       "      <td>Ain't Misbehavin</td>\n",
       "    </tr>\n",
       "    <tr>\n",
       "      <th>1450930</th>\n",
       "      <td>5e650759ebf89012044c6d52121eeada8b0ec814</td>\n",
       "      <td>SOBRHVR12A8C133F35</td>\n",
       "      <td>2</td>\n",
       "      <td>Luvstruck</td>\n",
       "    </tr>\n",
       "    <tr>\n",
       "      <th>1450931</th>\n",
       "      <td>5e650759ebf89012044c6d52121eeada8b0ec814</td>\n",
       "      <td>SOMGVYU12A8C1314FF</td>\n",
       "      <td>2</td>\n",
       "      <td>Sinisten tähtien alla</td>\n",
       "    </tr>\n",
       "    <tr>\n",
       "      <th>1450932</th>\n",
       "      <td>5e650759ebf89012044c6d52121eeada8b0ec814</td>\n",
       "      <td>SOTCMDJ12A6D4F8528</td>\n",
       "      <td>3</td>\n",
       "      <td>The Gift</td>\n",
       "    </tr>\n",
       "  </tbody>\n",
       "</table>\n",
       "<p>1450933 rows × 4 columns</p>\n",
       "</div>"
      ],
      "text/plain": [
       "                                             user  ...                                              title\n",
       "0        fd50c4007b68a3737fe052d5a4f78ce8aa117f3d  ...                                     You're The One\n",
       "1        fd50c4007b68a3737fe052d5a4f78ce8aa117f3d  ...  Horn Concerto No. 4 in E flat K495: II. Romanc...\n",
       "2        fd50c4007b68a3737fe052d5a4f78ce8aa117f3d  ...                                           Tive Sim\n",
       "3        fd50c4007b68a3737fe052d5a4f78ce8aa117f3d  ...  Catch You Baby (Steve Pitron & Max Sanna Radio...\n",
       "4        fd50c4007b68a3737fe052d5a4f78ce8aa117f3d  ...                                        El Cuatrero\n",
       "...                                           ...  ...                                                ...\n",
       "1450928  5e650759ebf89012044c6d52121eeada8b0ec814  ...                                      Ms. Fat Booty\n",
       "1450929  5e650759ebf89012044c6d52121eeada8b0ec814  ...                                   Ain't Misbehavin\n",
       "1450930  5e650759ebf89012044c6d52121eeada8b0ec814  ...                                          Luvstruck\n",
       "1450931  5e650759ebf89012044c6d52121eeada8b0ec814  ...                              Sinisten tähtien alla\n",
       "1450932  5e650759ebf89012044c6d52121eeada8b0ec814  ...                                           The Gift\n",
       "\n",
       "[1450933 rows x 4 columns]"
      ]
     },
     "execution_count": 6,
     "metadata": {
      "tags": []
     },
     "output_type": "execute_result"
    }
   ],
   "source": [
    "song_data1"
   ]
  },
  {
   "cell_type": "code",
   "execution_count": 7,
   "id": "e08b9a99",
   "metadata": {
    "executionInfo": {
     "elapsed": 23,
     "status": "ok",
     "timestamp": 1624253179641,
     "user": {
      "displayName": "Dhaval Patel",
      "photoUrl": "",
      "userId": "04407112961930931722"
     },
     "user_tz": -330
    },
    "id": "e26930af"
   },
   "outputs": [],
   "source": [
    "song_data1 = song_data1[:80000]"
   ]
  },
  {
   "cell_type": "code",
   "execution_count": 8,
   "id": "d0b61c77",
   "metadata": {
    "executionInfo": {
     "elapsed": 23,
     "status": "ok",
     "timestamp": 1624253179642,
     "user": {
      "displayName": "Dhaval Patel",
      "photoUrl": "",
      "userId": "04407112961930931722"
     },
     "user_tz": -330
    },
    "id": "04fa9c08"
   },
   "outputs": [],
   "source": [
    "encoding_user_song = preprocessing.OrdinalEncoder()\n",
    "song_data1['user_id'] = encoding_user_song.fit_transform(song_data1[['user']])\n",
    "song_data1['song_id'] = encoding_user_song.fit_transform(song_data1[['song']])"
   ]
  },
  {
   "cell_type": "code",
   "execution_count": 9,
   "id": "ac07135b",
   "metadata": {
    "executionInfo": {
     "elapsed": 23,
     "status": "ok",
     "timestamp": 1624253179642,
     "user": {
      "displayName": "Dhaval Patel",
      "photoUrl": "",
      "userId": "04407112961930931722"
     },
     "user_tz": -330
    },
    "id": "f5504edf"
   },
   "outputs": [],
   "source": [
    "song_data1['user_id'] = song_data1['user_id'].astype('int')\n",
    "song_data1['song_id'] = song_data1['song_id'].astype('int')"
   ]
  },
  {
   "cell_type": "code",
   "execution_count": 10,
   "id": "eedc4e5e",
   "metadata": {
    "executionInfo": {
     "elapsed": 22,
     "status": "ok",
     "timestamp": 1624253179642,
     "user": {
      "displayName": "Dhaval Patel",
      "photoUrl": "",
      "userId": "04407112961930931722"
     },
     "user_tz": -330
    },
    "id": "5098ff1b"
   },
   "outputs": [],
   "source": [
    "train, test = train_test_split(song_data1, test_size=0.30, random_state=31)"
   ]
  },
  {
   "cell_type": "code",
   "execution_count": 11,
   "id": "4fa6cd34",
   "metadata": {
    "colab": {
     "base_uri": "https://localhost:8080/",
     "height": 203
    },
    "executionInfo": {
     "elapsed": 22,
     "status": "ok",
     "timestamp": 1624253179643,
     "user": {
      "displayName": "Dhaval Patel",
      "photoUrl": "",
      "userId": "04407112961930931722"
     },
     "user_tz": -330
    },
    "id": "c7985da4",
    "outputId": "31b5a667-60f6-45fb-a738-13c2116fdd5b"
   },
   "outputs": [
    {
     "data": {
      "text/html": [
       "<div>\n",
       "<style scoped>\n",
       "    .dataframe tbody tr th:only-of-type {\n",
       "        vertical-align: middle;\n",
       "    }\n",
       "\n",
       "    .dataframe tbody tr th {\n",
       "        vertical-align: top;\n",
       "    }\n",
       "\n",
       "    .dataframe thead th {\n",
       "        text-align: right;\n",
       "    }\n",
       "</style>\n",
       "<table border=\"1\" class=\"dataframe\">\n",
       "  <thead>\n",
       "    <tr style=\"text-align: right;\">\n",
       "      <th></th>\n",
       "      <th>user</th>\n",
       "      <th>song</th>\n",
       "      <th>play_count</th>\n",
       "      <th>title</th>\n",
       "      <th>user_id</th>\n",
       "      <th>song_id</th>\n",
       "    </tr>\n",
       "  </thead>\n",
       "  <tbody>\n",
       "    <tr>\n",
       "      <th>41872</th>\n",
       "      <td>68a462e9d2da60c7218a9a542c9b7b86e5726ce8</td>\n",
       "      <td>SOXFPND12AB017C9D1</td>\n",
       "      <td>1</td>\n",
       "      <td>I Gotta Feeling</td>\n",
       "      <td>2372</td>\n",
       "      <td>32185</td>\n",
       "    </tr>\n",
       "    <tr>\n",
       "      <th>6646</th>\n",
       "      <td>350c1b37d7f71de913783f47c38a9f50d3dd9592</td>\n",
       "      <td>SOULBZW12A58A80BA2</td>\n",
       "      <td>1</td>\n",
       "      <td>Steady As We Go</td>\n",
       "      <td>1200</td>\n",
       "      <td>28624</td>\n",
       "    </tr>\n",
       "    <tr>\n",
       "      <th>58152</th>\n",
       "      <td>5dd52bf193de097951b2d347fbc4d1d46b3788e2</td>\n",
       "      <td>SOFIJKI12A8C13C950</td>\n",
       "      <td>3</td>\n",
       "      <td>Still (Album Version)</td>\n",
       "      <td>2123</td>\n",
       "      <td>7791</td>\n",
       "    </tr>\n",
       "    <tr>\n",
       "      <th>77573</th>\n",
       "      <td>1860137a21a76eca2ae5c7802417b3a599edd64b</td>\n",
       "      <td>SOWKSFG12A8C13E535</td>\n",
       "      <td>2</td>\n",
       "      <td>Torn</td>\n",
       "      <td>521</td>\n",
       "      <td>31153</td>\n",
       "    </tr>\n",
       "    <tr>\n",
       "      <th>13418</th>\n",
       "      <td>2ae49e99b5e0c012a6e3d77e2da5e0b0de1ce9b9</td>\n",
       "      <td>SOFLJQZ12A6D4FADA6</td>\n",
       "      <td>1</td>\n",
       "      <td>Tive Sim</td>\n",
       "      <td>955</td>\n",
       "      <td>7962</td>\n",
       "    </tr>\n",
       "  </tbody>\n",
       "</table>\n",
       "</div>"
      ],
      "text/plain": [
       "                                           user  ... song_id\n",
       "41872  68a462e9d2da60c7218a9a542c9b7b86e5726ce8  ...   32185\n",
       "6646   350c1b37d7f71de913783f47c38a9f50d3dd9592  ...   28624\n",
       "58152  5dd52bf193de097951b2d347fbc4d1d46b3788e2  ...    7791\n",
       "77573  1860137a21a76eca2ae5c7802417b3a599edd64b  ...   31153\n",
       "13418  2ae49e99b5e0c012a6e3d77e2da5e0b0de1ce9b9  ...    7962\n",
       "\n",
       "[5 rows x 6 columns]"
      ]
     },
     "execution_count": 11,
     "metadata": {
      "tags": []
     },
     "output_type": "execute_result"
    }
   ],
   "source": [
    "train.head()"
   ]
  },
  {
   "cell_type": "code",
   "execution_count": 12,
   "id": "643bb3ee",
   "metadata": {
    "colab": {
     "base_uri": "https://localhost:8080/"
    },
    "executionInfo": {
     "elapsed": 21,
     "status": "ok",
     "timestamp": 1624253179643,
     "user": {
      "displayName": "Dhaval Patel",
      "photoUrl": "",
      "userId": "04407112961930931722"
     },
     "user_tz": -330
    },
    "id": "77fc7da4",
    "outputId": "4e85259d-380e-4091-a59a-d08410b49d05"
   },
   "outputs": [
    {
     "data": {
      "text/plain": [
       "(80000, 6)"
      ]
     },
     "execution_count": 12,
     "metadata": {
      "tags": []
     },
     "output_type": "execute_result"
    }
   ],
   "source": [
    "song_data1.shape"
   ]
  },
  {
   "cell_type": "code",
   "execution_count": 13,
   "id": "803bcc8e",
   "metadata": {
    "colab": {
     "base_uri": "https://localhost:8080/"
    },
    "executionInfo": {
     "elapsed": 17,
     "status": "ok",
     "timestamp": 1624253179643,
     "user": {
      "displayName": "Dhaval Patel",
      "photoUrl": "",
      "userId": "04407112961930931722"
     },
     "user_tz": -330
    },
    "id": "bd6bb2c5",
    "outputId": "c0f4e930-017d-4351-c575-4d5dcf3c1833"
   },
   "outputs": [
    {
     "name": "stdout",
     "output_type": "stream",
     "text": [
      "(56000, 6) (24000, 6)\n"
     ]
    }
   ],
   "source": [
    "print(train.shape, test.shape)"
   ]
  },
  {
   "cell_type": "code",
   "execution_count": 14,
   "id": "ae2be251",
   "metadata": {
    "executionInfo": {
     "elapsed": 16,
     "status": "ok",
     "timestamp": 1624253179644,
     "user": {
      "displayName": "Dhaval Patel",
      "photoUrl": "",
      "userId": "04407112961930931722"
     },
     "user_tz": -330
    },
    "id": "b9eee60f"
   },
   "outputs": [],
   "source": [
    "n_users = song_data1.user.nunique()\n",
    "n_items = song_data1.song.nunique()"
   ]
  },
  {
   "cell_type": "code",
   "execution_count": 15,
   "id": "52981e90",
   "metadata": {
    "colab": {
     "base_uri": "https://localhost:8080/"
    },
    "executionInfo": {
     "elapsed": 15,
     "status": "ok",
     "timestamp": 1624253179644,
     "user": {
      "displayName": "Dhaval Patel",
      "photoUrl": "",
      "userId": "04407112961930931722"
     },
     "user_tz": -330
    },
    "id": "cd615ff7",
    "outputId": "980bd82d-0476-40f0-bbb4-bfe2b527ce3c"
   },
   "outputs": [
    {
     "name": "stdout",
     "output_type": "stream",
     "text": [
      "6003 35727\n"
     ]
    }
   ],
   "source": [
    "print(n_users, n_items)"
   ]
  },
  {
   "cell_type": "markdown",
   "id": "95c909c6",
   "metadata": {
    "id": "446b176a"
   },
   "source": [
    "<h3> Item based Recommendation system </h3>"
   ]
  },
  {
   "cell_type": "markdown",
   "id": "dfbc05fc",
   "metadata": {
    "id": "417ea6f2"
   },
   "source": [
    "<h4> Create empty data matrix: item*song </h4>"
   ]
  },
  {
   "cell_type": "code",
   "execution_count": 16,
   "id": "e144554f",
   "metadata": {
    "executionInfo": {
     "elapsed": 748,
     "status": "ok",
     "timestamp": 1624253180378,
     "user": {
      "displayName": "Dhaval Patel",
      "photoUrl": "",
      "userId": "04407112961930931722"
     },
     "user_tz": -330
    },
    "id": "33b60a91"
   },
   "outputs": [],
   "source": [
    "data_matrix = np.zeros((n_users, n_items))"
   ]
  },
  {
   "cell_type": "markdown",
   "id": "91922637",
   "metadata": {
    "id": "0b535c9f"
   },
   "source": [
    "<h4> Fill item*song matrix with rating values </h4> "
   ]
  },
  {
   "cell_type": "code",
   "execution_count": 17,
   "id": "104c4793",
   "metadata": {
    "executionInfo": {
     "elapsed": 19,
     "status": "ok",
     "timestamp": 1624253180380,
     "user": {
      "displayName": "Dhaval Patel",
      "photoUrl": "",
      "userId": "04407112961930931722"
     },
     "user_tz": -330
    },
    "id": "c2f41dc4"
   },
   "outputs": [],
   "source": [
    "for line in train.itertuples():\n",
    "    data_matrix[line[5]-1, line[6]-1] = line[3]"
   ]
  },
  {
   "cell_type": "code",
   "execution_count": 18,
   "id": "b240b784",
   "metadata": {
    "colab": {
     "base_uri": "https://localhost:8080/"
    },
    "executionInfo": {
     "elapsed": 19,
     "status": "ok",
     "timestamp": 1624253180382,
     "user": {
      "displayName": "Dhaval Patel",
      "photoUrl": "",
      "userId": "04407112961930931722"
     },
     "user_tz": -330
    },
    "id": "b03c6d60",
    "outputId": "ebe97b20-f182-4c4c-c8b4-bc2cbd567b9b"
   },
   "outputs": [
    {
     "data": {
      "text/plain": [
       "(6003, 35727)"
      ]
     },
     "execution_count": 18,
     "metadata": {
      "tags": []
     },
     "output_type": "execute_result"
    }
   ],
   "source": [
    "data_matrix.shape"
   ]
  },
  {
   "cell_type": "markdown",
   "id": "0dd20897",
   "metadata": {
    "id": "60a85d6b"
   },
   "source": [
    "<h3> Pairwise distance with cosine metric </h3>"
   ]
  },
  {
   "cell_type": "code",
   "execution_count": 19,
   "id": "11868bd1",
   "metadata": {
    "executionInfo": {
     "elapsed": 83402,
     "status": "ok",
     "timestamp": 1624253263774,
     "user": {
      "displayName": "Dhaval Patel",
      "photoUrl": "",
      "userId": "04407112961930931722"
     },
     "user_tz": -330
    },
    "id": "1e7d12ec"
   },
   "outputs": [],
   "source": [
    "item_similarity = 1 - pairwise_distances(data_matrix.T, metric='cosine')"
   ]
  },
  {
   "cell_type": "code",
   "execution_count": 20,
   "id": "01faec53",
   "metadata": {
    "colab": {
     "base_uri": "https://localhost:8080/"
    },
    "executionInfo": {
     "elapsed": 50988,
     "status": "ok",
     "timestamp": 1624253314734,
     "user": {
      "displayName": "Dhaval Patel",
      "photoUrl": "",
      "userId": "04407112961930931722"
     },
     "user_tz": -330
    },
    "id": "6c36e3cd",
    "outputId": "81fdcf00-0f4c-431f-dcf2-49d2454054b9"
   },
   "outputs": [
    {
     "data": {
      "text/plain": [
       "array([0.00000000e+00, 1.79324668e-05, 1.83263170e-05, ...,\n",
       "       1.00000000e+00, 1.00000000e+00, 1.00000000e+00])"
      ]
     },
     "execution_count": 20,
     "metadata": {
      "tags": []
     },
     "output_type": "execute_result"
    }
   ],
   "source": [
    "\n",
    "np.unique(item_similarity)"
   ]
  },
  {
   "cell_type": "code",
   "execution_count": 21,
   "id": "b25115ce",
   "metadata": {
    "colab": {
     "base_uri": "https://localhost:8080/"
    },
    "executionInfo": {
     "elapsed": 56,
     "status": "ok",
     "timestamp": 1624253314735,
     "user": {
      "displayName": "Dhaval Patel",
      "photoUrl": "",
      "userId": "04407112961930931722"
     },
     "user_tz": -330
    },
    "id": "a6a81f57",
    "outputId": "b0456279-7479-4ebb-baf9-2376fa2d9fa8"
   },
   "outputs": [
    {
     "data": {
      "text/plain": [
       "(35727, 35727)"
      ]
     },
     "execution_count": 21,
     "metadata": {
      "tags": []
     },
     "output_type": "execute_result"
    }
   ],
   "source": [
    "item_similarity.shape"
   ]
  },
  {
   "cell_type": "markdown",
   "id": "17799d6c",
   "metadata": {
    "id": "d4c6fb52"
   },
   "source": [
    "<h3> Dot product of Data Matrix with Item similarity </h3>"
   ]
  },
  {
   "cell_type": "code",
   "execution_count": 22,
   "id": "3d334090",
   "metadata": {
    "executionInfo": {
     "elapsed": 50,
     "status": "ok",
     "timestamp": 1624253314736,
     "user": {
      "displayName": "Dhaval Patel",
      "photoUrl": "",
      "userId": "04407112961930931722"
     },
     "user_tz": -330
    },
    "id": "881302c5"
   },
   "outputs": [],
   "source": [
    "prediction_df = pd.DataFrame(item_similarity)"
   ]
  },
  {
   "cell_type": "code",
   "execution_count": 23,
   "id": "d69d93ad",
   "metadata": {
    "colab": {
     "base_uri": "https://localhost:8080/"
    },
    "executionInfo": {
     "elapsed": 49,
     "status": "ok",
     "timestamp": 1624253314737,
     "user": {
      "displayName": "Dhaval Patel",
      "photoUrl": "",
      "userId": "04407112961930931722"
     },
     "user_tz": -330
    },
    "id": "911ce49b",
    "outputId": "fb0efb13-72c6-4d0f-f11b-318bcad9e057"
   },
   "outputs": [
    {
     "data": {
      "text/plain": [
       "(35727, 35727)"
      ]
     },
     "execution_count": 23,
     "metadata": {
      "tags": []
     },
     "output_type": "execute_result"
    }
   ],
   "source": [
    "prediction_df.shape"
   ]
  },
  {
   "cell_type": "markdown",
   "id": "16291ef3",
   "metadata": {
    "id": "41027f61"
   },
   "source": [
    "<h3> Song recommendations for any song id </h3>"
   ]
  },
  {
   "cell_type": "code",
   "execution_count": 24,
   "id": "67edd12d",
   "metadata": {
    "executionInfo": {
     "elapsed": 40,
     "status": "ok",
     "timestamp": 1624253314737,
     "user": {
      "displayName": "Dhaval Patel",
      "photoUrl": "",
      "userId": "04407112961930931722"
     },
     "user_tz": -330
    },
    "id": "86b932ce"
   },
   "outputs": [],
   "source": [
    "item_recommendation = pd.DataFrame(prediction_df.iloc[20].sort_values(ascending=False))"
   ]
  },
  {
   "cell_type": "code",
   "execution_count": 25,
   "id": "d9641bb4",
   "metadata": {
    "executionInfo": {
     "elapsed": 36,
     "status": "ok",
     "timestamp": 1624253314738,
     "user": {
      "displayName": "Dhaval Patel",
      "photoUrl": "",
      "userId": "04407112961930931722"
     },
     "user_tz": -330
    },
    "id": "3ef7408a"
   },
   "outputs": [],
   "source": [
    "song = 'SOBONKR12A58A7A7E0'\n",
    "song_id = song_data1['song_id'][song_data['song']==song]\n",
    "song = song_id[0]"
   ]
  },
  {
   "cell_type": "code",
   "execution_count": 26,
   "id": "053304d3",
   "metadata": {
    "colab": {
     "base_uri": "https://localhost:8080/"
    },
    "executionInfo": {
     "elapsed": 35,
     "status": "ok",
     "timestamp": 1624253314738,
     "user": {
      "displayName": "Dhaval Patel",
      "photoUrl": "",
      "userId": "04407112961930931722"
     },
     "user_tz": -330
    },
    "id": "d25daf68",
    "outputId": "9587d533-3c70-4600-8e85-3577ec322c14"
   },
   "outputs": [
    {
     "data": {
      "text/plain": [
       "2307"
      ]
     },
     "execution_count": 26,
     "metadata": {
      "tags": []
     },
     "output_type": "execute_result"
    }
   ],
   "source": [
    "song"
   ]
  },
  {
   "cell_type": "code",
   "execution_count": 27,
   "id": "3165f776",
   "metadata": {
    "colab": {
     "base_uri": "https://localhost:8080/"
    },
    "executionInfo": {
     "elapsed": 29,
     "status": "ok",
     "timestamp": 1624253314739,
     "user": {
      "displayName": "Dhaval Patel",
      "photoUrl": "",
      "userId": "04407112961930931722"
     },
     "user_tz": -330
    },
    "id": "eadaa22a",
    "outputId": "e50f32d2-cc7a-4587-8b34-cd8d72cd4963"
   },
   "outputs": [
    {
     "data": {
      "text/plain": [
       "2307     1.000000\n",
       "23756    1.000000\n",
       "14240    1.000000\n",
       "33972    1.000000\n",
       "19387    1.000000\n",
       "16983    1.000000\n",
       "11098    0.707107\n",
       "12276    0.102598\n",
       "656      0.052200\n",
       "11902    0.000000\n",
       "Name: 2307, dtype: float64"
      ]
     },
     "execution_count": 27,
     "metadata": {
      "tags": []
     },
     "output_type": "execute_result"
    }
   ],
   "source": [
    "prediction_df.iloc[song].sort_values(ascending=False)[:10]"
   ]
  },
  {
   "cell_type": "code",
   "execution_count": 28,
   "id": "be8dcc15",
   "metadata": {
    "executionInfo": {
     "elapsed": 26,
     "status": "ok",
     "timestamp": 1624253314739,
     "user": {
      "displayName": "Dhaval Patel",
      "photoUrl": "",
      "userId": "04407112961930931722"
     },
     "user_tz": -330
    },
    "id": "ffa8d025"
   },
   "outputs": [],
   "source": [
    "recommended_songs_df = pd.DataFrame(prediction_df.iloc[song].sort_values(ascending=False)[:10])"
   ]
  },
  {
   "cell_type": "code",
   "execution_count": 29,
   "id": "ae07ab6d",
   "metadata": {
    "executionInfo": {
     "elapsed": 25,
     "status": "ok",
     "timestamp": 1624253314739,
     "user": {
      "displayName": "Dhaval Patel",
      "photoUrl": "",
      "userId": "04407112961930931722"
     },
     "user_tz": -330
    },
    "id": "9579c40b"
   },
   "outputs": [],
   "source": [
    "recommended_songs_df.reset_index(inplace=True)\n",
    "recommended_songs_df.columns = ['song_id', 'score']"
   ]
  },
  {
   "cell_type": "code",
   "execution_count": 30,
   "id": "1eb61e43",
   "metadata": {
    "executionInfo": {
     "elapsed": 26,
     "status": "ok",
     "timestamp": 1624253314740,
     "user": {
      "displayName": "Dhaval Patel",
      "photoUrl": "",
      "userId": "04407112961930931722"
     },
     "user_tz": -330
    },
    "id": "fd00f6ae"
   },
   "outputs": [],
   "source": [
    "song_data2 = song_data1[['song', 'song_id', 'title']].copy()"
   ]
  },
  {
   "cell_type": "code",
   "execution_count": 31,
   "id": "79572c51",
   "metadata": {
    "executionInfo": {
     "elapsed": 25,
     "status": "ok",
     "timestamp": 1624253314740,
     "user": {
      "displayName": "Dhaval Patel",
      "photoUrl": "",
      "userId": "04407112961930931722"
     },
     "user_tz": -330
    },
    "id": "76b9ccb3"
   },
   "outputs": [],
   "source": [
    "merged = pd.merge(recommended_songs_df, song_data2, how='left', on='song_id')"
   ]
  },
  {
   "cell_type": "code",
   "execution_count": 32,
   "id": "f4c0bc2a",
   "metadata": {
    "executionInfo": {
     "elapsed": 26,
     "status": "ok",
     "timestamp": 1624253314741,
     "user": {
      "displayName": "Dhaval Patel",
      "photoUrl": "",
      "userId": "04407112961930931722"
     },
     "user_tz": -330
    },
    "id": "18a0dced"
   },
   "outputs": [],
   "source": [
    "merged.drop_duplicates(inplace=True)"
   ]
  },
  {
   "cell_type": "code",
   "execution_count": 33,
   "id": "48f9cc23",
   "metadata": {
    "colab": {
     "base_uri": "https://localhost:8080/",
     "height": 357
    },
    "executionInfo": {
     "elapsed": 26,
     "status": "ok",
     "timestamp": 1624253314741,
     "user": {
      "displayName": "Dhaval Patel",
      "photoUrl": "",
      "userId": "04407112961930931722"
     },
     "user_tz": -330
    },
    "id": "f87961df",
    "outputId": "43172c5d-6a9e-42f8-831b-c087c725bc72"
   },
   "outputs": [
    {
     "data": {
      "text/html": [
       "<div>\n",
       "<style scoped>\n",
       "    .dataframe tbody tr th:only-of-type {\n",
       "        vertical-align: middle;\n",
       "    }\n",
       "\n",
       "    .dataframe tbody tr th {\n",
       "        vertical-align: top;\n",
       "    }\n",
       "\n",
       "    .dataframe thead th {\n",
       "        text-align: right;\n",
       "    }\n",
       "</style>\n",
       "<table border=\"1\" class=\"dataframe\">\n",
       "  <thead>\n",
       "    <tr style=\"text-align: right;\">\n",
       "      <th></th>\n",
       "      <th>song_id</th>\n",
       "      <th>score</th>\n",
       "      <th>song</th>\n",
       "      <th>title</th>\n",
       "    </tr>\n",
       "  </thead>\n",
       "  <tbody>\n",
       "    <tr>\n",
       "      <th>0</th>\n",
       "      <td>2307</td>\n",
       "      <td>1.000000</td>\n",
       "      <td>SOBONKR12A58A7A7E0</td>\n",
       "      <td>You're The One</td>\n",
       "    </tr>\n",
       "    <tr>\n",
       "      <th>1</th>\n",
       "      <td>23756</td>\n",
       "      <td>1.000000</td>\n",
       "      <td>SOQQPZA12A6D4F9B69</td>\n",
       "      <td>Travel Agent</td>\n",
       "    </tr>\n",
       "    <tr>\n",
       "      <th>2</th>\n",
       "      <td>14240</td>\n",
       "      <td>1.000000</td>\n",
       "      <td>SOJUYXY12A8C143472</td>\n",
       "      <td>You Can Get Murked</td>\n",
       "    </tr>\n",
       "    <tr>\n",
       "      <th>3</th>\n",
       "      <td>33972</td>\n",
       "      <td>1.000000</td>\n",
       "      <td>SOYPGAR12A6D4F742E</td>\n",
       "      <td>Se Dagen Kom</td>\n",
       "    </tr>\n",
       "    <tr>\n",
       "      <th>4</th>\n",
       "      <td>19387</td>\n",
       "      <td>1.000000</td>\n",
       "      <td>SONLURB12A8C13C72E</td>\n",
       "      <td>Another Perfect Day</td>\n",
       "    </tr>\n",
       "    <tr>\n",
       "      <th>5</th>\n",
       "      <td>16983</td>\n",
       "      <td>1.000000</td>\n",
       "      <td>SOLTEEM12A8C13A5BD</td>\n",
       "      <td>Are you Sleeping?</td>\n",
       "    </tr>\n",
       "    <tr>\n",
       "      <th>6</th>\n",
       "      <td>11098</td>\n",
       "      <td>0.707107</td>\n",
       "      <td>SOHOXQK12A6D4FBF7C</td>\n",
       "      <td>Amerika (Album Version)</td>\n",
       "    </tr>\n",
       "    <tr>\n",
       "      <th>7</th>\n",
       "      <td>12276</td>\n",
       "      <td>0.102598</td>\n",
       "      <td>SOIJVVR12A6701C2EE</td>\n",
       "      <td>Everything About You</td>\n",
       "    </tr>\n",
       "    <tr>\n",
       "      <th>8</th>\n",
       "      <td>656</td>\n",
       "      <td>0.052200</td>\n",
       "      <td>SOALDLA12A6D4F8657</td>\n",
       "      <td>Loverboy</td>\n",
       "    </tr>\n",
       "    <tr>\n",
       "      <th>9</th>\n",
       "      <td>11902</td>\n",
       "      <td>0.000000</td>\n",
       "      <td>SOICZHZ12AAA8C6654</td>\n",
       "      <td>Laichzeit</td>\n",
       "    </tr>\n",
       "  </tbody>\n",
       "</table>\n",
       "</div>"
      ],
      "text/plain": [
       "   song_id     score                song                    title\n",
       "0     2307  1.000000  SOBONKR12A58A7A7E0           You're The One\n",
       "1    23756  1.000000  SOQQPZA12A6D4F9B69             Travel Agent\n",
       "2    14240  1.000000  SOJUYXY12A8C143472       You Can Get Murked\n",
       "3    33972  1.000000  SOYPGAR12A6D4F742E             Se Dagen Kom\n",
       "4    19387  1.000000  SONLURB12A8C13C72E      Another Perfect Day\n",
       "5    16983  1.000000  SOLTEEM12A8C13A5BD        Are you Sleeping?\n",
       "6    11098  0.707107  SOHOXQK12A6D4FBF7C  Amerika (Album Version)\n",
       "7    12276  0.102598  SOIJVVR12A6701C2EE     Everything About You\n",
       "8      656  0.052200  SOALDLA12A6D4F8657                 Loverboy\n",
       "9    11902  0.000000  SOICZHZ12AAA8C6654                Laichzeit"
      ]
     },
     "execution_count": 33,
     "metadata": {
      "tags": []
     },
     "output_type": "execute_result"
    }
   ],
   "source": [
    "merged.reset_index(drop=True)"
   ]
  },
  {
   "cell_type": "markdown",
   "id": "fc4d6410",
   "metadata": {
    "id": "3d9e7531"
   },
   "source": [
    "<h3> Normalize the score </h3>"
   ]
  },
  {
   "cell_type": "code",
   "execution_count": 34,
   "id": "3b0a4b00",
   "metadata": {
    "executionInfo": {
     "elapsed": 26,
     "status": "ok",
     "timestamp": 1624253314742,
     "user": {
      "displayName": "Dhaval Patel",
      "photoUrl": "",
      "userId": "04407112961930931722"
     },
     "user_tz": -330
    },
    "id": "9cfc052c"
   },
   "outputs": [],
   "source": [
    "\n",
    "merged['score_normalized'] = (merged['score'] - min(merged['score'])) / (max(merged['score']) - min(merged['score']))"
   ]
  },
  {
   "cell_type": "code",
   "execution_count": 35,
   "id": "60110d82",
   "metadata": {
    "colab": {
     "base_uri": "https://localhost:8080/",
     "height": 357
    },
    "executionInfo": {
     "elapsed": 25,
     "status": "ok",
     "timestamp": 1624253314742,
     "user": {
      "displayName": "Dhaval Patel",
      "photoUrl": "",
      "userId": "04407112961930931722"
     },
     "user_tz": -330
    },
    "id": "0dc87e04",
    "outputId": "6dc5fadb-7836-4952-8b26-65d27e0cffb6"
   },
   "outputs": [
    {
     "data": {
      "text/html": [
       "<div>\n",
       "<style scoped>\n",
       "    .dataframe tbody tr th:only-of-type {\n",
       "        vertical-align: middle;\n",
       "    }\n",
       "\n",
       "    .dataframe tbody tr th {\n",
       "        vertical-align: top;\n",
       "    }\n",
       "\n",
       "    .dataframe thead th {\n",
       "        text-align: right;\n",
       "    }\n",
       "</style>\n",
       "<table border=\"1\" class=\"dataframe\">\n",
       "  <thead>\n",
       "    <tr style=\"text-align: right;\">\n",
       "      <th></th>\n",
       "      <th>song_id</th>\n",
       "      <th>score</th>\n",
       "      <th>song</th>\n",
       "      <th>title</th>\n",
       "      <th>score_normalized</th>\n",
       "    </tr>\n",
       "  </thead>\n",
       "  <tbody>\n",
       "    <tr>\n",
       "      <th>0</th>\n",
       "      <td>2307</td>\n",
       "      <td>1.000000</td>\n",
       "      <td>SOBONKR12A58A7A7E0</td>\n",
       "      <td>You're The One</td>\n",
       "      <td>1.000000</td>\n",
       "    </tr>\n",
       "    <tr>\n",
       "      <th>249</th>\n",
       "      <td>23756</td>\n",
       "      <td>1.000000</td>\n",
       "      <td>SOQQPZA12A6D4F9B69</td>\n",
       "      <td>Travel Agent</td>\n",
       "      <td>1.000000</td>\n",
       "    </tr>\n",
       "    <tr>\n",
       "      <th>250</th>\n",
       "      <td>14240</td>\n",
       "      <td>1.000000</td>\n",
       "      <td>SOJUYXY12A8C143472</td>\n",
       "      <td>You Can Get Murked</td>\n",
       "      <td>1.000000</td>\n",
       "    </tr>\n",
       "    <tr>\n",
       "      <th>251</th>\n",
       "      <td>33972</td>\n",
       "      <td>1.000000</td>\n",
       "      <td>SOYPGAR12A6D4F742E</td>\n",
       "      <td>Se Dagen Kom</td>\n",
       "      <td>1.000000</td>\n",
       "    </tr>\n",
       "    <tr>\n",
       "      <th>255</th>\n",
       "      <td>19387</td>\n",
       "      <td>1.000000</td>\n",
       "      <td>SONLURB12A8C13C72E</td>\n",
       "      <td>Another Perfect Day</td>\n",
       "      <td>1.000000</td>\n",
       "    </tr>\n",
       "    <tr>\n",
       "      <th>256</th>\n",
       "      <td>16983</td>\n",
       "      <td>1.000000</td>\n",
       "      <td>SOLTEEM12A8C13A5BD</td>\n",
       "      <td>Are you Sleeping?</td>\n",
       "      <td>1.000000</td>\n",
       "    </tr>\n",
       "    <tr>\n",
       "      <th>257</th>\n",
       "      <td>11098</td>\n",
       "      <td>0.707107</td>\n",
       "      <td>SOHOXQK12A6D4FBF7C</td>\n",
       "      <td>Amerika (Album Version)</td>\n",
       "      <td>0.707107</td>\n",
       "    </tr>\n",
       "    <tr>\n",
       "      <th>262</th>\n",
       "      <td>12276</td>\n",
       "      <td>0.102598</td>\n",
       "      <td>SOIJVVR12A6701C2EE</td>\n",
       "      <td>Everything About You</td>\n",
       "      <td>0.102598</td>\n",
       "    </tr>\n",
       "    <tr>\n",
       "      <th>264</th>\n",
       "      <td>656</td>\n",
       "      <td>0.052200</td>\n",
       "      <td>SOALDLA12A6D4F8657</td>\n",
       "      <td>Loverboy</td>\n",
       "      <td>0.052200</td>\n",
       "    </tr>\n",
       "    <tr>\n",
       "      <th>266</th>\n",
       "      <td>11902</td>\n",
       "      <td>0.000000</td>\n",
       "      <td>SOICZHZ12AAA8C6654</td>\n",
       "      <td>Laichzeit</td>\n",
       "      <td>0.000000</td>\n",
       "    </tr>\n",
       "  </tbody>\n",
       "</table>\n",
       "</div>"
      ],
      "text/plain": [
       "     song_id     score  ...                    title score_normalized\n",
       "0       2307  1.000000  ...           You're The One         1.000000\n",
       "249    23756  1.000000  ...             Travel Agent         1.000000\n",
       "250    14240  1.000000  ...       You Can Get Murked         1.000000\n",
       "251    33972  1.000000  ...             Se Dagen Kom         1.000000\n",
       "255    19387  1.000000  ...      Another Perfect Day         1.000000\n",
       "256    16983  1.000000  ...        Are you Sleeping?         1.000000\n",
       "257    11098  0.707107  ...  Amerika (Album Version)         0.707107\n",
       "262    12276  0.102598  ...     Everything About You         0.102598\n",
       "264      656  0.052200  ...                 Loverboy         0.052200\n",
       "266    11902  0.000000  ...                Laichzeit         0.000000\n",
       "\n",
       "[10 rows x 5 columns]"
      ]
     },
     "execution_count": 35,
     "metadata": {
      "tags": []
     },
     "output_type": "execute_result"
    }
   ],
   "source": [
    "merged"
   ]
  }
 ],
 "metadata": {
  "accelerator": "GPU",
  "colab": {
   "collapsed_sections": [],
   "machine_shape": "hm",
   "name": "Memory_Based_RS_PD.ipynb",
   "provenance": []
  },
  "kernelspec": {
   "display_name": "Python 3",
   "language": "python",
   "name": "python3"
  },
  "language_info": {
   "codemirror_mode": {
    "name": "ipython",
    "version": 3
   },
   "file_extension": ".py",
   "mimetype": "text/x-python",
   "name": "python",
   "nbconvert_exporter": "python",
   "pygments_lexer": "ipython3",
   "version": "3.8.5"
  }
 },
 "nbformat": 4,
 "nbformat_minor": 5
}
